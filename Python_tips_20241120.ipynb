{
  "nbformat": 4,
  "nbformat_minor": 0,
  "metadata": {
    "colab": {
      "provenance": [],
      "authorship_tag": "ABX9TyMAGzH06MbVHiN7CJgbmLvL",
      "include_colab_link": true
    },
    "kernelspec": {
      "name": "python3",
      "display_name": "Python 3"
    },
    "language_info": {
      "name": "python"
    }
  },
  "cells": [
    {
      "cell_type": "markdown",
      "metadata": {
        "id": "view-in-github",
        "colab_type": "text"
      },
      "source": [
        "<a href=\"https://colab.research.google.com/github/szh141/Examples/blob/main/Python_tips_20241120.ipynb\" target=\"_parent\"><img src=\"https://colab.research.google.com/assets/colab-badge.svg\" alt=\"Open In Colab\"/></a>"
      ]
    },
    {
      "cell_type": "markdown",
      "source": [
        "https://medium.com/@ccpythonprogramming/efficient-python-coding-tips-for-developers-bb9f99f4a42e"
      ],
      "metadata": {
        "id": "8hsg1JrQOCKG"
      }
    },
    {
      "cell_type": "code",
      "execution_count": 2,
      "metadata": {
        "colab": {
          "base_uri": "https://localhost:8080/"
        },
        "id": "Dnst_d9qOBR3",
        "outputId": "d02ff91f-0108-44c6-e160-18bf6fd316b5"
      },
      "outputs": [
        {
          "output_type": "stream",
          "name": "stdout",
          "text": [
            "{'apple': 3, 'banana': 2, 'orange': 1}\n",
            "Counter({'apple': 3, 'banana': 2, 'orange': 1})\n"
          ]
        }
      ],
      "source": [
        "#Long Way: Manual Counting with Dictionaries\n",
        "\n",
        "words = ['apple', 'banana', 'apple', 'orange', 'banana', 'apple']\n",
        "word_count = {}\n",
        "for word in words:\n",
        "    if word in word_count:\n",
        "        word_count[word] += 1\n",
        "    else:\n",
        "        word_count[word] = 1\n",
        "print(word_count)\n",
        "\n",
        "#Condensed Way: Using Counter\n",
        "\n",
        "from collections import Counter\n",
        "words = ['apple', 'banana', 'apple', 'orange', 'banana', 'apple']\n",
        "word_count = Counter(words)\n",
        "print(word_count)"
      ]
    },
    {
      "cell_type": "code",
      "source": [
        "#Long Way: Using Lists for checking overlap\n",
        "\n",
        "list1 = [1, 2, 3, 4, 5] # the result is different if add another '4' in the list\n",
        "list2 = [4, 5, 6, 7, 8]\n",
        "common_elements = []\n",
        "for item in list1:\n",
        "    if item in list2:\n",
        "        common_elements.append(item)\n",
        "print(common_elements)\n",
        "\n",
        "#Condensed Way: Using Sets\n",
        "\n",
        "set1 = {1, 2, 3, 4, 5}\n",
        "set2 = {4, 5, 6, 7, 8}\n",
        "common_elements = set1 & set2\n",
        "print(common_elements)"
      ],
      "metadata": {
        "colab": {
          "base_uri": "https://localhost:8080/"
        },
        "id": "03GNH1v1Oez3",
        "outputId": "b3730fa7-0b61-4d6a-89bc-4c87a6f7d724"
      },
      "execution_count": 5,
      "outputs": [
        {
          "output_type": "stream",
          "name": "stdout",
          "text": [
            "[4, 5]\n",
            "{4, 5}\n"
          ]
        }
      ]
    },
    {
      "cell_type": "code",
      "source": [
        "students = [\n",
        "    {'name': 'John', 'grade': 90},\n",
        "    {'name': 'Jane', 'grade': 85},\n",
        "    {'name': 'Dave', 'grade': 92}\n",
        "]\n",
        "\n",
        "sorted_students = sorted(students, key=lambda student: student['grade'])\n",
        "print(sorted_students)"
      ],
      "metadata": {
        "colab": {
          "base_uri": "https://localhost:8080/"
        },
        "id": "1a3OE7kyPGGf",
        "outputId": "2875f3d8-8da4-4426-88f3-31504ee11131"
      },
      "execution_count": 6,
      "outputs": [
        {
          "output_type": "stream",
          "name": "stdout",
          "text": [
            "[{'name': 'Jane', 'grade': 85}, {'name': 'John', 'grade': 90}, {'name': 'Dave', 'grade': 92}]\n"
          ]
        }
      ]
    }
  ]
}