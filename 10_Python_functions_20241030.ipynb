{
  "nbformat": 4,
  "nbformat_minor": 0,
  "metadata": {
    "colab": {
      "provenance": [],
      "authorship_tag": "ABX9TyOFEIQ9bZts0hEicVlMt0Qj",
      "include_colab_link": true
    },
    "kernelspec": {
      "name": "python3",
      "display_name": "Python 3"
    },
    "language_info": {
      "name": "python"
    }
  },
  "cells": [
    {
      "cell_type": "markdown",
      "metadata": {
        "id": "view-in-github",
        "colab_type": "text"
      },
      "source": [
        "<a href=\"https://colab.research.google.com/github/szh141/Examples/blob/main/10_Python_functions_20241030.ipynb\" target=\"_parent\"><img src=\"https://colab.research.google.com/assets/colab-badge.svg\" alt=\"Open In Colab\"/></a>"
      ]
    },
    {
      "cell_type": "markdown",
      "source": [
        "https://medium.com/@yaduvanshineelam09/10-python-functions-every-data-scientist-must-memorize-fc5ff51d6c91\n",
        "\n",
        "list()\n",
        "https://www.geeksforgeeks.org/python-list-function/\n",
        "\n",
        "map() vs for loop\n",
        "https://stackoverflow.com/questions/1975250/when-should-i-use-a-map-instead-of-a-for-loop"
      ],
      "metadata": {
        "id": "Qcg7JF6bSfuM"
      }
    },
    {
      "cell_type": "markdown",
      "source": [
        "# 1. Print() and sep=' : ) '"
      ],
      "metadata": {
        "id": "lLnSqlbfTT1s"
      }
    },
    {
      "cell_type": "code",
      "source": [
        "def display_sales_info(product, sales, revenue):\n",
        "    print('Product ', product, sep=':) ')\n",
        "    print('Total Sales', sales, sep=':')\n",
        "    print('Total Revenue ', revenue, sep='-->')\n",
        "display_sales_info('Laptop', 1500, '3000 USD')"
      ],
      "metadata": {
        "colab": {
          "base_uri": "https://localhost:8080/"
        },
        "id": "4zsJlpPnTeFb",
        "outputId": "0936c517-5984-4198-ebcb-71b19411410c"
      },
      "execution_count": 9,
      "outputs": [
        {
          "output_type": "stream",
          "name": "stdout",
          "text": [
            "Product :) Laptop\n",
            "Total Sales:1500\n",
            "Total Revenue -->3000 USD\n"
          ]
        }
      ]
    },
    {
      "cell_type": "markdown",
      "source": [
        "# 2. Help()"
      ],
      "metadata": {
        "id": "YGLDoBucSyr0"
      }
    },
    {
      "cell_type": "code",
      "execution_count": 3,
      "metadata": {
        "colab": {
          "base_uri": "https://localhost:8080/"
        },
        "id": "YVEwOr5_SW4Z",
        "outputId": "cdd641fd-d9b2-4cc6-a6fe-f4d2b37bc2f8"
      },
      "outputs": [
        {
          "output_type": "stream",
          "name": "stdout",
          "text": [
            "Help on function calculate_discounted_price in module __main__:\n",
            "\n",
            "calculate_discounted_price(price, discount)\n",
            "    Calculate the discounted price of a product. \n",
            "    price: original price of the product \n",
            "    discount: discount percentage to be applied returns: float\n",
            "\n"
          ]
        }
      ],
      "source": [
        "def calculate_discounted_price(price, discount):\n",
        "  \"\"\" Calculate the discounted price of a product.\n",
        "      price: original price of the product\n",
        "      discount: discount percentage to be applied returns: float\n",
        "  \"\"\"\n",
        "  return price * (1 - discount / 100)\n",
        "\n",
        "# Example of using the help function\n",
        "help(calculate_discounted_price)"
      ]
    },
    {
      "cell_type": "markdown",
      "source": [
        "# 3. Range ()"
      ],
      "metadata": {
        "id": "1__LJb51T9ET"
      }
    },
    {
      "cell_type": "code",
      "source": [
        "print(range(5))\n",
        "print(list(range(5)))\n",
        "print(list(range(5,9)))"
      ],
      "metadata": {
        "colab": {
          "base_uri": "https://localhost:8080/"
        },
        "id": "GcohInVLT6C7",
        "outputId": "34c13e20-7c8d-4dc7-ab15-1e31ac650f4e"
      },
      "execution_count": 12,
      "outputs": [
        {
          "output_type": "stream",
          "name": "stdout",
          "text": [
            "range(0, 5)\n",
            "[0, 1, 2, 3, 4]\n",
            "[5, 6, 7, 8]\n"
          ]
        }
      ]
    },
    {
      "cell_type": "markdown",
      "source": [
        "#4. Map()\n",
        "map() vs for loop\n",
        "\n",
        "lamda function\n",
        "\n",
        "list()"
      ],
      "metadata": {
        "id": "rIAzVYU2UdT_"
      }
    },
    {
      "cell_type": "code",
      "source": [
        "def apply_discount(prices, discount):\n",
        " return list(map(lambda x: x * (1 - discount / 100), prices))\n",
        "\n",
        "print(apply_discount([100, 200, 300, 400, 500], 10)) # Apply a 10% discount"
      ],
      "metadata": {
        "colab": {
          "base_uri": "https://localhost:8080/"
        },
        "id": "ao4xsXtCT72i",
        "outputId": "b0a31ac8-d927-4c16-a32b-8508bdae93b4"
      },
      "execution_count": 13,
      "outputs": [
        {
          "output_type": "stream",
          "name": "stdout",
          "text": [
            "[90.0, 180.0, 270.0, 360.0, 450.0]\n"
          ]
        }
      ]
    },
    {
      "cell_type": "markdown",
      "source": [
        "#5. Filter()\n",
        "\n",
        "lamda x\n",
        "\n",
        "list()"
      ],
      "metadata": {
        "id": "1fqq8ty3W-bs"
      }
    },
    {
      "cell_type": "code",
      "source": [
        "def filter_high_sales(sales, threshold):\n",
        " return list(filter(lambda x: x > threshold, sales))\n",
        "\n",
        "print(filter_high_sales([100, 200, 50, 300, 150], 150)) # Filter sales greater than 150"
      ],
      "metadata": {
        "colab": {
          "base_uri": "https://localhost:8080/"
        },
        "id": "c795TRnXW7nr",
        "outputId": "1b3880c4-ade4-4269-da7e-5af638874ad9"
      },
      "execution_count": 14,
      "outputs": [
        {
          "output_type": "stream",
          "name": "stdout",
          "text": [
            "[200, 300]\n"
          ]
        }
      ]
    },
    {
      "cell_type": "markdown",
      "source": [
        "#6. Sorted()\n",
        "\n",
        "lambda x or lambda word\n",
        "\n",
        "don't need list()"
      ],
      "metadata": {
        "id": "xDpMwopbXMK0"
      }
    },
    {
      "cell_type": "code",
      "source": [
        "a = [\"apple\", \"kiwi\", \"cherry\", \"pineapple\"]\n",
        "\n",
        "# Sorting using custom function\n",
        "def fun(word):\n",
        "    return word[-1]\n",
        "\n",
        "res = sorted(a, key=fun)\n",
        "print(\"Sorted using custom function:\", res)\n",
        "\n",
        "# Sorting using lambda function\n",
        "res = sorted(a, key=lambda word: word[-1])\n",
        "print(\"Sorted using lambda function:\", res)"
      ],
      "metadata": {
        "colab": {
          "base_uri": "https://localhost:8080/"
        },
        "id": "nPn_nFA-XLi7",
        "outputId": "be19f6a8-7d07-4852-ee8d-78ab1c94abfb"
      },
      "execution_count": 15,
      "outputs": [
        {
          "output_type": "stream",
          "name": "stdout",
          "text": [
            "Sorted using custom function: ['apple', 'pineapple', 'kiwi', 'cherry']\n",
            "Sorted using lambda function: ['apple', 'pineapple', 'kiwi', 'cherry']\n"
          ]
        }
      ]
    },
    {
      "cell_type": "markdown",
      "source": [
        "#7. Enumerate()"
      ],
      "metadata": {
        "id": "YRMNgo6eYzKO"
      }
    },
    {
      "cell_type": "markdown",
      "source": [
        "#8. Zip()"
      ],
      "metadata": {
        "id": "kjXd1v9wY10E"
      }
    }
  ]
}