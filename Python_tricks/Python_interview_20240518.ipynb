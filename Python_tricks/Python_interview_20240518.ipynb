{
  "nbformat": 4,
  "nbformat_minor": 0,
  "metadata": {
    "colab": {
      "provenance": [],
      "authorship_tag": "ABX9TyNCS+EKCSKJZANuFn2REDpy",
      "include_colab_link": true
    },
    "kernelspec": {
      "name": "python3",
      "display_name": "Python 3"
    },
    "language_info": {
      "name": "python"
    }
  },
  "cells": [
    {
      "cell_type": "markdown",
      "metadata": {
        "id": "view-in-github",
        "colab_type": "text"
      },
      "source": [
        "<a href=\"https://colab.research.google.com/github/szh141/Examples/blob/main/Python_tricks/Python_interview_20240518.ipynb\" target=\"_parent\"><img src=\"https://colab.research.google.com/assets/colab-badge.svg\" alt=\"Open In Colab\"/></a>"
      ]
    },
    {
      "cell_type": "markdown",
      "source": [
        "https://python.plainenglish.io/not-another-python-interview-guide-top-501-problems-to-solve-part-1-24441d435932"
      ],
      "metadata": {
        "id": "WOZTUnue5CYP"
      }
    },
    {
      "cell_type": "code",
      "execution_count": 17,
      "metadata": {
        "id": "QMzMnnPj1xGv"
      },
      "outputs": [],
      "source": [
        "# check for prime number\n",
        "\n",
        "def if_prime(num):\n",
        "  a = 0\n",
        "  if num < 2:\n",
        "    print(f'{num} is not a prime number')\n",
        "  else:\n",
        "    for i in range(2,num):\n",
        "      if num%i ==0:\n",
        "        a+=1\n",
        "    if a>0:\n",
        "      print(f'{num} is a not prime number')\n",
        "    else:\n",
        "      print(f'{num} is a prime number')\n"
      ]
    },
    {
      "cell_type": "code",
      "source": [
        "if_prime(99)"
      ],
      "metadata": {
        "colab": {
          "base_uri": "https://localhost:8080/"
        },
        "id": "QAr67bCw2gr3",
        "outputId": "0e0fc927-107b-40cc-c6f6-3e563e1eb6dc"
      },
      "execution_count": 24,
      "outputs": [
        {
          "output_type": "stream",
          "name": "stdout",
          "text": [
            "99 is a not prime number\n"
          ]
        }
      ]
    }
  ]
}