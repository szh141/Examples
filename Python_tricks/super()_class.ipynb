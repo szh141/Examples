{
  "nbformat": 4,
  "nbformat_minor": 0,
  "metadata": {
    "colab": {
      "provenance": [],
      "authorship_tag": "ABX9TyPLyKT5Cq46ucxKE+UmoQML",
      "include_colab_link": true
    },
    "kernelspec": {
      "name": "python3",
      "display_name": "Python 3"
    },
    "language_info": {
      "name": "python"
    }
  },
  "cells": [
    {
      "cell_type": "markdown",
      "metadata": {
        "id": "view-in-github",
        "colab_type": "text"
      },
      "source": [
        "<a href=\"https://colab.research.google.com/github/szh141/Examples/blob/main/Python_tricks/super()_class.ipynb\" target=\"_parent\"><img src=\"https://colab.research.google.com/assets/colab-badge.svg\" alt=\"Open In Colab\"/></a>"
      ]
    },
    {
      "cell_type": "markdown",
      "source": [
        "https://sarangsurve.medium.com/python-basics-what-is-super-4c456d5210fe"
      ],
      "metadata": {
        "id": "gwJuIRVfWqNC"
      }
    },
    {
      "cell_type": "code",
      "execution_count": 1,
      "metadata": {
        "colab": {
          "base_uri": "https://localhost:8080/"
        },
        "id": "zdrSkaJSWmMT",
        "outputId": "4bdf9f11-b698-4c28-cc87-7df57b6956d0"
      },
      "outputs": [
        {
          "output_type": "stream",
          "name": "stdout",
          "text": [
            "Whiskey says \n",
            "Woof happily\n"
          ]
        }
      ],
      "source": [
        "# main.py\n",
        "class Animal:\n",
        "  def __init__(self,name):\n",
        "    self.name = name\n",
        "\n",
        "  def speak(self):\n",
        "    print(self.name+\" says \")\n",
        "\n",
        "class Dog(Animal):\n",
        "  def __init__(self, name, emotion):\n",
        "    super().__init__(name) # Calls the parent class's constructor\n",
        "    self.emotion = emotion\n",
        "\n",
        "  def speak(self):\n",
        "    super().speak()\n",
        "    print(\"Woof \"+self.emotion)\n",
        "\n",
        "dog_instance = Dog(\"Whiskey\", \"happily\")\n",
        "dog_instance.speak()"
      ]
    }
  ]
}