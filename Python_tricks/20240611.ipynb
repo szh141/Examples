{
  "nbformat": 4,
  "nbformat_minor": 0,
  "metadata": {
    "colab": {
      "provenance": [],
      "authorship_tag": "ABX9TyN9MXYXltjejMAKFJX+f4i6",
      "include_colab_link": true
    },
    "kernelspec": {
      "name": "python3",
      "display_name": "Python 3"
    },
    "language_info": {
      "name": "python"
    }
  },
  "cells": [
    {
      "cell_type": "markdown",
      "metadata": {
        "id": "view-in-github",
        "colab_type": "text"
      },
      "source": [
        "<a href=\"https://colab.research.google.com/github/szh141/Examples/blob/main/Python_tricks/20240611.ipynb\" target=\"_parent\"><img src=\"https://colab.research.google.com/assets/colab-badge.svg\" alt=\"Open In Colab\"/></a>"
      ]
    },
    {
      "cell_type": "markdown",
      "source": [
        "Write a Python function to find the second non-repeating character in a given string\n",
        "\n",
        "By creating a frequency dictionary and then checking which character has a frequency of one."
      ],
      "metadata": {
        "id": "okWhvO6uMuBg"
      }
    },
    {
      "cell_type": "code",
      "execution_count": 13,
      "metadata": {
        "id": "iwIBXax-MrW8"
      },
      "outputs": [],
      "source": [
        "def func(s):\n",
        "  frequency = {}\n",
        "  for char in s:\n",
        "    if char in frequency:\n",
        "      frequency[char] +=1\n",
        "    else:\n",
        "      frequency[char] = 1\n",
        "  list_a =[]\n",
        "  for char in s:\n",
        "    if frequency[char] == 1:\n",
        "      list_a.append(char)\n",
        "  if len(list_a) >1:\n",
        "    return list_a[1]\n",
        "  else:\n",
        "    return None"
      ]
    },
    {
      "cell_type": "code",
      "source": [
        "s = 'hhello'\n",
        "func(s)"
      ],
      "metadata": {
        "colab": {
          "base_uri": "https://localhost:8080/",
          "height": 35
        },
        "id": "GhbHNGDRN-aJ",
        "outputId": "991f4ed9-1c1c-4e1f-dea4-70868863ca57"
      },
      "execution_count": 15,
      "outputs": [
        {
          "output_type": "execute_result",
          "data": {
            "text/plain": [
              "'o'"
            ],
            "application/vnd.google.colaboratory.intrinsic+json": {
              "type": "string"
            }
          },
          "metadata": {},
          "execution_count": 15
        }
      ]
    }
  ]
}