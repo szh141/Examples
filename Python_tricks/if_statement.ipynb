{
  "nbformat": 4,
  "nbformat_minor": 0,
  "metadata": {
    "colab": {
      "provenance": [],
      "mount_file_id": "1KmKtm9SeQM2QLU3tAAskWFccSJsBkYLR",
      "authorship_tag": "ABX9TyM+daACDj1Ll4tV4qyiegF+",
      "include_colab_link": true
    },
    "kernelspec": {
      "name": "python3",
      "display_name": "Python 3"
    },
    "language_info": {
      "name": "python"
    }
  },
  "cells": [
    {
      "cell_type": "markdown",
      "metadata": {
        "id": "view-in-github",
        "colab_type": "text"
      },
      "source": [
        "<a href=\"https://colab.research.google.com/github/szh141/Examples/blob/main/Python_tricks/if_statement.ipynb\" target=\"_parent\"><img src=\"https://colab.research.google.com/assets/colab-badge.svg\" alt=\"Open In Colab\"/></a>"
      ]
    },
    {
      "cell_type": "markdown",
      "source": [
        "https://python.plainenglish.io/10-if-else-practice-problems-in-python-7f882e828d6a"
      ],
      "metadata": {
        "id": "OX7YwgyfZsjq"
      }
    },
    {
      "cell_type": "markdown",
      "source": [
        "Write a program that asks the user for their height in centimeters. If the height is more than 185 centimeters, print “You are very tall.”"
      ],
      "metadata": {
        "id": "j8N-mpWVYsd8"
      }
    },
    {
      "cell_type": "code",
      "source": [
        "height = input('Enter your height in centimeters ')\n",
        "h = int(height)\n",
        "if h>285:\n",
        "  print('You are kidding')\n",
        "elif h<185:\n",
        "  print('Not very tall')\n",
        "elif h>185:\n",
        "  print('You are very tall')\n"
      ],
      "metadata": {
        "colab": {
          "base_uri": "https://localhost:8080/"
        },
        "id": "BlKSi6C9YtMo",
        "outputId": "fa4fef50-4b84-449f-fc30-a5c86aa0df45"
      },
      "execution_count": 36,
      "outputs": [
        {
          "output_type": "stream",
          "name": "stdout",
          "text": [
            "Enter your height in centimeters 199\n",
            "You are very tall\n"
          ]
        }
      ]
    },
    {
      "cell_type": "markdown",
      "source": [
        "Write a function return_bigger(a, b) that takes two numbers and returns the larger one. If the numbers are equal, return 0."
      ],
      "metadata": {
        "id": "aCGFPYNaT6Ov"
      }
    },
    {
      "cell_type": "code",
      "source": [
        "def return_bigger(a, b):\n",
        "    if a > b:\n",
        "        return a\n",
        "    elif b > a:\n",
        "        return b\n",
        "    else:\n",
        "        return 0\n",
        "\n",
        "return_bigger(2,5)"
      ],
      "metadata": {
        "colab": {
          "base_uri": "https://localhost:8080/"
        },
        "id": "NZkqeeuixdC1",
        "outputId": "1bbbff8f-e86a-4c69-a0ed-4feb96026ec8"
      },
      "execution_count": 6,
      "outputs": [
        {
          "output_type": "execute_result",
          "data": {
            "text/plain": [
              "5"
            ]
          },
          "metadata": {},
          "execution_count": 6
        }
      ]
    },
    {
      "cell_type": "markdown",
      "source": [
        "Write a function get_character_frequencies() that takes a string and returns a dictionary of character frequencies."
      ],
      "metadata": {
        "id": "2nkFNd66UQGN"
      }
    },
    {
      "cell_type": "code",
      "source": [
        "def char_freq(string):\n",
        "  freq_dict={}\n",
        "  for char in string:\n",
        "    char = char.lower()\n",
        "    if char not in freq_dict:\n",
        "      freq_dict[char] = 1 # square bracket\n",
        "    else:\n",
        "      freq_dict[char] +=1\n",
        "  return freq_dict\n",
        "\n",
        "print(char_freq('HeLLo the world'))"
      ],
      "metadata": {
        "colab": {
          "base_uri": "https://localhost:8080/"
        },
        "id": "pSMtgz36UQxG",
        "outputId": "2ffd0f3d-e03f-4b5e-d0d0-eca24c9f0d63"
      },
      "execution_count": 14,
      "outputs": [
        {
          "output_type": "stream",
          "name": "stdout",
          "text": [
            "{'h': 2, 'e': 2, 'l': 3, 'o': 2, ' ': 2, 't': 1, 'w': 1, 'r': 1, 'd': 1}\n"
          ]
        }
      ]
    },
    {
      "cell_type": "markdown",
      "source": [
        "Write a program that asks for a positive integer and prints all its divisors in ascending order."
      ],
      "metadata": {
        "id": "lZAX91l_V9Vv"
      }
    },
    {
      "cell_type": "code",
      "source": [
        "def divisor_finder (num):\n",
        "  for i in range(1,num+1):\n",
        "    if num%i ==0:\n",
        "      print(i)\n",
        "\n",
        "test = input('enter a number')\n",
        "test = int(test)\n",
        "divisor_finder(test)"
      ],
      "metadata": {
        "colab": {
          "base_uri": "https://localhost:8080/"
        },
        "id": "JNJk3LkkV9z6",
        "outputId": "f43e887c-77d6-4695-dc63-e8c867901dbd"
      },
      "execution_count": 17,
      "outputs": [
        {
          "output_type": "stream",
          "name": "stdout",
          "text": [
            "enter a number9\n",
            "1\n",
            "3\n",
            "9\n"
          ]
        }
      ]
    }
  ]
}