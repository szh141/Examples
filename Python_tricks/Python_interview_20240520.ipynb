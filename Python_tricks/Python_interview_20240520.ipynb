{
  "nbformat": 4,
  "nbformat_minor": 0,
  "metadata": {
    "colab": {
      "provenance": [],
      "authorship_tag": "ABX9TyOL6nt45NlngH/3o7l2dwXr",
      "include_colab_link": true
    },
    "kernelspec": {
      "name": "python3",
      "display_name": "Python 3"
    },
    "language_info": {
      "name": "python"
    }
  },
  "cells": [
    {
      "cell_type": "markdown",
      "metadata": {
        "id": "view-in-github",
        "colab_type": "text"
      },
      "source": [
        "<a href=\"https://colab.research.google.com/github/szh141/Examples/blob/main/Python_tricks/Python_interview_20240520.ipynb\" target=\"_parent\"><img src=\"https://colab.research.google.com/assets/colab-badge.svg\" alt=\"Open In Colab\"/></a>"
      ]
    },
    {
      "cell_type": "code",
      "execution_count": null,
      "metadata": {
        "colab": {
          "base_uri": "https://localhost:8080/"
        },
        "id": "kLSuBnI2_8_6",
        "outputId": "a14c06b8-e922-42f1-b168-84d302b7f6e7"
      },
      "outputs": [
        {
          "output_type": "stream",
          "name": "stdout",
          "text": [
            "Not a palindrome\n",
            "it is a palindrome\n"
          ]
        }
      ],
      "source": [
        "# check for palindrome\n",
        "\n",
        "def is_palindrome(a):\n",
        "  if a == a[::-1]:\n",
        "    print ('it is a palindrome')\n",
        "  else:\n",
        "    print ('Not a palindrome')\n",
        "\n",
        "a = 'hello'\n",
        "b = 'radar'\n",
        "\n",
        "is_palindrome(a)\n",
        "is_palindrome(b)"
      ]
    },
    {
      "cell_type": "markdown",
      "source": [
        "Python set() function\n",
        "https://www.geeksforgeeks.org/python-set-function/"
      ],
      "metadata": {
        "id": "pc4ph70wESy_"
      }
    },
    {
      "cell_type": "code",
      "source": [
        "# working of set() on list\n",
        "\n",
        "lis1 = [ 3, 4, 1, 4, 5 ]\n",
        "\n",
        "# Printing iterables before conversion\n",
        "print(\"The list before conversion is : \" + str(lis1))\n",
        "\n",
        "# Iterables after conversion are\n",
        "# notice distinct and elements\n",
        "print(\"The list after conversion is : \" + str(set(lis1)))\n"
      ],
      "metadata": {
        "colab": {
          "base_uri": "https://localhost:8080/"
        },
        "id": "zSBtk1DgA2R-",
        "outputId": "fc464e2d-88a7-47fb-edce-ef7437ae919b"
      },
      "execution_count": null,
      "outputs": [
        {
          "output_type": "stream",
          "name": "stdout",
          "text": [
            "The list before conversion is : [3, 4, 1, 4, 5]\n",
            "The list after conversion is : {1, 3, 4, 5}\n"
          ]
        }
      ]
    },
    {
      "cell_type": "code",
      "source": [
        "# working of set() on range\n",
        "\n",
        "# initializing range\n",
        "r = range(5)\n",
        "\n",
        "\n",
        "# notice distinct and elements\n",
        "print(\"The Range before conversion is : \" + str(r))\n",
        "\n",
        "r=set(r)\n",
        "# Iterables after conversion are\n",
        "print(\"The Range after conversion is : \" + str(r))"
      ],
      "metadata": {
        "colab": {
          "base_uri": "https://localhost:8080/"
        },
        "id": "McFLXWVLBVYS",
        "outputId": "c9fb00f5-fd79-4efe-fa80-9fbd239b48c8"
      },
      "execution_count": null,
      "outputs": [
        {
          "output_type": "stream",
          "name": "stdout",
          "text": [
            "The Range before conversion is : range(0, 5)\n",
            "The Range after conversion is : {0, 1, 2, 3, 4}\n"
          ]
        }
      ]
    },
    {
      "cell_type": "markdown",
      "source": [
        "python sort() only accepts list, not set()\n",
        "\n",
        "alphabets = ['a','e','d','c','b']\n",
        "alphabets.sort()\n",
        "print(alphabets)\n",
        "  \n",
        "random_numbers = [2,5,6,1,8,3]\n",
        "random_numbers.sort()\n",
        "print(random_numbers)\n",
        "\n",
        "==========================================\n",
        "\n",
        "python sorted() accepts set as well, returns a list\n",
        "\n",
        "unique_sorted = sorted(set(lst), reverse=True)"
      ],
      "metadata": {
        "id": "JrXqQvc7HH2M"
      }
    },
    {
      "cell_type": "code",
      "source": [
        "#Proposed solution by github.com/tushar2704\n",
        "def second_highest(lst):\n",
        "    unique_sorted = sorted(set(lst), reverse=True)\n",
        "    return unique_sorted[1] if len(unique_sorted) > 1 else None\n",
        "\n",
        "# Example usage:\n",
        "print(second_highest([1, 2, 3, 4, 5]))  # Output: 4\n",
        "print(second_highest([5, 5, 5, 5]))     # Output: None"
      ],
      "metadata": {
        "colab": {
          "base_uri": "https://localhost:8080/"
        },
        "id": "pL3GTqwjC_Hm",
        "outputId": "3ed54bd4-ec11-4ab0-f7da-09718daa523d"
      },
      "execution_count": null,
      "outputs": [
        {
          "output_type": "stream",
          "name": "stdout",
          "text": [
            "4\n",
            "None\n"
          ]
        }
      ]
    },
    {
      "cell_type": "markdown",
      "source": [],
      "metadata": {
        "id": "tKPhJKWjE-gq"
      }
    }
  ]
}