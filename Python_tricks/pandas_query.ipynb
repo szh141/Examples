{
  "nbformat": 4,
  "nbformat_minor": 0,
  "metadata": {
    "colab": {
      "provenance": [],
      "authorship_tag": "ABX9TyON7GhiVRXf486CFofnJYl+",
      "include_colab_link": true
    },
    "kernelspec": {
      "name": "python3",
      "display_name": "Python 3"
    },
    "language_info": {
      "name": "python"
    }
  },
  "cells": [
    {
      "cell_type": "markdown",
      "metadata": {
        "id": "view-in-github",
        "colab_type": "text"
      },
      "source": [
        "<a href=\"https://colab.research.google.com/github/szh141/Examples/blob/main/Python_tricks/pandas_query.ipynb\" target=\"_parent\"><img src=\"https://colab.research.google.com/assets/colab-badge.svg\" alt=\"Open In Colab\"/></a>"
      ]
    },
    {
      "cell_type": "code",
      "execution_count": 1,
      "metadata": {
        "colab": {
          "base_uri": "https://localhost:8080/"
        },
        "id": "1Gthj1Pl3P1C",
        "outputId": "404bc502-9129-48be-d26a-9d4ac363c43d"
      },
      "outputs": [
        {
          "output_type": "stream",
          "name": "stdout",
          "text": [
            "Create DataFrame:\n",
            "    Courses    Fee Duration  Discount\n",
            "0    Spark  22000   30days      1000\n",
            "1  PySpark  25000   50days      2300\n",
            "2   Hadoop  23000   30days      1000\n",
            "3   Python  24000     None      1200\n",
            "4   Pandas  26000      NaN      2500\n"
          ]
        }
      ],
      "source": [
        "import pandas as pd\n",
        "import numpy as np\n",
        "technologies= {\n",
        "    'Courses':[\"Spark\",\"PySpark\",\"Hadoop\",\"Python\",\"Pandas\"],\n",
        "    'Fee' :[22000,25000,23000,24000,26000],\n",
        "    'Duration':['30days','50days','30days', None,np.nan],\n",
        "    'Discount':[1000,2300,1000,1200,2500]\n",
        "          }\n",
        "df = pd.DataFrame(technologies)\n",
        "print(\"Create DataFrame:\\n\", df)\n"
      ]
    },
    {
      "cell_type": "code",
      "source": [
        "# Query Rows using DataFrame.query()\n",
        "df2=df.query(\"Courses == 'Spark'\")\n",
        "\n",
        "print(\"Create DataFrame:\\n\", df2)\n",
        "\n",
        "# Using variable\n",
        "value='Spark'\n",
        "df3=df.query(\"Courses == @value\")\n",
        "print(\"Create DataFrame:\\n\", df3)"
      ],
      "metadata": {
        "colab": {
          "base_uri": "https://localhost:8080/"
        },
        "id": "jEo4hjpi39s8",
        "outputId": "fd09fec5-4241-41fe-f154-f4de06e46c1a"
      },
      "execution_count": 2,
      "outputs": [
        {
          "output_type": "stream",
          "name": "stdout",
          "text": [
            "Create DataFrame:\n",
            "   Courses    Fee Duration  Discount\n",
            "0   Spark  22000   30days      1000\n",
            "Create DataFrame:\n",
            "   Courses    Fee Duration  Discount\n",
            "0   Spark  22000   30days      1000\n"
          ]
        }
      ]
    },
    {
      "cell_type": "code",
      "source": [
        "\n",
        "# Inpace\n",
        "df4=df\n",
        "df4.query(\"Courses == 'Spark'\",inplace=True)\n",
        "print(\"Create DataFrame:\\n\", df4)"
      ],
      "metadata": {
        "colab": {
          "base_uri": "https://localhost:8080/"
        },
        "id": "i3pFQqS44ESU",
        "outputId": "6551ba32-d5cc-454f-8d4c-26f2006ed5fc"
      },
      "execution_count": 3,
      "outputs": [
        {
          "output_type": "stream",
          "name": "stdout",
          "text": [
            "Create DataFrame:\n",
            "   Courses    Fee Duration  Discount\n",
            "0   Spark  22000   30days      1000\n"
          ]
        }
      ]
    },
    {
      "cell_type": "code",
      "source": [
        "# Not equals, in & multiple conditions\n",
        "df.query(\"Courses != 'Spark'\")\n",
        "df.query(\"Courses in ('Spark','PySpark')\")\n",
        "df.query(\"`Courses Fee` >= 23000\")\n",
        "df.query(\"`Courses Fee` >= 23000 and `Courses Fee` <= 24000\")"
      ],
      "metadata": {
        "id": "23oCvPd14TRW"
      },
      "execution_count": null,
      "outputs": []
    }
  ]
}