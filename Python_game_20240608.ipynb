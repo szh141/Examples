{
  "nbformat": 4,
  "nbformat_minor": 0,
  "metadata": {
    "colab": {
      "provenance": [],
      "authorship_tag": "ABX9TyNB3nUS5QqDI4dh93V/z6Ac",
      "include_colab_link": true
    },
    "kernelspec": {
      "name": "python3",
      "display_name": "Python 3"
    },
    "language_info": {
      "name": "python"
    }
  },
  "cells": [
    {
      "cell_type": "markdown",
      "metadata": {
        "id": "view-in-github",
        "colab_type": "text"
      },
      "source": [
        "<a href=\"https://colab.research.google.com/github/szh141/Examples/blob/main/Python_game_20240608.ipynb\" target=\"_parent\"><img src=\"https://colab.research.google.com/assets/colab-badge.svg\" alt=\"Open In Colab\"/></a>"
      ]
    },
    {
      "cell_type": "markdown",
      "source": [
        "Write a Python function to find the second highest number in a list."
      ],
      "metadata": {
        "id": "F5aIr05Y1zNh"
      }
    },
    {
      "cell_type": "code",
      "execution_count": 15,
      "metadata": {
        "colab": {
          "base_uri": "https://localhost:8080/"
        },
        "id": "-_RnLqDm1rPn",
        "outputId": "0f38ca45-b434-4cce-d4ff-3823a7612f79"
      },
      "outputs": [
        {
          "output_type": "stream",
          "name": "stdout",
          "text": [
            "6\n"
          ]
        }
      ],
      "source": [
        "def find_2nd_highest(list_a):\n",
        "  unique = sorted(set(list_a),reverse=True)\n",
        "  return unique[1] if len(set(list_a))>1 else None\n",
        "\n",
        "test_list = [5,6,8,8,5]\n",
        "\n",
        "b = find_2nd_highest(test_list)\n",
        "print(b)"
      ]
    },
    {
      "cell_type": "markdown",
      "source": [
        "Write a Python function to count the number of vowels in a given string."
      ],
      "metadata": {
        "id": "6Cz1ZJfm23uu"
      }
    },
    {
      "cell_type": "code",
      "source": [
        "def find_vowel_count(str_a):\n",
        "  count = 0\n",
        "  for letter in str_a:\n",
        "    if letter.lower() in 'aeiou':\n",
        "      count+=1\n",
        "  return count\n",
        "\n",
        "test_str = 'fAntastic dAy'\n",
        "\n",
        "a = find_vowel_count(test_str)\n",
        "print(a)\n"
      ],
      "metadata": {
        "colab": {
          "base_uri": "https://localhost:8080/"
        },
        "id": "YI40Z8cq25jB",
        "outputId": "7b663533-906c-4d65-d367-021433ee3aa4"
      },
      "execution_count": 21,
      "outputs": [
        {
          "output_type": "stream",
          "name": "stdout",
          "text": [
            "4\n"
          ]
        }
      ]
    },
    {
      "cell_type": "markdown",
      "source": [
        "Write a Python function to find the common elements between two lists."
      ],
      "metadata": {
        "id": "iICXqu1q4wco"
      }
    },
    {
      "cell_type": "code",
      "source": [
        "def find_common(list_a,list_b):\n",
        "  common_list = []\n",
        "  for element in list_a:\n",
        "    if element in list_b:\n",
        "      common_list.append(element)\n",
        "  return common_list\n",
        "\n",
        "list_a = ['apple','banana','cherry','pear']\n",
        "list_b = ['apple','pear','cake']\n",
        "\n",
        "print(find_common(list_a,list_b))"
      ],
      "metadata": {
        "colab": {
          "base_uri": "https://localhost:8080/"
        },
        "id": "o0x-aViE4xoB",
        "outputId": "2defb6c8-290f-4fe8-8dd6-54c2e6a2dfeb"
      },
      "execution_count": 22,
      "outputs": [
        {
          "output_type": "stream",
          "name": "stdout",
          "text": [
            "['apple', 'pear']\n"
          ]
        }
      ]
    },
    {
      "cell_type": "code",
      "source": [
        "#Proposed solution by github.com/tushar2704\n",
        "def find_common_elements(list1, list2):\n",
        "    return list(set(list1) & set(list2))\n",
        "\n",
        "print(find_common_elements([1, 2, 3, 4], [3, 4, 5, 6]))  # Output: [3, 4]\n",
        "\n",
        "# set intersection to find common elements between two lists"
      ],
      "metadata": {
        "id": "qq7g4El-6AsS"
      },
      "execution_count": null,
      "outputs": []
    }
  ]
}