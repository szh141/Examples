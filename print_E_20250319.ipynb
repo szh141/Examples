{
  "nbformat": 4,
  "nbformat_minor": 0,
  "metadata": {
    "colab": {
      "provenance": [],
      "authorship_tag": "ABX9TyPlJVrY6KfZ6ig/vxzKiPIq",
      "include_colab_link": true
    },
    "kernelspec": {
      "name": "python3",
      "display_name": "Python 3"
    },
    "language_info": {
      "name": "python"
    }
  },
  "cells": [
    {
      "cell_type": "markdown",
      "metadata": {
        "id": "view-in-github",
        "colab_type": "text"
      },
      "source": [
        "<a href=\"https://colab.research.google.com/github/szh141/Examples/blob/main/print_E_20250319.ipynb\" target=\"_parent\"><img src=\"https://colab.research.google.com/assets/colab-badge.svg\" alt=\"Open In Colab\"/></a>"
      ]
    },
    {
      "cell_type": "markdown",
      "source": [
        "https://python.plainenglish.io/learn-python-by-printing-e-patterns-e4873227abc8"
      ],
      "metadata": {
        "id": "QJVTxMwn_6LS"
      }
    },
    {
      "cell_type": "code",
      "execution_count": 10,
      "metadata": {
        "colab": {
          "base_uri": "https://localhost:8080/"
        },
        "id": "kiUG6a0r8NAk",
        "outputId": "9be776fe-0a3c-4dc3-e8a2-cb639738ee00"
      },
      "outputs": [
        {
          "output_type": "stream",
          "name": "stdout",
          "text": [
            "what is the length? must be an odd number11\n",
            "***********\n",
            "*          \n",
            "*          \n",
            "*          \n",
            "*          \n",
            "***********\n",
            "*          \n",
            "*          \n",
            "*          \n",
            "*          \n",
            "***********\n"
          ]
        }
      ],
      "source": [
        "number = input('what is the length? must be an odd number')\n",
        "n = int(number)\n",
        "\n",
        "for i in range(n):\n",
        "    for j in range(n):\n",
        "        # Print '*' for top, middle, bottom rows, or the first column\n",
        "        if i == 0 or i == n-1 or i == n//2 or j == 0:\n",
        "            print(\"*\", end=\"\")\n",
        "        else:\n",
        "            print(\" \", end=\"\")\n",
        "    print()"
      ]
    }
  ]
}