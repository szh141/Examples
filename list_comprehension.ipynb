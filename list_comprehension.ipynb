{
  "nbformat": 4,
  "nbformat_minor": 0,
  "metadata": {
    "colab": {
      "provenance": [],
      "authorship_tag": "ABX9TyNQFlNnzvkg+gWjpQc9gA3D",
      "include_colab_link": true
    },
    "kernelspec": {
      "name": "python3",
      "display_name": "Python 3"
    },
    "language_info": {
      "name": "python"
    }
  },
  "cells": [
    {
      "cell_type": "markdown",
      "metadata": {
        "id": "view-in-github",
        "colab_type": "text"
      },
      "source": [
        "<a href=\"https://colab.research.google.com/github/szh141/Examples/blob/main/list_comprehension.ipynb\" target=\"_parent\"><img src=\"https://colab.research.google.com/assets/colab-badge.svg\" alt=\"Open In Colab\"/></a>"
      ]
    },
    {
      "cell_type": "markdown",
      "source": [
        "Example Usage\n",
        "\n",
        "Let’s say you want to create a list of squares for all even numbers from 0 to 9. Using list comprehension, this can be done in a single, readable line"
      ],
      "metadata": {
        "id": "Da_tTH7xmmhu"
      }
    },
    {
      "cell_type": "code",
      "execution_count": 1,
      "metadata": {
        "colab": {
          "base_uri": "https://localhost:8080/"
        },
        "id": "lFqF-lCvmb60",
        "outputId": "939e6eb8-ef20-4fd6-ab8b-c02e227e9aae"
      },
      "outputs": [
        {
          "output_type": "stream",
          "name": "stdout",
          "text": [
            "[0, 4, 16, 36, 64]\n"
          ]
        }
      ],
      "source": [
        "squares_of_even_numbers = [x**2 for x in range(10) if x % 2 == 0]\n",
        "print(squares_of_even_numbers)  # Output: [0, 4, 16, 36, 64]"
      ]
    },
    {
      "cell_type": "markdown",
      "source": [
        "Comparing with traiditional loop"
      ],
      "metadata": {
        "id": "Az7lMHCxmslf"
      }
    },
    {
      "cell_type": "code",
      "source": [
        "squares_of_even_numbers = []\n",
        "for x in range(10):\n",
        "    if x % 2 == 0:\n",
        "        squares_of_even_numbers.append(x**2)"
      ],
      "metadata": {
        "id": "_8seLEnomvU5"
      },
      "execution_count": 2,
      "outputs": []
    },
    {
      "cell_type": "markdown",
      "source": [
        "**Benefits and Best Practices**\n",
        "\n",
        "List comprehensions are not only syntactically concise but also computationally efficient.\n",
        "\n",
        "However, they should be used judiciously. For very complex operations or large data processing, the clarity and readability of the code may benefit more from a traditional loop or function.\n",
        "\n",
        "Overly complex list comprehensions can become difficult to read and understand, especially for those new to Python."
      ],
      "metadata": {
        "id": "wXmp8Biemy5G"
      }
    }
  ]
}