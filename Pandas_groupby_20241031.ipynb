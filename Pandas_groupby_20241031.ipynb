{
  "nbformat": 4,
  "nbformat_minor": 0,
  "metadata": {
    "colab": {
      "provenance": [],
      "authorship_tag": "ABX9TyPRZvXLRzuACVzOJXTuzSPN",
      "include_colab_link": true
    },
    "kernelspec": {
      "name": "python3",
      "display_name": "Python 3"
    },
    "language_info": {
      "name": "python"
    }
  },
  "cells": [
    {
      "cell_type": "markdown",
      "metadata": {
        "id": "view-in-github",
        "colab_type": "text"
      },
      "source": [
        "<a href=\"https://colab.research.google.com/github/szh141/Examples/blob/main/Pandas_groupby_20241031.ipynb\" target=\"_parent\"><img src=\"https://colab.research.google.com/assets/colab-badge.svg\" alt=\"Open In Colab\"/></a>"
      ]
    },
    {
      "cell_type": "markdown",
      "source": [
        "https://medium.com/@ebimsv/mastering-pandas-part-5-data-aggregation-and-grouping-d5f1f2df2114"
      ],
      "metadata": {
        "id": "72e4Cjs97H-y"
      }
    },
    {
      "cell_type": "markdown",
      "source": [
        "# Groupby"
      ],
      "metadata": {
        "id": "jlT1_64f7w80"
      }
    },
    {
      "cell_type": "code",
      "execution_count": 6,
      "metadata": {
        "colab": {
          "base_uri": "https://localhost:8080/"
        },
        "id": "IWNM2OQY7GTY",
        "outputId": "0607caea-0e10-4e28-8e30-eef877f39bad"
      },
      "outputs": [
        {
          "output_type": "stream",
          "name": "stdout",
          "text": [
            "      Product     Category Region  Sales\n",
            "0      Laptop  Electronics  North   1000\n",
            "1  Smartphone  Electronics  South    800\n",
            "2        Sofa    Furniture   West   1500\n",
            "3       Chair    Furniture  North    600\n",
            "4     T-shirt     Clothing  South    200\n",
            "5       Jeans     Clothing   East    400 \n",
            "\n",
            "Category     Region\n",
            "Clothing     East       400\n",
            "             South      200\n",
            "Electronics  North     1000\n",
            "             South      800\n",
            "Furniture    North      600\n",
            "             West      1500\n",
            "Name: Sales, dtype: int64\n"
          ]
        }
      ],
      "source": [
        "import pandas as pd\n",
        "\n",
        "# Sample data with different categories and regions\n",
        "data = {\n",
        "    'Product': ['Laptop', 'Smartphone',\n",
        "                'Sofa', 'Chair',\n",
        "                'T-shirt', 'Jeans'],\n",
        "\n",
        "    'Category': ['Electronics', 'Electronics',\n",
        "                 'Furniture', 'Furniture',\n",
        "                 'Clothing', 'Clothing'],\n",
        "\n",
        "    'Region': ['North', 'South', 'West', 'North', 'South', 'East'],\n",
        "    'Sales': [1000, 800, 1500, 600, 200, 400]\n",
        "}\n",
        "df = pd.DataFrame(data)\n",
        "\n",
        "print(df,'\\n')\n",
        "\n",
        "# Group by Category and Region, then sum the Sales\n",
        "regional_sales = df.groupby(['Category', 'Region'])['Sales'].sum()\n",
        "print(regional_sales)"
      ]
    },
    {
      "cell_type": "markdown",
      "source": [
        "# Aggregate"
      ],
      "metadata": {
        "id": "0f6NRlUg7ubZ"
      }
    },
    {
      "cell_type": "code",
      "source": [
        "# Real-world example: Aggregating sales by category and region\n",
        "sales_summary = df.groupby(['Category', 'Region'])['Sales'].agg(['sum',\n",
        "                                                                 'mean',\n",
        "                                                                 'count'])\n",
        "sales_summary.columns = ['Total Sales',\n",
        "                         'Average Sales',\n",
        "                         'Number of Transactions']\n",
        "\n",
        "print(sales_summary)"
      ],
      "metadata": {
        "colab": {
          "base_uri": "https://localhost:8080/"
        },
        "id": "_n_xGgTB7qKx",
        "outputId": "e8e23f7b-01aa-46a0-a0ae-8e4cca59388a"
      },
      "execution_count": 7,
      "outputs": [
        {
          "output_type": "stream",
          "name": "stdout",
          "text": [
            "                    Total Sales  Average Sales  Number of Transactions\n",
            "Category    Region                                                    \n",
            "Clothing    East            400          400.0                       1\n",
            "            South           200          200.0                       1\n",
            "Electronics North          1000         1000.0                       1\n",
            "            South           800          800.0                       1\n",
            "Furniture   North           600          600.0                       1\n",
            "            West           1500         1500.0                       1\n"
          ]
        }
      ]
    }
  ]
}