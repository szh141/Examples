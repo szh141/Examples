{
  "nbformat": 4,
  "nbformat_minor": 0,
  "metadata": {
    "colab": {
      "provenance": [],
      "authorship_tag": "ABX9TyMbh8iDfV7X7VoRYZGhW4TI",
      "include_colab_link": true
    },
    "kernelspec": {
      "name": "python3",
      "display_name": "Python 3"
    },
    "language_info": {
      "name": "python"
    }
  },
  "cells": [
    {
      "cell_type": "markdown",
      "metadata": {
        "id": "view-in-github",
        "colab_type": "text"
      },
      "source": [
        "<a href=\"https://colab.research.google.com/github/szh141/Examples/blob/main/map()_20241005.ipynb\" target=\"_parent\"><img src=\"https://colab.research.google.com/assets/colab-badge.svg\" alt=\"Open In Colab\"/></a>"
      ]
    },
    {
      "cell_type": "markdown",
      "source": [
        "Python’s map() is a built-in function that allows you to process and transform all the items in an iterable without using\n",
        "an explicit for loop, a technique commonly known as mapping. map() is useful when you need to apply a transformation function\n",
        "to each item in an iterable and transform them into a new iterable."
      ],
      "metadata": {
        "id": "j6HQA66VkTXQ"
      }
    },
    {
      "cell_type": "code",
      "execution_count": null,
      "metadata": {
        "id": "NsbxHiMTkF6P"
      },
      "outputs": [],
      "source": [
        "numbers = [1, 2, 3, 4, 5]\n",
        "squared = []\n",
        "for num in numbers:\n",
        "  squared.append(num ** 2)\n",
        "squared [1, 4, 9, 16, 25]"
      ]
    },
    {
      "cell_type": "code",
      "source": [
        "def square(number):\n",
        "  return number ** 2\n",
        "numbers = [1, 2, 3, 4, 5]\n",
        "squared = map(square, numbers)\n",
        "list(squared)"
      ],
      "metadata": {
        "id": "bsbgPixBkeWq"
      },
      "execution_count": null,
      "outputs": []
    },
    {
      "cell_type": "markdown",
      "source": [
        "A second advantage of using map() is related to memory consumption. With a for loop, you need to store the whole list in your system’s memory. With map(), you get items on demand, and only one item is in your system’s memory at a given time."
      ],
      "metadata": {
        "id": "F0NMMY3vkmf9"
      }
    }
  ]
}