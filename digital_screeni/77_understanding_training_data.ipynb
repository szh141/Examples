{
  "nbformat": 4,
  "nbformat_minor": 0,
  "metadata": {
    "colab": {
      "provenance": [],
      "authorship_tag": "ABX9TyNPjgY8rxa4Lm/lH0qXiMtr",
      "include_colab_link": true
    },
    "kernelspec": {
      "name": "python3",
      "display_name": "Python 3"
    },
    "language_info": {
      "name": "python"
    }
  },
  "cells": [
    {
      "cell_type": "markdown",
      "metadata": {
        "id": "view-in-github",
        "colab_type": "text"
      },
      "source": [
        "<a href=\"https://colab.research.google.com/github/szh141/Examples/blob/main/digital_screeni/77_understanding_training_data.ipynb\" target=\"_parent\"><img src=\"https://colab.research.google.com/assets/colab-badge.svg\" alt=\"Open In Colab\"/></a>"
      ]
    },
    {
      "cell_type": "markdown",
      "source": [
        "https://www.youtube.com/watch?v=cUHPL_dk17E"
      ],
      "metadata": {
        "id": "aEU3QwJN-IK2"
      }
    },
    {
      "cell_type": "markdown",
      "source": [
        "tqdm\n",
        "\n",
        "PyPI\n",
        "https://pypi.org › project › tqdm\n",
        "tqdm derives from the Arabic word taqaddum (تقدّم) which can mean “progress,” and is an abbreviation for “I love you so much” in Spanish (te quiero demasiado).\n",
        "\n",
        "\n",
        "tqdm, total parameter\n",
        "\n",
        "https://stackoverflow.com/questions/50431139/what-does-tqdms-total-parameter-do\n"
      ],
      "metadata": {
        "id": "XJa0KODA-f7D"
      }
    },
    {
      "cell_type": "markdown",
      "source": [
        "The downloaded training data is organized this way:\n",
        "in train folder, there are two sub folders: image and mask.\n",
        "in those subfolders, has the same, random name folders for image and corresponding mask. Image has one image, but mask has lots of binary images, each contains one single cell. So, needs to combine all binary masks for one single mask.\n",
        "\n",
        "next(os.walk(PATH))[1] for folders or image_ID\n",
        "\n",
        "next(os.walk(PATH))[2] for file\n",
        "\n",
        "mask = np.max(mask,mask_)\n",
        "\n",
        "to combine all binary single cell into one mask."
      ],
      "metadata": {
        "id": "V0eib9pW-o6n"
      }
    },
    {
      "cell_type": "code",
      "execution_count": null,
      "metadata": {
        "id": "7gl7WSZt-B0r"
      },
      "outputs": [],
      "source": [
        "import numpy as np\n",
        "\n",
        "from tqdm import tqdm\n",
        "\n",
        "from skimage.io import imread, imshow\n",
        "from skimage.transform import resize\n",
        "import matplotlib.pyplot as plt\n",
        "\n",
        "seed = 42\n",
        "np.random.seed = seed\n",
        "\n",
        "IMG_WIDTH = 128\n",
        "IMG_HEIGHT = 128\n",
        "IMG_CHANNELS = 3\n",
        "\n",
        "TRAIN_PATH = 'stage1_train/'\n",
        "TEST_PATH = 'stage1_test/'\n",
        "\n",
        "train_ids = next(os.walk(TRAIN_PATH))[1]\n",
        "test_ids = next(os.walk(TEST_PATH))[1]\n",
        "\n",
        "# create empty array to incoming data\n",
        "X_train = np.zeros((len(train_ids), IMG_HEIGHT, IMG_WIDTH, IMG_CHANNELS), dtype=np.uint8)\n",
        "Y_train = np.zeros((len(train_ids), IMG_HEIGHT, IMG_WIDTH, 1), dtype=np.bool)\n",
        "\n",
        "print('Resizing training images and masks')\n",
        "for n, id_ in tqdm(enumerate(train_ids), total=len(train_ids)):\n",
        "    path = TRAIN_PATH + id_\n",
        "    img = imread(path + '/images/' + id_ + '.png')[:,:,:IMG_CHANNELS]\n",
        "    img = resize(img, (IMG_HEIGHT, IMG_WIDTH), mode='constant', preserve_range=True)\n",
        "    X_train[n] = img  #Fill empty X_train with values from img\n",
        "    mask = np.zeros((IMG_HEIGHT, IMG_WIDTH, 1), dtype=np.bool)\n",
        "    for mask_file in next(os.walk(path + '/masks/'))[2]:\n",
        "        mask_ = imread(path + '/masks/' + mask_file)\n",
        "        mask_ = np.expand_dims(resize(mask_, (IMG_HEIGHT, IMG_WIDTH), mode='constant',\n",
        "                                      preserve_range=True), axis=-1)\n",
        "        mask = np.maximum(mask, mask_)\n",
        "\n",
        "    Y_train[n] = mask\n",
        "\n",
        "# test images\n",
        "X_test = np.zeros((len(test_ids), IMG_HEIGHT, IMG_WIDTH, IMG_CHANNELS), dtype=np.uint8)\n",
        "sizes_test = []\n",
        "print('Resizing test images')\n",
        "for n, id_ in tqdm(enumerate(test_ids), total=len(test_ids)):\n",
        "    path = TEST_PATH + id_\n",
        "    img = imread(path + '/images/' + id_ + '.png')[:,:,:IMG_CHANNELS]\n",
        "    sizes_test.append([img.shape[0], img.shape[1]])\n",
        "    img = resize(img, (IMG_HEIGHT, IMG_WIDTH), mode='constant', preserve_range=True)\n",
        "    X_test[n] = img\n",
        "\n",
        "print('Done!')"
      ]
    },
    {
      "cell_type": "code",
      "source": [
        "image_x = random.randint(0, len(train_ids))\n",
        "imshow(X_train[image_x])\n",
        "plt.show()\n",
        "imshow(np.squeeze(Y_train[image_x])) #squeeze out the color channel since it's binary\n",
        "plt.show()"
      ],
      "metadata": {
        "id": "JlxGkK6BELpM"
      },
      "execution_count": null,
      "outputs": []
    }
  ]
}