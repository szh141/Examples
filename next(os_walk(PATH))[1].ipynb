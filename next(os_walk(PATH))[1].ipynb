{
  "nbformat": 4,
  "nbformat_minor": 0,
  "metadata": {
    "colab": {
      "provenance": [],
      "mount_file_id": "1Bwr-M7CYZAi6MRfVnIupqGCq9VIP2-gC",
      "authorship_tag": "ABX9TyMQxf8HscBi0FPMQ6aIHqol",
      "include_colab_link": true
    },
    "kernelspec": {
      "name": "python3",
      "display_name": "Python 3"
    },
    "language_info": {
      "name": "python"
    }
  },
  "cells": [
    {
      "cell_type": "markdown",
      "metadata": {
        "id": "view-in-github",
        "colab_type": "text"
      },
      "source": [
        "<a href=\"https://colab.research.google.com/github/szh141/Examples/blob/main/next(os_walk(PATH))%5B1%5D.ipynb\" target=\"_parent\"><img src=\"https://colab.research.google.com/assets/colab-badge.svg\" alt=\"Open In Colab\"/></a>"
      ]
    },
    {
      "cell_type": "markdown",
      "source": [
        "https://www.youtube.com/watch?v=lbG_VNLUPBQ\n",
        "\n",
        "H dirve has 'Youtube' folder.\n",
        "\n",
        "It has two folders, one file\n",
        "\n",
        "in one folder, has two files\n",
        "\n",
        "in 2nd folder, has one folder (two files and one image) and two files\n"
      ],
      "metadata": {
        "id": "G6mhZaNt5dFM"
      }
    },
    {
      "cell_type": "code",
      "execution_count": null,
      "metadata": {
        "colab": {
          "base_uri": "https://localhost:8080/"
        },
        "id": "P4BBI0FA5Eih",
        "outputId": "a30d21f1-3422-4b38-e84f-d8cd1c1a25ea"
      },
      "outputs": [
        {
          "output_type": "stream",
          "name": "stdout",
          "text": [
            "<generator object _walk at 0x7bc4797034c0>\n",
            "\n",
            "\n",
            "[('/content/drive/MyDrive/Colab images/Youtube', ['Folder_2', 'Folder_1'], ['summary.csv']), ('/content/drive/MyDrive/Colab images/Youtube/Folder_2', ['Folder_3'], ['summary.csv']), ('/content/drive/MyDrive/Colab images/Youtube/Folder_2/Folder_3', [], ['summary.csv']), ('/content/drive/MyDrive/Colab images/Youtube/Folder_1', [], ['summary.csv'])]\n"
          ]
        }
      ],
      "source": [
        "import os\n",
        "\n",
        "#main = 'r'H:\\Youtube''\n",
        "# or 'H:\\\\Youtube'\n",
        "# or 'H:/Youtube'\n",
        "\n",
        "main = '/content/drive/MyDrive/Colab images/Youtube'\n",
        "\n",
        "print(os.walk(main))\n",
        "print('\\n')\n",
        "# object\n",
        "\n",
        "print(list(os.walk(main)))"
      ]
    },
    {
      "cell_type": "markdown",
      "source": [
        "A list of tuple"
      ],
      "metadata": {
        "id": "3mciQ0MZ7XWt"
      }
    },
    {
      "cell_type": "code",
      "source": [
        "print(list(os.walk(main))[0][1])"
      ],
      "metadata": {
        "id": "8VaWKt7R715q",
        "outputId": "a4f9afe2-6c77-47ac-b94c-c6e919a26e38",
        "colab": {
          "base_uri": "https://localhost:8080/"
        }
      },
      "execution_count": null,
      "outputs": [
        {
          "output_type": "stream",
          "name": "stdout",
          "text": [
            "['Folder_2', 'Folder_1']\n"
          ]
        }
      ]
    },
    {
      "cell_type": "code",
      "source": [
        "for root,dirs,files in os.walk(main):\n",
        "  print(root)\n",
        "  print(dirs)\n",
        "  print(files)\n",
        "  print('=========================')"
      ],
      "metadata": {
        "colab": {
          "base_uri": "https://localhost:8080/"
        },
        "id": "XDo5Wzue7eXE",
        "outputId": "b2977b31-2eab-47f3-a985-b9a5eb5e5102"
      },
      "execution_count": null,
      "outputs": [
        {
          "output_type": "stream",
          "name": "stdout",
          "text": [
            "/content/drive/MyDrive/Colab images/Youtube\n",
            "['Folder_2', 'Folder_1']\n",
            "['summary.csv']\n",
            "=========================\n",
            "/content/drive/MyDrive/Colab images/Youtube/Folder_2\n",
            "['Folder_3']\n",
            "['summary.csv']\n",
            "=========================\n",
            "/content/drive/MyDrive/Colab images/Youtube/Folder_2/Folder_3\n",
            "[]\n",
            "['summary.csv']\n",
            "=========================\n",
            "/content/drive/MyDrive/Colab images/Youtube/Folder_1\n",
            "[]\n",
            "['summary.csv']\n",
            "=========================\n"
          ]
        }
      ]
    },
    {
      "cell_type": "markdown",
      "source": [
        "iterator, generator, retur vs yield, next function\n",
        "\n",
        "https://www.youtube.com/watch?v=jP2ZDA6Nw70"
      ],
      "metadata": {
        "id": "SrWs_HHcHnHK"
      }
    },
    {
      "cell_type": "code",
      "source": [
        "def simple_gen():\n",
        "  for i in range(3):\n",
        "    yield i\n",
        "\n",
        "g = simple_gen()"
      ],
      "metadata": {
        "id": "czVJ-uOIHm7z"
      },
      "execution_count": 2,
      "outputs": []
    },
    {
      "cell_type": "code",
      "source": [
        "print(g)"
      ],
      "metadata": {
        "colab": {
          "base_uri": "https://localhost:8080/"
        },
        "id": "ijqm4vM4Hzlh",
        "outputId": "07691d8b-c2a3-426d-b80b-c93d841a9672"
      },
      "execution_count": 3,
      "outputs": [
        {
          "output_type": "stream",
          "name": "stdout",
          "text": [
            "<generator object simple_gen at 0x7dd09244b290>\n"
          ]
        }
      ]
    },
    {
      "cell_type": "code",
      "source": [
        "print(list(g))"
      ],
      "metadata": {
        "colab": {
          "base_uri": "https://localhost:8080/"
        },
        "id": "Nc8Hj4PTH5eK",
        "outputId": "da341483-384d-43cc-8ba5-5656764fd79a"
      },
      "execution_count": 4,
      "outputs": [
        {
          "output_type": "stream",
          "name": "stdout",
          "text": [
            "[0, 1, 2]\n"
          ]
        }
      ]
    },
    {
      "cell_type": "code",
      "source": [
        "print(next(g))"
      ],
      "metadata": {
        "colab": {
          "base_uri": "https://localhost:8080/",
          "height": 141
        },
        "id": "lUH_xJ_UH7Y7",
        "outputId": "fd56b908-2320-49ce-9519-85c8899d4cb5"
      },
      "execution_count": 5,
      "outputs": [
        {
          "output_type": "error",
          "ename": "StopIteration",
          "evalue": "",
          "traceback": [
            "\u001b[0;31m---------------------------------------------------------------------------\u001b[0m",
            "\u001b[0;31mStopIteration\u001b[0m                             Traceback (most recent call last)",
            "\u001b[0;32m<ipython-input-5-1dfb29d6357e>\u001b[0m in \u001b[0;36m<cell line: 1>\u001b[0;34m()\u001b[0m\n\u001b[0;32m----> 1\u001b[0;31m \u001b[0mprint\u001b[0m\u001b[0;34m(\u001b[0m\u001b[0mnext\u001b[0m\u001b[0;34m(\u001b[0m\u001b[0mg\u001b[0m\u001b[0;34m)\u001b[0m\u001b[0;34m)\u001b[0m\u001b[0;34m\u001b[0m\u001b[0;34m\u001b[0m\u001b[0m\n\u001b[0m",
            "\u001b[0;31mStopIteration\u001b[0m: "
          ]
        }
      ]
    },
    {
      "cell_type": "code",
      "source": [
        "def simple_gen():\n",
        "  for i in range(3):\n",
        "    yield i\n",
        "\n",
        "g = simple_gen()"
      ],
      "metadata": {
        "id": "u_BO6CoCH-yj"
      },
      "execution_count": 6,
      "outputs": []
    },
    {
      "cell_type": "code",
      "source": [
        "print(next(g))"
      ],
      "metadata": {
        "colab": {
          "base_uri": "https://localhost:8080/"
        },
        "id": "38G4pKbOIAEi",
        "outputId": "05ea5553-1012-466d-83fa-67aea13f68c5"
      },
      "execution_count": 7,
      "outputs": [
        {
          "output_type": "stream",
          "name": "stdout",
          "text": [
            "0\n"
          ]
        }
      ]
    },
    {
      "cell_type": "code",
      "source": [
        "print(next(g))"
      ],
      "metadata": {
        "colab": {
          "base_uri": "https://localhost:8080/"
        },
        "id": "qV2e-Ae1IBgE",
        "outputId": "f51d7044-5190-4c01-942a-2d4bebf24297"
      },
      "execution_count": 8,
      "outputs": [
        {
          "output_type": "stream",
          "name": "stdout",
          "text": [
            "1\n"
          ]
        }
      ]
    },
    {
      "cell_type": "code",
      "source": [
        "print(next(g))"
      ],
      "metadata": {
        "colab": {
          "base_uri": "https://localhost:8080/"
        },
        "id": "ufHuI1JnICd0",
        "outputId": "e8b867c3-3201-4bb6-d44f-98dfc0e11b09"
      },
      "execution_count": 9,
      "outputs": [
        {
          "output_type": "stream",
          "name": "stdout",
          "text": [
            "2\n"
          ]
        }
      ]
    },
    {
      "cell_type": "code",
      "source": [
        "print(next(g))\n",
        "# for loop, when reacing the end, catches the error automatically"
      ],
      "metadata": {
        "colab": {
          "base_uri": "https://localhost:8080/",
          "height": 141
        },
        "id": "3RSZiXofIDr8",
        "outputId": "bbc96c04-b951-409d-d5a6-967be0173930"
      },
      "execution_count": 10,
      "outputs": [
        {
          "output_type": "error",
          "ename": "StopIteration",
          "evalue": "",
          "traceback": [
            "\u001b[0;31m---------------------------------------------------------------------------\u001b[0m",
            "\u001b[0;31mStopIteration\u001b[0m                             Traceback (most recent call last)",
            "\u001b[0;32m<ipython-input-10-1dfb29d6357e>\u001b[0m in \u001b[0;36m<cell line: 1>\u001b[0;34m()\u001b[0m\n\u001b[0;32m----> 1\u001b[0;31m \u001b[0mprint\u001b[0m\u001b[0;34m(\u001b[0m\u001b[0mnext\u001b[0m\u001b[0;34m(\u001b[0m\u001b[0mg\u001b[0m\u001b[0;34m)\u001b[0m\u001b[0;34m)\u001b[0m\u001b[0;34m\u001b[0m\u001b[0;34m\u001b[0m\u001b[0m\n\u001b[0m",
            "\u001b[0;31mStopIteration\u001b[0m: "
          ]
        }
      ]
    },
    {
      "cell_type": "markdown",
      "source": [
        "string itself is not a iterator, but use iter() function, will convert it to generator"
      ],
      "metadata": {
        "id": "6O6bq_ASIsvA"
      }
    },
    {
      "cell_type": "code",
      "source": [
        "s = 'hello'\n",
        "for letter in s:\n",
        "  print(letter)"
      ],
      "metadata": {
        "colab": {
          "base_uri": "https://localhost:8080/"
        },
        "id": "35j1UhtrIze2",
        "outputId": "09791d60-0a4e-47be-b187-75200bf4433d"
      },
      "execution_count": 11,
      "outputs": [
        {
          "output_type": "stream",
          "name": "stdout",
          "text": [
            "h\n",
            "e\n",
            "l\n",
            "l\n",
            "o\n"
          ]
        }
      ]
    },
    {
      "cell_type": "code",
      "source": [
        "next(s)"
      ],
      "metadata": {
        "colab": {
          "base_uri": "https://localhost:8080/",
          "height": 141
        },
        "id": "oXwoNvHPI4_e",
        "outputId": "dd9734ac-c203-414d-df2d-0911b6c98c9b"
      },
      "execution_count": 12,
      "outputs": [
        {
          "output_type": "error",
          "ename": "TypeError",
          "evalue": "'str' object is not an iterator",
          "traceback": [
            "\u001b[0;31m---------------------------------------------------------------------------\u001b[0m",
            "\u001b[0;31mTypeError\u001b[0m                                 Traceback (most recent call last)",
            "\u001b[0;32m<ipython-input-12-61c30b5fe1d5>\u001b[0m in \u001b[0;36m<cell line: 1>\u001b[0;34m()\u001b[0m\n\u001b[0;32m----> 1\u001b[0;31m \u001b[0mnext\u001b[0m\u001b[0;34m(\u001b[0m\u001b[0ms\u001b[0m\u001b[0;34m)\u001b[0m\u001b[0;34m\u001b[0m\u001b[0;34m\u001b[0m\u001b[0m\n\u001b[0m",
            "\u001b[0;31mTypeError\u001b[0m: 'str' object is not an iterator"
          ]
        }
      ]
    },
    {
      "cell_type": "code",
      "source": [
        "s_iter = iter(s)\n",
        "next(s_iter)"
      ],
      "metadata": {
        "colab": {
          "base_uri": "https://localhost:8080/",
          "height": 35
        },
        "id": "gIua2ZvYI6_2",
        "outputId": "9c88006c-6ae0-44b7-9d1e-d74caa7983e9"
      },
      "execution_count": 14,
      "outputs": [
        {
          "output_type": "execute_result",
          "data": {
            "text/plain": [
              "'h'"
            ],
            "application/vnd.google.colaboratory.intrinsic+json": {
              "type": "string"
            }
          },
          "metadata": {},
          "execution_count": 14
        }
      ]
    },
    {
      "cell_type": "code",
      "source": [
        "next(s_iter)"
      ],
      "metadata": {
        "colab": {
          "base_uri": "https://localhost:8080/",
          "height": 35
        },
        "id": "ibxbHQtnI_pX",
        "outputId": "1921e212-514c-424e-b76e-b24b0572d60d"
      },
      "execution_count": 15,
      "outputs": [
        {
          "output_type": "execute_result",
          "data": {
            "text/plain": [
              "'e'"
            ],
            "application/vnd.google.colaboratory.intrinsic+json": {
              "type": "string"
            }
          },
          "metadata": {},
          "execution_count": 15
        }
      ]
    },
    {
      "cell_type": "code",
      "source": [
        "next(s_iter)"
      ],
      "metadata": {
        "colab": {
          "base_uri": "https://localhost:8080/",
          "height": 35
        },
        "id": "ydC7DzJFJB3A",
        "outputId": "b392bd04-1d0d-439c-bbc0-e5b1e55231ed"
      },
      "execution_count": 16,
      "outputs": [
        {
          "output_type": "execute_result",
          "data": {
            "text/plain": [
              "'l'"
            ],
            "application/vnd.google.colaboratory.intrinsic+json": {
              "type": "string"
            }
          },
          "metadata": {},
          "execution_count": 16
        }
      ]
    }
  ]
}