{
  "nbformat": 4,
  "nbformat_minor": 0,
  "metadata": {
    "colab": {
      "provenance": [],
      "authorship_tag": "ABX9TyPWSAJdIWQOnT6XkCgpL96V",
      "include_colab_link": true
    },
    "kernelspec": {
      "name": "python3",
      "display_name": "Python 3"
    },
    "language_info": {
      "name": "python"
    }
  },
  "cells": [
    {
      "cell_type": "markdown",
      "metadata": {
        "id": "view-in-github",
        "colab_type": "text"
      },
      "source": [
        "<a href=\"https://colab.research.google.com/github/szh141/Examples/blob/main/python%20tricks/Find_the_Common_Characters_Between_Two_Strings.ipynb\" target=\"_parent\"><img src=\"https://colab.research.google.com/assets/colab-badge.svg\" alt=\"Open In Colab\"/></a>"
      ]
    },
    {
      "cell_type": "code",
      "execution_count": 1,
      "metadata": {
        "id": "t12dYdEoWCLC"
      },
      "outputs": [],
      "source": [
        "def common_chars(s1, s2):\n",
        "    return set(s1) & set(s2)"
      ]
    },
    {
      "cell_type": "code",
      "source": [
        "s1 = \"hello\"\n",
        "s2 = \"world\"\n",
        "print(f\"Common characters: {common_chars(s1, s2)}\")"
      ],
      "metadata": {
        "colab": {
          "base_uri": "https://localhost:8080/"
        },
        "id": "bM_jJfpnWNVj",
        "outputId": "7e1a7b69-d631-42bc-d121-eaf3290afd68"
      },
      "execution_count": 3,
      "outputs": [
        {
          "output_type": "stream",
          "name": "stdout",
          "text": [
            "Common characters: {'l', 'o'}\n"
          ]
        }
      ]
    },
    {
      "cell_type": "code",
      "source": [
        "# Reverse Words in a String\n",
        "def rev_string(a):\n",
        "  temp = a.split(',')\n",
        "  temp2 = temp[::-1]\n",
        "  b = ' : '.join(temp2)\n",
        "  print(b)\n",
        "\n",
        "rev_string('hello,       world')"
      ],
      "metadata": {
        "colab": {
          "base_uri": "https://localhost:8080/"
        },
        "id": "M1wuXlDqXC7b",
        "outputId": "53dde501-d491-488e-aab9-b6b6abf99fe5"
      },
      "execution_count": 14,
      "outputs": [
        {
          "output_type": "stream",
          "name": "stdout",
          "text": [
            "       world : hello\n"
          ]
        }
      ]
    }
  ]
}