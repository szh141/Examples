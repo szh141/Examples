{
  "nbformat": 4,
  "nbformat_minor": 0,
  "metadata": {
    "colab": {
      "provenance": [],
      "authorship_tag": "ABX9TyOE471Yj/a/FgDDSz4yJN3b",
      "include_colab_link": true
    },
    "kernelspec": {
      "name": "python3",
      "display_name": "Python 3"
    },
    "language_info": {
      "name": "python"
    }
  },
  "cells": [
    {
      "cell_type": "markdown",
      "metadata": {
        "id": "view-in-github",
        "colab_type": "text"
      },
      "source": [
        "<a href=\"https://colab.research.google.com/github/szh141/Examples/blob/main/_args_and_kwargs.ipynb\" target=\"_parent\"><img src=\"https://colab.research.google.com/assets/colab-badge.svg\" alt=\"Open In Colab\"/></a>"
      ]
    },
    {
      "cell_type": "markdown",
      "source": [
        "Exploring *args\n",
        "\n",
        "The term *args refers to a mechanism in Python for handling an indefinite number of positional arguments. It's akin to saying, \"Gather all the additional positional arguments and pack them into a tuple named args.\" The beauty of *args lies in its versatility; you can pass as many positional arguments as you desire to a function, and Python neatly packs them all into a single iterable, the tuple."
      ],
      "metadata": {
        "id": "78Kg_UdeogZH"
      }
    },
    {
      "cell_type": "code",
      "execution_count": 2,
      "metadata": {
        "id": "YqzlSt8joEtL"
      },
      "outputs": [],
      "source": [
        "def sum_numbers(*args):\n",
        "    return sum(args)\n",
        "\n",
        "# This function can handle any number of arguments\n",
        "total = sum_numbers(10, 15, 20, 25)\n",
        "\n",
        "#gracefully handles whatever number of arguments you throw at it, thanks to *args"
      ]
    },
    {
      "cell_type": "markdown",
      "source": [
        "Unveiling **kwargs\n",
        "\n",
        "While *args deals with positional arguments, **kwargs handles keyword arguments, where kwargs stands for keyword arguments. With **kwargs, you can pass a variable number of keyword arguments to a function. Python gathers these arguments into a dictionary, where the keys are the argument names, and the values are the corresponding argument values.\n",
        "\n",
        "This feature shines in scenarios where functions need to handle named arguments dynamically."
      ],
      "metadata": {
        "id": "8eqVI-2xo7nX"
      }
    },
    {
      "cell_type": "code",
      "source": [
        "def user_profile(**kwargs):\n",
        "    for key, value in kwargs.items():\n",
        "        print(f\"{key}: {value}\")\n",
        "\n",
        "user_profile(name=\"John\", age=30, occupation=\"Engineer\")"
      ],
      "metadata": {
        "colab": {
          "base_uri": "https://localhost:8080/"
        },
        "id": "sy7JBRYvo_K9",
        "outputId": "bbf9319c-b276-47a4-b88c-72d0b851cede"
      },
      "execution_count": 1,
      "outputs": [
        {
          "output_type": "stream",
          "name": "stdout",
          "text": [
            "name: John\n",
            "age: 30\n",
            "occupation: Engineer\n"
          ]
        }
      ]
    },
    {
      "cell_type": "markdown",
      "source": [
        "Dictionary in Python is an unordered collection of data values, used to store data values like a map, which unlike other Data Types that hold only single value as an element, Dictionary holds key : value pair.\n",
        "\n",
        "In Python Dictionary, items() method is used to return the list with all dictionary keys with values."
      ],
      "metadata": {
        "id": "KnF4Bi4-pjcv"
      }
    }
  ]
}