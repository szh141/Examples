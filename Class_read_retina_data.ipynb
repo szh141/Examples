{
  "nbformat": 4,
  "nbformat_minor": 0,
  "metadata": {
    "colab": {
      "provenance": [],
      "authorship_tag": "ABX9TyOtDoGY+h3UzBCrK5Kr+qYJ",
      "include_colab_link": true
    },
    "kernelspec": {
      "name": "python3",
      "display_name": "Python 3"
    },
    "language_info": {
      "name": "python"
    }
  },
  "cells": [
    {
      "cell_type": "markdown",
      "metadata": {
        "id": "view-in-github",
        "colab_type": "text"
      },
      "source": [
        "<a href=\"https://colab.research.google.com/github/szh141/Examples/blob/main/Class_read_retina_data.ipynb\" target=\"_parent\"><img src=\"https://colab.research.google.com/assets/colab-badge.svg\" alt=\"Open In Colab\"/></a>"
      ]
    },
    {
      "cell_type": "markdown",
      "source": [
        "https://medium.com/thedeephub/computer-vision-project-image-classification-with-tensorflow-and-keras-264944d09721\n",
        "\n",
        "Kaggle\n",
        "https://www.kaggle.com/datasets/gunavenkatdoddi/eye-diseases-classification"
      ],
      "metadata": {
        "id": "LOOS_867tEm-"
      }
    },
    {
      "cell_type": "code",
      "execution_count": 1,
      "metadata": {
        "id": "a2pPl8SVtDh6"
      },
      "outputs": [],
      "source": [
        "# import system libs\n",
        "import os\n",
        "import time\n",
        "# import data handling tools\n",
        "import cv2\n",
        "import numpy as np\n",
        "import pandas as pd\n",
        "from PIL import Image\n",
        "import matplotlib.pyplot as plt\n",
        "from sklearn.model_selection import train_test_split\n",
        "from sklearn.metrics import confusion_matrix, classification_report, f1_score\n",
        "# import Deep learning Libraries\n",
        "import tensorflow as tf\n",
        "from tensorflow import keras\n",
        "from tensorflow.keras.models import Model\n",
        "from tensorflow.keras.metrics import categorical_crossentropy\n",
        "from tensorflow.keras.preprocessing.image import ImageDataGenerator\n",
        "from tensorflow.keras.layers import Flatten, Dense, Activation, GlobalAveragePooling2D\n",
        "# Ignore Warnings\n",
        "import warnings\n",
        "warnings.filterwarnings(\"ignore\")"
      ]
    },
    {
      "cell_type": "markdown",
      "source": [
        "Class for Loading and Splitting Datasets"
      ],
      "metadata": {
        "id": "40vPXLXltZ1l"
      }
    },
    {
      "cell_type": "code",
      "source": [
        "class EyeDiseaseDataset:\n",
        " def __init__(self, dataDir):\n",
        "        self.data_dir = dataDir\n",
        "\n",
        " def dataPaths(self):\n",
        "        filepaths = []\n",
        "        labels = []\n",
        "        folds = os.listdir(self.data_dir)\n",
        "        for fold in folds:\n",
        "            foldPath = os.path.join(self.data_dir, fold)\n",
        "            filelist = os.listdir(foldPath)\n",
        "            for file in filelist:\n",
        "                fpath = os.path.join(foldPath, file)\n",
        "                filepaths.append(fpath)\n",
        "                labels.append(fold)\n",
        "        return filepaths, labels\n",
        "\n",
        "def dataFrame(self, files, labels):\n",
        "        Fseries = pd.Series(files, name='filepaths')\n",
        "        Lseries = pd.Series(labels, name='labels')\n",
        "        return pd.concat([Fseries, Lseries], axis=1)\n",
        "\n",
        "def split_(self):\n",
        "        files, labels = self.dataPaths()\n",
        "        df = self.dataFrame(files, labels)\n",
        "        strat = df['labels']\n",
        "        trainData, dummyData = train_test_split(df, train_size=0.8, shuffle=True, random_state=42, stratify=strat)\n",
        "        strat = dummyData['labels']\n",
        "        validData, testData = train_test_split(dummyData, train_size=0.5, shuffle=True, random_state=42, stratify=strat)\n",
        "        return trainData, validData, testData"
      ],
      "metadata": {
        "id": "45iBnPHjtWuw"
      },
      "execution_count": 2,
      "outputs": []
    },
    {
      "cell_type": "code",
      "source": [
        "dataDir='/content/dataset/'\n",
        "dataSplit = EyeDiseaseDataset(dataDir)\n",
        "train_data, valid_data, test_data = dataSplit.split_()"
      ],
      "metadata": {
        "id": "iv0J9txft1b4"
      },
      "execution_count": null,
      "outputs": []
    }
  ]
}