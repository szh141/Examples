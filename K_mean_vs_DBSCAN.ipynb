{
  "nbformat": 4,
  "nbformat_minor": 0,
  "metadata": {
    "colab": {
      "provenance": [],
      "authorship_tag": "ABX9TyMMYgbSA2cPKxfHGWKVYzQk",
      "include_colab_link": true
    },
    "kernelspec": {
      "name": "python3",
      "display_name": "Python 3"
    },
    "language_info": {
      "name": "python"
    }
  },
  "cells": [
    {
      "cell_type": "markdown",
      "metadata": {
        "id": "view-in-github",
        "colab_type": "text"
      },
      "source": [
        "<a href=\"https://colab.research.google.com/github/szh141/Examples/blob/main/K_mean_vs_DBSCAN.ipynb\" target=\"_parent\"><img src=\"https://colab.research.google.com/assets/colab-badge.svg\" alt=\"Open In Colab\"/></a>"
      ]
    },
    {
      "cell_type": "markdown",
      "source": [
        "https://www.newhorizons.com/resources/blog/dbscan-vs-kmeans-a-guide-in-python#:~:text=Differences%20between%20the%20two%20algorithms,that%20the%20clusters%20are%20spherical.\n",
        "\n",
        "DBSCAN is a density-based clustering algorithm, whereas K-Means is a centroid-based clustering algorithm.\n",
        "\n",
        "DBSCAN can discover clusters of arbitrary shapes, whereas K-Means assumes that the clusters are spherical.\n",
        "\n",
        "DBSCAN does not require the number of clusters to be specified in advance, whereas K-Means requires the number of clusters to be specified.\n",
        "\n",
        "DBSCAN is less sensitive to initialization or noise than K-Means.\n",
        "\n",
        "When to use DBSCAN vs. K-Means?\n",
        "\n",
        "Use DBSCAN when the data has irregular shapes or when there is no prior knowledge about the number of clusters.\n",
        "\n",
        "Use K-Means when the data has spherical shapes and when the number of clusters is known beforehand."
      ],
      "metadata": {
        "id": "z4ZOwRJsoGa4"
      }
    },
    {
      "cell_type": "code",
      "source": [
        "# Generate sample data\n",
        "import numpy as np\n",
        "X = np.random.randn(100, 2)\n",
        "\n",
        "from sklearn.cluster import DBSCAN\n",
        "dbscan = DBSCAN(eps=0.5, min_samples=5)\n",
        "labels_ = dbscan.fit(X)\n",
        "\n",
        "from sklearn.cluster import KMeans\n",
        "kmeans = KMeans(n_clusters=3)\n",
        "labels_ = kmeans.fit(X)\n"
      ],
      "metadata": {
        "id": "hjO3P_hXoGJL"
      },
      "execution_count": null,
      "outputs": []
    },
    {
      "cell_type": "markdown",
      "source": [
        "https://hex.tech/blog/comparing-density-based-methods/\n",
        "\n",
        "K mean, hierachial clustering, vs DBSCAN\n",
        "all using Iris dataset"
      ],
      "metadata": {
        "id": "KfbdZjNytYfH"
      }
    },
    {
      "cell_type": "markdown",
      "source": [
        "table comparison of k mean and DBSCAN\n",
        "https://www.geeksforgeeks.org/difference-between-k-means-and-dbscan-clustering/"
      ],
      "metadata": {
        "id": "NA83-SJ1t0CF"
      }
    },
    {
      "cell_type": "code",
      "execution_count": null,
      "metadata": {
        "id": "wntMS1OBoB0-"
      },
      "outputs": [],
      "source": [
        "# toward datascience w/ codes on k means and DBSCAN\n",
        "#https://towardsdatascience.com/k-means-vs-dbscan-clustering-49f8e627de27\n",
        "# but they are for different purpose, how can you use the same Iris dataset to illustrate?"
      ]
    }
  ]
}