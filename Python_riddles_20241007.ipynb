{
  "nbformat": 4,
  "nbformat_minor": 0,
  "metadata": {
    "colab": {
      "provenance": [],
      "authorship_tag": "ABX9TyPIZInSr3ExwFx6V4Aa+mvr",
      "include_colab_link": true
    },
    "kernelspec": {
      "name": "python3",
      "display_name": "Python 3"
    },
    "language_info": {
      "name": "python"
    }
  },
  "cells": [
    {
      "cell_type": "markdown",
      "metadata": {
        "id": "view-in-github",
        "colab_type": "text"
      },
      "source": [
        "<a href=\"https://colab.research.google.com/github/szh141/Examples/blob/main/Python_riddles_20241007.ipynb\" target=\"_parent\"><img src=\"https://colab.research.google.com/assets/colab-badge.svg\" alt=\"Open In Colab\"/></a>"
      ]
    },
    {
      "cell_type": "code",
      "execution_count": 1,
      "metadata": {
        "colab": {
          "base_uri": "https://localhost:8080/"
        },
        "id": "Y8EtZF7I9Q0Z",
        "outputId": "7cef9899-ff96-4313-82a7-161e7efcd08c"
      },
      "outputs": [
        {
          "output_type": "stream",
          "name": "stdout",
          "text": [
            "{1, 2, 3, 4, 5}\n",
            "{3}\n",
            "{1, 2}\n"
          ]
        }
      ],
      "source": [
        "a = set([1, 2, 3])\n",
        "b = set([3, 4, 5])\n",
        "\n",
        "print(a.union(b))          # {1, 2, 3, 4, 5}\n",
        "print(a.intersection(b))   # {3}\n",
        "print(a.difference(b))     # {1, 2}"
      ]
    },
    {
      "cell_type": "code",
      "source": [
        "# Square numbers\n",
        "squares = [x**2 for x in range(10)]\n",
        "\n",
        "# Filter even numbers\n",
        "evens = [x for x in range(20) if x % 2 == 0]\n",
        "\n",
        "# Nested loops\n",
        "pairs = [(x, y) for x in [1, 2, 3] for y in [3, 1, 4] if x != y]\n",
        "\n",
        "print(evens)\n",
        "print(pairs)"
      ],
      "metadata": {
        "colab": {
          "base_uri": "https://localhost:8080/"
        },
        "id": "oP-0kNmJ9l_4",
        "outputId": "ca74d6c1-b84e-494a-ffa9-091851b7baa1"
      },
      "execution_count": 4,
      "outputs": [
        {
          "output_type": "stream",
          "name": "stdout",
          "text": [
            "[0, 2, 4, 6, 8, 10, 12, 14, 16, 18]\n",
            "[(1, 3), (1, 4), (2, 3), (2, 1), (2, 4), (3, 1), (3, 4)]\n"
          ]
        }
      ]
    },
    {
      "cell_type": "code",
      "source": [
        "def square (a):\n",
        "  return a**2\n",
        "\n",
        "a = list(map(square,range(5)))\n",
        "# map vs list comprehension\n",
        "\n",
        "print(a)"
      ],
      "metadata": {
        "colab": {
          "base_uri": "https://localhost:8080/"
        },
        "id": "khb5rDVf93d_",
        "outputId": "2c9d8fd2-d202-43af-f366-a09efdd3d280"
      },
      "execution_count": 12,
      "outputs": [
        {
          "output_type": "stream",
          "name": "stdout",
          "text": [
            "[0, 1, 4, 9, 16]\n"
          ]
        }
      ]
    },
    {
      "cell_type": "code",
      "source": [
        "print(round(5.5), round(6.5))"
      ],
      "metadata": {
        "colab": {
          "base_uri": "https://localhost:8080/"
        },
        "id": "_FJ0rtOj_PFR",
        "outputId": "02f4d036-a22b-40e0-8e4d-dc5b7f71af75"
      },
      "execution_count": 13,
      "outputs": [
        {
          "output_type": "stream",
          "name": "stdout",
          "text": [
            "6 6\n"
          ]
        }
      ]
    },
    {
      "cell_type": "markdown",
      "source": [
        "Python uses “round half to even” (also known as “banker’s rounding”) for tie-breaking. This means:\n",
        "\n",
        "When a number is exactly halfway between two integers, it rounds to the nearest even integer."
      ],
      "metadata": {
        "id": "ZKL3fVID_S3g"
      }
    }
  ]
}