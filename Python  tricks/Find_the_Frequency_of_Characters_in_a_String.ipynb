{
  "nbformat": 4,
  "nbformat_minor": 0,
  "metadata": {
    "colab": {
      "provenance": [],
      "authorship_tag": "ABX9TyME/DQOEDsUE2NfGfkIpjcA",
      "include_colab_link": true
    },
    "kernelspec": {
      "name": "python3",
      "display_name": "Python 3"
    },
    "language_info": {
      "name": "python"
    }
  },
  "cells": [
    {
      "cell_type": "markdown",
      "metadata": {
        "id": "view-in-github",
        "colab_type": "text"
      },
      "source": [
        "<a href=\"https://colab.research.google.com/github/szh141/Examples/blob/main/Python%20%20tricks/Find_the_Frequency_of_Characters_in_a_String.ipynb\" target=\"_parent\"><img src=\"https://colab.research.google.com/assets/colab-badge.svg\" alt=\"Open In Colab\"/></a>"
      ]
    },
    {
      "cell_type": "code",
      "execution_count": 5,
      "metadata": {
        "id": "t12dYdEoWCLC"
      },
      "outputs": [],
      "source": [
        "list1 = [10, 20, 4, 45, 99]"
      ]
    },
    {
      "cell_type": "code",
      "source": [
        "s = \"hello\"\n",
        "frequency = {} # use of dictionary\n",
        "for char in s:\n",
        "    if char in frequency:\n",
        "        frequency[char] += 1\n",
        "    else:\n",
        "        frequency[char] = 1\n",
        "print(f\"Frequency of characters: {frequency}\")"
      ],
      "metadata": {
        "colab": {
          "base_uri": "https://localhost:8080/"
        },
        "id": "bM_jJfpnWNVj",
        "outputId": "0efbf7d9-a48f-4885-d4fd-2ffc51022edf"
      },
      "execution_count": 16,
      "outputs": [
        {
          "output_type": "stream",
          "name": "stdout",
          "text": [
            "Frequency of characters: {'h': 1, 'e': 1, 'l': 2, 'o': 1}\n"
          ]
        }
      ]
    }
  ]
}