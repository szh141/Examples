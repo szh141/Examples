{
  "nbformat": 4,
  "nbformat_minor": 0,
  "metadata": {
    "colab": {
      "provenance": [],
      "authorship_tag": "ABX9TyMHitWkwLHIQBeWmA7LwklE",
      "include_colab_link": true
    },
    "kernelspec": {
      "name": "python3",
      "display_name": "Python 3"
    },
    "language_info": {
      "name": "python"
    }
  },
  "cells": [
    {
      "cell_type": "markdown",
      "metadata": {
        "id": "view-in-github",
        "colab_type": "text"
      },
      "source": [
        "<a href=\"https://colab.research.google.com/github/szh141/Examples/blob/main/Python%20tricks/Python_function.ipynb\" target=\"_parent\"><img src=\"https://colab.research.google.com/assets/colab-badge.svg\" alt=\"Open In Colab\"/></a>"
      ]
    },
    {
      "cell_type": "markdown",
      "source": [
        "https://medium.com/@nishi.paul.in/functions-in-python-170d8a727c0c"
      ],
      "metadata": {
        "id": "YRAHJE6ABLSB"
      }
    },
    {
      "cell_type": "code",
      "execution_count": 3,
      "metadata": {
        "colab": {
          "base_uri": "https://localhost:8080/"
        },
        "id": "pwesDA_EBHE3",
        "outputId": "28c0ccc2-fa17-49fe-88fc-b3e1ebfeea98"
      },
      "outputs": [
        {
          "output_type": "stream",
          "name": "stdout",
          "text": [
            "50 + 20 + 10 = 80\n"
          ]
        }
      ],
      "source": [
        "# keyword and positional arguments\n",
        "\n",
        "def three_numbers_added(num1, num2, num3):\n",
        "    summation = num1+num2+num3\n",
        "    print('{} + {} + {} = {}'.format(num1, num2, num3, summation))\n",
        "\n",
        "three_numbers_added(50, num3 = 10, num2 = 20)\n",
        "\n",
        "\"\"\"\n",
        "we can use both positional and keyworded arguments together.\n",
        "Remember that the keyworded arguments should always come after positional arguments in function call, else you will get an error.\n",
        "\"\"\""
      ]
    },
    {
      "cell_type": "code",
      "source": [
        "#Parametric function using default arguments\n",
        "def three_numbers_added(num1, num2, num3 = 10):\n",
        "    summation = num1+num2+num3\n",
        "    print('{} + {} + {} = {}'.format(num1, num2, num3, summation))\n",
        "\n",
        "three_numbers_added(num1 = 50, num3 = 40, num2 = 30)\n",
        "\n",
        "three_numbers_added(num1 = 50, num2 = 30)"
      ],
      "metadata": {
        "colab": {
          "base_uri": "https://localhost:8080/"
        },
        "id": "nTggprlGBpMC",
        "outputId": "b69ca155-85a3-4ccf-d89d-34212e43acd5"
      },
      "execution_count": 6,
      "outputs": [
        {
          "output_type": "stream",
          "name": "stdout",
          "text": [
            "50 + 30 + 40 = 120\n",
            "50 + 30 + 10 = 90\n"
          ]
        }
      ]
    },
    {
      "cell_type": "markdown",
      "source": [
        "map() function is one of the many builtin functions in python. map() function is to apply a function to a list of numbers which is known as iterables. Syntax is — map(function, iterable). Map function generates another iterable.\n",
        "\n",
        "So the function you define goes as the first parameter and the iterable is a list of values that goes as the second parameter. Each of the values from the iterables are applied to the defined function."
      ],
      "metadata": {
        "id": "6nfk-LSaDhkM"
      }
    },
    {
      "cell_type": "code",
      "source": [
        "# Lambda function : Using map for multiple values\n",
        "def addition(num_list):\n",
        "    addition_list = []\n",
        "    for i in num_list:\n",
        "        addition_list.append(i+i)\n",
        "    return addition_list\n",
        "\n",
        "num_list = [1,2,3,4,5]\n",
        "print('1+2+3+4+5 = ', addition(num_list))\n",
        "\n",
        "num_list = [1,2,3,4,5]\n",
        "addition_map = map(lambda x:x+x, num_list)\n",
        "print(addition_map)\n",
        "print('1+2+3+4+5 = ', list(addition_map))\n"
      ],
      "metadata": {
        "colab": {
          "base_uri": "https://localhost:8080/"
        },
        "id": "e-3B6u8AC6d6",
        "outputId": "e432b87b-60c9-41b0-b137-a1ce715a0788"
      },
      "execution_count": 7,
      "outputs": [
        {
          "output_type": "stream",
          "name": "stdout",
          "text": [
            "1+2+3+4+5 =  [2, 4, 6, 8, 10]\n",
            "<map object at 0x7b19263c4d30>\n",
            "1+2+3+4+5 =  [2, 4, 6, 8, 10]\n"
          ]
        }
      ]
    },
    {
      "cell_type": "markdown",
      "source": [
        "filter() function is another built-in function and like map() , it take function as first parameter and iterables as second parameter. Incase of filter(), the function is generally a conditional function, which will filter out data as per certain condition. Filter function also generates an iterable as its output."
      ],
      "metadata": {
        "id": "DrIKcoTKIKBP"
      }
    },
    {
      "cell_type": "code",
      "source": [
        "#Lambda function : Using filter for multiple values\n",
        "def multiples_of_five(num):\n",
        "    five_multiples = []\n",
        "    for n in num:\n",
        "        if n%5 == 0:\n",
        "            five_multiples.append(n)\n",
        "    return five_multiples\n",
        "\n",
        "num_list = list(range(2,20,1))\n",
        "print('Multiples of 5 are - ',multiples_of_five(num_list))\n",
        "\n",
        "num_list = list(range(2,20,1))\n",
        "five_multiples = filter(lambda x:x%5==0, num_list)\n",
        "print('Multiples of 5 are - ',list(five_multiples))\n"
      ],
      "metadata": {
        "colab": {
          "base_uri": "https://localhost:8080/"
        },
        "id": "Zr-5e44VIDTC",
        "outputId": "16ad66f1-03a1-4c17-f1f2-c09a3d5c399d"
      },
      "execution_count": 8,
      "outputs": [
        {
          "output_type": "stream",
          "name": "stdout",
          "text": [
            "Multiples of 5 are -  [5, 10, 15]\n",
            "Multiples of 5 are -  [5, 10, 15]\n"
          ]
        }
      ]
    },
    {
      "cell_type": "code",
      "source": [
        "# iter() -- iterator\n",
        "numbers = [10,20,30,40,50]\n",
        "\n",
        "iterable = iter(numbers)   #instantiating iter() obejct and storing in variable named iterable\n",
        "print(next(iterable))      #calling out values using next()\n",
        "print(next(iterable))\n",
        "print(next(iterable))\n",
        "\n",
        "print('======================================')\n",
        "\n",
        "word = \"Hello World!\"\n",
        "itering = iter(word)\n",
        "print(next(itering))\n",
        "print(next(itering))\n",
        "print(next(itering))\n",
        "print(next(itering))\n",
        "print(next(itering))"
      ],
      "metadata": {
        "colab": {
          "base_uri": "https://localhost:8080/"
        },
        "id": "xAmhAfmJI4Be",
        "outputId": "bcc1fd18-480f-4610-d7e6-433ef30d9c6e"
      },
      "execution_count": 14,
      "outputs": [
        {
          "output_type": "stream",
          "name": "stdout",
          "text": [
            "10\n",
            "20\n",
            "30\n",
            "======================================\n",
            "H\n",
            "e\n",
            "l\n",
            "l\n",
            "o\n"
          ]
        }
      ]
    },
    {
      "cell_type": "code",
      "source": [
        "# Generator\n",
        "def generate_five_multiples(terms):\n",
        "    for i in range(terms):\n",
        "        yield i*5\n",
        "\n",
        "generator_object = generate_five_multiples(10)   #we are calling the generator function here with 10 as argument and is storing the return value in generator object\n",
        "print(next(generator_object))\n",
        "print(next(generator_object))\n",
        "print(next(generator_object))\n",
        "\n",
        "print('===============================')\n",
        "\n",
        "def generate_five_multiples(terms):\n",
        "    for i in range(terms):\n",
        "        yield i*5\n",
        "\n",
        "generator_object = generate_five_multiples(10)\n",
        "print(generator_object)\n",
        "print(list(generator_object))\n",
        "\n",
        "print('===============================')\n",
        "\n",
        "iterator = iter(generator_object)   #we are getting StopIteration error since the generator object we placed inside iter is already exhausted\n",
        "print(next(iterator))\n",
        "print(next(iterator))"
      ],
      "metadata": {
        "colab": {
          "base_uri": "https://localhost:8080/",
          "height": 315
        },
        "id": "M_hRthkNKWDm",
        "outputId": "df4d309b-81c7-445a-e13a-c584bd60923b"
      },
      "execution_count": 17,
      "outputs": [
        {
          "output_type": "stream",
          "name": "stdout",
          "text": [
            "0\n",
            "5\n",
            "10\n",
            "===============================\n",
            "<generator object generate_five_multiples at 0x7b19262914d0>\n",
            "[0, 5, 10, 15, 20, 25, 30, 35, 40, 45]\n",
            "===============================\n"
          ]
        },
        {
          "output_type": "error",
          "ename": "StopIteration",
          "evalue": "",
          "traceback": [
            "\u001b[0;31m---------------------------------------------------------------------------\u001b[0m",
            "\u001b[0;31mStopIteration\u001b[0m                             Traceback (most recent call last)",
            "\u001b[0;32m<ipython-input-17-30214498d5a2>\u001b[0m in \u001b[0;36m<cell line: 24>\u001b[0;34m()\u001b[0m\n\u001b[1;32m     22\u001b[0m \u001b[0;34m\u001b[0m\u001b[0m\n\u001b[1;32m     23\u001b[0m \u001b[0miterator\u001b[0m \u001b[0;34m=\u001b[0m \u001b[0miter\u001b[0m\u001b[0;34m(\u001b[0m\u001b[0mgenerator_object\u001b[0m\u001b[0;34m)\u001b[0m   \u001b[0;31m#we are getting StopIteration error since the generator object we placed inside iter is already exhausted\u001b[0m\u001b[0;34m\u001b[0m\u001b[0;34m\u001b[0m\u001b[0m\n\u001b[0;32m---> 24\u001b[0;31m \u001b[0mprint\u001b[0m\u001b[0;34m(\u001b[0m\u001b[0mnext\u001b[0m\u001b[0;34m(\u001b[0m\u001b[0miterator\u001b[0m\u001b[0;34m)\u001b[0m\u001b[0;34m)\u001b[0m\u001b[0;34m\u001b[0m\u001b[0;34m\u001b[0m\u001b[0m\n\u001b[0m\u001b[1;32m     25\u001b[0m \u001b[0mprint\u001b[0m\u001b[0;34m(\u001b[0m\u001b[0mnext\u001b[0m\u001b[0;34m(\u001b[0m\u001b[0miterator\u001b[0m\u001b[0;34m)\u001b[0m\u001b[0;34m)\u001b[0m\u001b[0;34m\u001b[0m\u001b[0;34m\u001b[0m\u001b[0m\n",
            "\u001b[0;31mStopIteration\u001b[0m: "
          ]
        }
      ]
    },
    {
      "cell_type": "code",
      "source": [
        "# decorator @\n",
        "# function on top of another function\n",
        "\n",
        "def number_addition(numbers):\n",
        "    total = 0\n",
        "    for i in numbers:\n",
        "        total += i\n",
        "    return total\n",
        "\n",
        "num_list = range(200000)\n",
        "number_addition(num_list)"
      ],
      "metadata": {
        "colab": {
          "base_uri": "https://localhost:8080/"
        },
        "id": "inNzzusIMqpl",
        "outputId": "d337e4b5-8407-4027-dd01-3a196a6cf3b9"
      },
      "execution_count": 18,
      "outputs": [
        {
          "output_type": "execute_result",
          "data": {
            "text/plain": [
              "19999900000"
            ]
          },
          "metadata": {},
          "execution_count": 18
        }
      ]
    },
    {
      "cell_type": "code",
      "source": [
        "import time\n",
        "\n",
        "def time_taken_to_run(function_name):\n",
        "    def wrapper(*args, **kwargs):    #this is taking the numbers as *args. **kwargs is empty since we are not having keyworded arguments\n",
        "        start_time = time.time()     #starting the time of operation\n",
        "        result = function_name(*args, **kwargs)    #calling the function of number_addition with numbers as parameters to execute the operation\n",
        "        end_time = time.time()    #ending the time of operation\n",
        "        print('Time take for calculating value of {} is {:.6f}'.format(result, (end_time - start_time)))  #difference in time between start and end\n",
        "        return result     #returning the resultant function that we called\n",
        "    return wrapper      #returning the inner function from the outer function\n",
        "\n",
        "@time_taken_to_run     #this is how decorators are defined on top of function\n",
        "def number_addition(numbers):   #our normal function definition\n",
        "    total = 0\n",
        "    for i in numbers:\n",
        "        total += i\n",
        "    return total\n",
        "\n",
        "number_addition(range(200000))    #calling the function will call the time taken to run function\n"
      ],
      "metadata": {
        "colab": {
          "base_uri": "https://localhost:8080/"
        },
        "id": "oRcnPDQOMzn2",
        "outputId": "24b187eb-b82a-4590-c742-e84eb355fdef"
      },
      "execution_count": 19,
      "outputs": [
        {
          "output_type": "stream",
          "name": "stdout",
          "text": [
            "Time take for calculating value of 19999900000 is 0.017107\n"
          ]
        },
        {
          "output_type": "execute_result",
          "data": {
            "text/plain": [
              "19999900000"
            ]
          },
          "metadata": {},
          "execution_count": 19
        }
      ]
    }
  ]
}