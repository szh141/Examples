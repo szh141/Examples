{
  "nbformat": 4,
  "nbformat_minor": 0,
  "metadata": {
    "colab": {
      "provenance": [],
      "authorship_tag": "ABX9TyNx8m/tc0v2/66NCnAPtFKc",
      "include_colab_link": true
    },
    "kernelspec": {
      "name": "python3",
      "display_name": "Python 3"
    },
    "language_info": {
      "name": "python"
    }
  },
  "cells": [
    {
      "cell_type": "markdown",
      "metadata": {
        "id": "view-in-github",
        "colab_type": "text"
      },
      "source": [
        "<a href=\"https://colab.research.google.com/github/szh141/Examples/blob/main/Python%20tricks/Iterator_and_generator.ipynb\" target=\"_parent\"><img src=\"https://colab.research.google.com/assets/colab-badge.svg\" alt=\"Open In Colab\"/></a>"
      ]
    },
    {
      "cell_type": "markdown",
      "source": [
        "https://blog.stackademic.com/iterators-and-generators-in-python-543637948c43"
      ],
      "metadata": {
        "id": "YbOmtSaAxxXY"
      }
    },
    {
      "cell_type": "code",
      "execution_count": 3,
      "metadata": {
        "id": "wQX8uKOixt_X"
      },
      "outputs": [],
      "source": [
        "class Iter():\n",
        "  def __init__(self, start, end):\n",
        "   self.cur = start\n",
        "   self.end = end\n",
        "  def __iter__(self):\n",
        "   return self\n",
        "  def __next__(self):\n",
        "   if self.cur >= self.end:\n",
        "    raise StopIteration\n",
        "   else:\n",
        "    self. cur += 1\n",
        "    return self.cur - 1"
      ]
    },
    {
      "cell_type": "code",
      "source": [
        "test = Iter(1, 25)\n",
        "for i in test:\n",
        "  print(i)"
      ],
      "metadata": {
        "colab": {
          "base_uri": "https://localhost:8080/"
        },
        "id": "gjn4LHz4x0kQ",
        "outputId": "bad42768-6fd0-40dd-bd34-92e66b9363bd"
      },
      "execution_count": 8,
      "outputs": [
        {
          "output_type": "stream",
          "name": "stdout",
          "text": [
            "1\n",
            "2\n",
            "3\n",
            "4\n",
            "5\n",
            "6\n",
            "7\n",
            "8\n",
            "9\n",
            "10\n",
            "11\n",
            "12\n",
            "13\n",
            "14\n",
            "15\n",
            "16\n",
            "17\n",
            "18\n",
            "19\n",
            "20\n",
            "21\n",
            "22\n",
            "23\n",
            "24\n"
          ]
        }
      ]
    },
    {
      "cell_type": "markdown",
      "source": [
        "Generators\n",
        "\n",
        "Generators provide a concise and efficient way of creating iterators.\n",
        "They use a special type of function that contains a yield statement.\n",
        "Whenever a generator function is called, it returns a generator iterator and allows it to iterate through the values produced by the yield statements."
      ],
      "metadata": {
        "id": "ixngMMwty2gm"
      }
    },
    {
      "cell_type": "code",
      "source": [
        "def my_gen(start, end):\n",
        "    current = start\n",
        "    while current < end:\n",
        "        yield current\n",
        "        current += 1\n",
        "    print(\"Generator finished\")\n",
        "gen = my_gen(1, 50)\n",
        "for num in gen:\n",
        " print(num)"
      ],
      "metadata": {
        "colab": {
          "base_uri": "https://localhost:8080/"
        },
        "id": "ROgOyUUQytLf",
        "outputId": "e8520265-450a-48a2-9aba-8876e4b5ccf1"
      },
      "execution_count": 10,
      "outputs": [
        {
          "output_type": "stream",
          "name": "stdout",
          "text": [
            "1\n",
            "2\n",
            "3\n",
            "4\n",
            "5\n",
            "6\n",
            "7\n",
            "8\n",
            "9\n",
            "10\n",
            "11\n",
            "12\n",
            "13\n",
            "14\n",
            "15\n",
            "16\n",
            "17\n",
            "18\n",
            "19\n",
            "20\n",
            "21\n",
            "22\n",
            "23\n",
            "24\n",
            "25\n",
            "26\n",
            "27\n",
            "28\n",
            "29\n",
            "30\n",
            "31\n",
            "32\n",
            "33\n",
            "34\n",
            "35\n",
            "36\n",
            "37\n",
            "38\n",
            "39\n",
            "40\n",
            "41\n",
            "42\n",
            "43\n",
            "44\n",
            "45\n",
            "46\n",
            "47\n",
            "48\n",
            "49\n",
            "Generator finished\n"
          ]
        }
      ]
    },
    {
      "cell_type": "markdown",
      "source": [
        "Therefore both iterators and generators are crucial for working with sequences in Python.\n",
        "\n",
        "Iterators offer manual control, while generators provide a more Pythonic and concise approach particularly useful for scenarios involving large datasets.\n",
        "\n",
        "The choice between them depends on the specific requirements and complexity of our code."
      ],
      "metadata": {
        "id": "Gg-YzERFzGV3"
      }
    }
  ]
}