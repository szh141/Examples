{
  "nbformat": 4,
  "nbformat_minor": 0,
  "metadata": {
    "colab": {
      "provenance": [],
      "authorship_tag": "ABX9TyPWhJihAQY8ZM/Y+BNw1COB",
      "include_colab_link": true
    },
    "kernelspec": {
      "name": "python3",
      "display_name": "Python 3"
    },
    "language_info": {
      "name": "python"
    }
  },
  "cells": [
    {
      "cell_type": "markdown",
      "metadata": {
        "id": "view-in-github",
        "colab_type": "text"
      },
      "source": [
        "<a href=\"https://colab.research.google.com/github/szh141/Examples/blob/main/Python%20tricks/random_generator.ipynb\" target=\"_parent\"><img src=\"https://colab.research.google.com/assets/colab-badge.svg\" alt=\"Open In Colab\"/></a>"
      ]
    },
    {
      "cell_type": "markdown",
      "source": [
        "generator is different than np.random.randint\n",
        "\n",
        "generator yield random number as it goes, doesn't require a list"
      ],
      "metadata": {
        "id": "5Nd44Flg4VgL"
      }
    },
    {
      "cell_type": "code",
      "execution_count": 1,
      "metadata": {
        "id": "uf9qFEJS32JN"
      },
      "outputs": [],
      "source": [
        "import numpy as np\n",
        "rng = np.random.default_rng()"
      ]
    },
    {
      "cell_type": "code",
      "source": [
        "for i in range(10):\n",
        "  print(rng.integers(50,256))"
      ],
      "metadata": {
        "colab": {
          "base_uri": "https://localhost:8080/"
        },
        "id": "Efp4KzYB3-4B",
        "outputId": "75e0e781-f48a-4a5c-a51f-2b8de684d6c9"
      },
      "execution_count": 2,
      "outputs": [
        {
          "output_type": "stream",
          "name": "stdout",
          "text": [
            "75\n",
            "89\n",
            "54\n",
            "218\n",
            "61\n",
            "177\n",
            "238\n",
            "234\n",
            "131\n",
            "246\n"
          ]
        }
      ]
    },
    {
      "cell_type": "code",
      "source": [
        "random_array = np.random.randint(50,256,10)\n",
        "random_array"
      ],
      "metadata": {
        "colab": {
          "base_uri": "https://localhost:8080/"
        },
        "id": "Od4EBi724Uut",
        "outputId": "f5dc6e2d-27ec-4d92-80f7-26e44caf5aa3"
      },
      "execution_count": 3,
      "outputs": [
        {
          "output_type": "execute_result",
          "data": {
            "text/plain": [
              "array([ 90, 118, 108, 128, 208, 208, 113, 215,  79, 172])"
            ]
          },
          "metadata": {},
          "execution_count": 3
        }
      ]
    },
    {
      "cell_type": "markdown",
      "source": [
        "# example of random intensity of the blob"
      ],
      "metadata": {
        "id": "Q2RHmOix5BGA"
      }
    },
    {
      "cell_type": "code",
      "source": [
        "import matplotlib.pyplot as plt\n",
        "import numpy as np\n",
        "from matplotlib.colors import LinearSegmentedColormap\n",
        "from scipy import ndimage as ndi\n",
        "from skimage import data, filters, measure, segmentation\n",
        "\n",
        "# segment nucleus\n",
        "nucleus = data.protein_transport()[0, 0, :, :180]\n",
        "smooth = filters.gaussian(nucleus, sigma=1.5)\n",
        "thresh = smooth > filters.threshold_otsu(smooth)\n",
        "fill = ndi.binary_fill_holes(thresh)\n",
        "nucleus_seg = segmentation.clear_border(fill)\n",
        "plt.imshow(nucleus_seg)\n",
        "\n",
        "# protein blobs of varying intensity\n",
        "proteinA = np.zeros_like(nucleus, dtype=\"float64\")\n",
        "proteinA_seg = np.zeros_like(nucleus, dtype=\"float64\")\n",
        "\n",
        "rng = np.random.default_rng()\n",
        "\n",
        "for i in range(10):\n",
        "  blobs = data.binary_blobs(180,\n",
        "                            blob_size_fraction=0.5,\n",
        "                            volume_fraction=(50/(180**2)),\n",
        "                            )\n",
        "  blobs_image = filters.gaussian(blobs, sigma=1.5) * rng.integers(50, 256)\n",
        "  proteinA += blobs_image\n",
        "  proteinA_seg += blobs"
      ],
      "metadata": {
        "colab": {
          "base_uri": "https://localhost:8080/",
          "height": 472
        },
        "id": "Rk17mgbS4xeP",
        "outputId": "68a51e36-d5a3-4b41-b3c7-7acc0135fcb7"
      },
      "execution_count": 4,
      "outputs": [
        {
          "output_type": "stream",
          "name": "stderr",
          "text": [
            "Downloading file 'data/protein_transport.tif' from 'https://gitlab.com/scikit-image/data/-/raw/master/NPCsingleNucleus.tif' to '/root/.cache/scikit-image/0.19.3'.\n"
          ]
        },
        {
          "output_type": "display_data",
          "data": {
            "text/plain": [
              "<Figure size 640x480 with 1 Axes>"
            ],
            "image/png": "[encoded data removed]"
          },
          "metadata": {}
        }
      ]
    }
  ]
}