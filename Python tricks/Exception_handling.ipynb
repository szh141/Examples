{
  "nbformat": 4,
  "nbformat_minor": 0,
  "metadata": {
    "colab": {
      "provenance": [],
      "authorship_tag": "ABX9TyP2sawPj1aCQpPiGj3IJTkJ",
      "include_colab_link": true
    },
    "kernelspec": {
      "name": "python3",
      "display_name": "Python 3"
    },
    "language_info": {
      "name": "python"
    }
  },
  "cells": [
    {
      "cell_type": "markdown",
      "metadata": {
        "id": "view-in-github",
        "colab_type": "text"
      },
      "source": [
        "<a href=\"https://colab.research.google.com/github/szh141/Examples/blob/main/Python%20tricks/Exception_handling.ipynb\" target=\"_parent\"><img src=\"https://colab.research.google.com/assets/colab-badge.svg\" alt=\"Open In Colab\"/></a>"
      ]
    },
    {
      "cell_type": "markdown",
      "source": [
        "https://medium.com/@shahooda637/exception-handling-in-python-36be1ea33dd0"
      ],
      "metadata": {
        "id": "obe8b1RNSJg0"
      }
    },
    {
      "cell_type": "code",
      "execution_count": 2,
      "metadata": {
        "colab": {
          "base_uri": "https://localhost:8080/"
        },
        "id": "A0WX8rw0SCWQ",
        "outputId": "9f5d9d10-c95e-43dd-fd33-3b336a4654f9"
      },
      "outputs": [
        {
          "output_type": "stream",
          "name": "stdout",
          "text": [
            "Some issue with this code:  [Errno 2] No such file or directory: 'test.txt'\n",
            "====================\n",
            "We continue executing the rest of the code so the program is not crashing.\n",
            "5+6 = 11\n"
          ]
        }
      ],
      "source": [
        "try:\n",
        "  f = open('test.txt','r')\n",
        "except Exception as e:\n",
        "  print('Some issue with this code: ',e)\n",
        "\n",
        "print('====================')\n",
        "print('We continue executing the rest of the code so the program is not crashing.')\n",
        "\n",
        "a = 5\n",
        "b = 6\n",
        "print('5+6 =',a+b)"
      ]
    }
  ]
}