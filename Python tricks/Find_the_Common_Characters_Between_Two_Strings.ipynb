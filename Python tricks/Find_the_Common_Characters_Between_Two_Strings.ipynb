{
  "nbformat": 4,
  "nbformat_minor": 0,
  "metadata": {
    "colab": {
      "provenance": [],
      "authorship_tag": "ABX9TyPJ8Ohl4zohzzvYaRpPakPA",
      "include_colab_link": true
    },
    "kernelspec": {
      "name": "python3",
      "display_name": "Python 3"
    },
    "language_info": {
      "name": "python"
    }
  },
  "cells": [
    {
      "cell_type": "markdown",
      "metadata": {
        "id": "view-in-github",
        "colab_type": "text"
      },
      "source": [
        "<a href=\"https://colab.research.google.com/github/szh141/Examples/blob/main/Python%20tricks/Find_the_Common_Characters_Between_Two_Strings.ipynb\" target=\"_parent\"><img src=\"https://colab.research.google.com/assets/colab-badge.svg\" alt=\"Open In Colab\"/></a>"
      ]
    },
    {
      "cell_type": "code",
      "source": [
        "# Check if a String is a Number (Float)\n",
        "\n",
        "for s in ('123.45','text'):\n",
        "  try:\n",
        "      float(s)\n",
        "      print(f\"{s} is a number\")\n",
        "  except ValueError:\n",
        "      print(f\"{s} is not a number\")"
      ],
      "metadata": {
        "colab": {
          "base_uri": "https://localhost:8080/"
        },
        "id": "zrPP9ypuEBhr",
        "outputId": "4d38da36-04c7-4f5e-ebdf-69c4dc71a805"
      },
      "execution_count": 3,
      "outputs": [
        {
          "output_type": "stream",
          "name": "stdout",
          "text": [
            "123.45 is a number\n",
            "text is not a number\n"
          ]
        }
      ]
    }
  ]
}