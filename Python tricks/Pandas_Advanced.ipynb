{
  "nbformat": 4,
  "nbformat_minor": 0,
  "metadata": {
    "colab": {
      "provenance": [],
      "authorship_tag": "ABX9TyNDwZXndxTH+LGhcA2q62jd",
      "include_colab_link": true
    },
    "kernelspec": {
      "name": "python3",
      "display_name": "Python 3"
    },
    "language_info": {
      "name": "python"
    }
  },
  "cells": [
    {
      "cell_type": "markdown",
      "metadata": {
        "id": "view-in-github",
        "colab_type": "text"
      },
      "source": [
        "<a href=\"https://colab.research.google.com/github/szh141/Examples/blob/main/Python%20tricks/Pandas_Advanced.ipynb\" target=\"_parent\"><img src=\"https://colab.research.google.com/assets/colab-badge.svg\" alt=\"Open In Colab\"/></a>"
      ]
    },
    {
      "cell_type": "markdown",
      "source": [
        "https://python.plainenglish.io/pandas-demystified-a-comprehensive-handbook-for-data-enthusiasts-part-2-4e2449fcc939\n"
      ],
      "metadata": {
        "id": "h2M4YmpxQjhY"
      }
    },
    {
      "cell_type": "code",
      "execution_count": 2,
      "metadata": {
        "colab": {
          "base_uri": "https://localhost:8080/"
        },
        "id": "Yv8iZ6AoQfkM",
        "outputId": "db685105-6af9-4356-9385-e704829b318a"
      },
      "outputs": [
        {
          "output_type": "stream",
          "name": "stdout",
          "text": [
            "Category\n",
            "Clothing       1000\n",
            "Electronics    1800\n",
            "Name: Sales, dtype: int64\n"
          ]
        }
      ],
      "source": [
        "# groupby\n",
        "\n",
        "import pandas as pd\n",
        "\n",
        "# Sample DataFrame\n",
        "data = {'Category': ['Electronics', 'Clothing', 'Electronics', 'Clothing'],\n",
        "        'Sales': [1000, 500, 800, 500]}\n",
        "df = pd.DataFrame(data)\n",
        "\n",
        "# Grouping by 'Category'\n",
        "grouped_data = df.groupby('Category')\n",
        "\n",
        "# Choosing sales column to compare with grouped data and using sum function\n",
        "# This gives the total sales for each category.\n",
        "total_sales = grouped_data['Sales'].sum()\n",
        "print(total_sales)"
      ]
    },
    {
      "cell_type": "code",
      "source": [
        "# groupby multiple columns\n",
        "\n",
        "# Sample DataFrame\n",
        "data = {'Class': ['A', 'B', 'A', 'B', 'A', 'B'],\n",
        "        'Gender': ['Male', 'Male', 'Female', 'Female', 'Male', 'Female'],\n",
        "        'Math_Score': [85, 92, 78, 89, 90, 86],\n",
        "        'English_Score': [88, 94, 80, 92, 92, 88]}\n",
        "df = pd.DataFrame(data)\n",
        "\n",
        "# Grouping by 'Class' and 'Gender' and calculating statistics\n",
        "grouped_data = df.groupby(['Class', 'Gender'])\n",
        "\n",
        "# Calculate the mean for Math_score\n",
        "agg_results = grouped_data['Math_Score'].mean()\n",
        "\n",
        "print(agg_results)"
      ],
      "metadata": {
        "colab": {
          "base_uri": "https://localhost:8080/"
        },
        "id": "xyN8ZObhRObr",
        "outputId": "1fbbd2ab-805e-492e-e7c0-42ce0753977f"
      },
      "execution_count": 3,
      "outputs": [
        {
          "output_type": "stream",
          "name": "stdout",
          "text": [
            "Class  Gender\n",
            "A      Female    78.0\n",
            "       Male      87.5\n",
            "B      Female    87.5\n",
            "       Male      92.0\n",
            "Name: Math_Score, dtype: float64\n"
          ]
        }
      ]
    },
    {
      "cell_type": "code",
      "source": [
        "# without specifying a column\n",
        "aggregated_data = grouped_data.mean()\n",
        "print(aggregated_data)"
      ],
      "metadata": {
        "colab": {
          "base_uri": "https://localhost:8080/"
        },
        "id": "tvK_cpfTRdnV",
        "outputId": "a886dca8-2ca1-41da-e14d-a25210557e87"
      },
      "execution_count": 5,
      "outputs": [
        {
          "output_type": "stream",
          "name": "stdout",
          "text": [
            "              Math_Score  English_Score\n",
            "Class Gender                           \n",
            "A     Female        78.0           80.0\n",
            "      Male          87.5           90.0\n",
            "B     Female        87.5           90.0\n",
            "      Male          92.0           94.0\n"
          ]
        }
      ]
    },
    {
      "cell_type": "markdown",
      "source": [
        "Categorical data\n",
        "\n",
        "One Hot Encoding vs label encoding"
      ],
      "metadata": {
        "id": "VuWsQVS6RrUP"
      }
    },
    {
      "cell_type": "code",
      "source": [
        "import pandas as pd\n",
        "\n",
        "# Sample DataFrame with a categorical column\n",
        "data = {'Category': ['A', 'B', 'A', 'C', 'B'],\n",
        "         'Count':[1,2,3,4,5]}\n",
        "df = pd.DataFrame(data)\n",
        "\n",
        "# Perform one-hot encoding\n",
        "encoded_df = pd.get_dummies(df, columns=['Category'])\n",
        "print(encoded_df)"
      ],
      "metadata": {
        "colab": {
          "base_uri": "https://localhost:8080/"
        },
        "id": "pbx6cBKORuSN",
        "outputId": "a6c9f0ff-a5bb-419d-aed4-d8302caa892a"
      },
      "execution_count": 6,
      "outputs": [
        {
          "output_type": "stream",
          "name": "stdout",
          "text": [
            "   Count  Category_A  Category_B  Category_C\n",
            "0      1           1           0           0\n",
            "1      2           0           1           0\n",
            "2      3           1           0           0\n",
            "3      4           0           0           1\n",
            "4      5           0           1           0\n"
          ]
        }
      ]
    },
    {
      "cell_type": "markdown",
      "source": [
        "Label encoding: Say there are 100 unique values in a categorical column, in that case if we use **one-hot encoding it would create 100 new columns**! If we don’t want to populate the data like that, we have another approach in which it assigns a unique numerical value to each category. .astype('category').cat.codes method is used to convert category columns to label encoding."
      ],
      "metadata": {
        "id": "slpQUeP-fK3X"
      }
    },
    {
      "cell_type": "code",
      "source": [
        "df2 = pd.DataFrame(data)\n",
        "\n",
        "# Perform label encoding\n",
        "df2['Category_Encoded'] = df2['Category'].astype('category').cat.codes\n",
        "print(df2)"
      ],
      "metadata": {
        "colab": {
          "base_uri": "https://localhost:8080/"
        },
        "id": "CmBX5pa5esnc",
        "outputId": "0b6f5d3e-fba7-437a-a9b0-4d385bd36aed"
      },
      "execution_count": 7,
      "outputs": [
        {
          "output_type": "stream",
          "name": "stdout",
          "text": [
            "  Category  Count  Category_Encoded\n",
            "0        A      1                 0\n",
            "1        B      2                 1\n",
            "2        A      3                 0\n",
            "3        C      4                 2\n",
            "4        B      5                 1\n"
          ]
        }
      ]
    }
  ]
}