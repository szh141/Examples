{
  "nbformat": 4,
  "nbformat_minor": 0,
  "metadata": {
    "colab": {
      "provenance": [],
      "authorship_tag": "ABX9TyNITAr2lhhrGM33zQZkPxN0",
      "include_colab_link": true
    },
    "kernelspec": {
      "name": "python3",
      "display_name": "Python 3"
    },
    "language_info": {
      "name": "python"
    }
  },
  "cells": [
    {
      "cell_type": "markdown",
      "metadata": {
        "id": "view-in-github",
        "colab_type": "text"
      },
      "source": [
        "<a href=\"https://colab.research.google.com/github/szh141/Examples/blob/main/Python%20tricks/Iterators_and_Generators.ipynb\" target=\"_parent\"><img src=\"https://colab.research.google.com/assets/colab-badge.svg\" alt=\"Open In Colab\"/></a>"
      ]
    },
    {
      "cell_type": "markdown",
      "source": [
        "https://lukianovihor.medium.com/python-iterators-and-generators-87567ef3b786"
      ],
      "metadata": {
        "id": "48WE0byMemuQ"
      }
    },
    {
      "cell_type": "code",
      "execution_count": null,
      "metadata": {
        "colab": {
          "base_uri": "https://localhost:8080/"
        },
        "id": "arPd2voCZtHb",
        "outputId": "6f53b139-c873-4f4e-a03e-58252f91191d"
      },
      "outputs": [
        {
          "output_type": "stream",
          "name": "stdout",
          "text": [
            "1\n",
            "2\n",
            "3\n",
            "4\n",
            "5\n",
            "===============\n",
            "1\n",
            "2\n",
            "3\n",
            "4\n",
            "5\n"
          ]
        }
      ],
      "source": [
        "x = [1, 2, 3, 4, 5]\n",
        "\n",
        "for i in x: # funcion iter is called by default\n",
        "    print(i)\n",
        "\n",
        "print('===============')\n",
        "for i in iter(x):\n",
        "    print(i)\n",
        "\n",
        "# both variants provide the same output"
      ]
    },
    {
      "cell_type": "markdown",
      "source": [
        "We can **manually** iterate through an iterator object by using **the next() function**. When the iterator has no more objects left, trying to get the next one will result in a StopIteration error being raised. This is an interesting feature to keep in mind while working with iterators in Python."
      ],
      "metadata": {
        "id": "Lagw_dcyfYBx"
      }
    },
    {
      "cell_type": "code",
      "source": [
        "x = [1, 2, 3, 4, 5]\n",
        "\n",
        "it = iter(x)\n",
        "\n",
        "for i in range(5):\n",
        "    print(next(it))\n",
        "\n",
        "print(it)\n",
        "print(list(it))\n",
        "# iterator 'it' reaches the end already from print(next(it))\n",
        "# iterator can only cycle once"
      ],
      "metadata": {
        "colab": {
          "base_uri": "https://localhost:8080/"
        },
        "id": "jgsvI1WhZ0QJ",
        "outputId": "77cb6504-23a4-4487-9d98-44a372f55f0e"
      },
      "execution_count": null,
      "outputs": [
        {
          "output_type": "stream",
          "name": "stdout",
          "text": [
            "1\n",
            "2\n",
            "3\n",
            "4\n",
            "5\n",
            "<list_iterator object at 0x7afb0c13d6f0>\n",
            "[]\n"
          ]
        }
      ]
    },
    {
      "cell_type": "markdown",
      "source": [
        "In general, any function that makes use of the yield keyword is considered to be a **generator function**. When we call such a function, it returns a **generator object**."
      ],
      "metadata": {
        "id": "-MA_DGqOhbHG"
      }
    },
    {
      "cell_type": "code",
      "source": [
        "def basic_gen():\n",
        "    yield 1\n",
        "    yield 2\n",
        "\n",
        "print(basic_gen())\n",
        "print('===================')\n",
        "\n",
        "for i in basic_gen():\n",
        "    print(i)\n",
        "print('===================')\n",
        "\n",
        "# we can also use next() with generator objects\n",
        "test = basic_gen()\n",
        "print(next(test))\n"
      ],
      "metadata": {
        "colab": {
          "base_uri": "https://localhost:8080/"
        },
        "id": "lnGfT6flf-RH",
        "outputId": "a7ea6b93-25b4-4ae8-bbdb-398768386f77"
      },
      "execution_count": null,
      "outputs": [
        {
          "output_type": "stream",
          "name": "stdout",
          "text": [
            "<generator object basic_gen at 0x7afb0c1b65e0>\n",
            "===================\n",
            "1\n",
            "2\n",
            "===================\n",
            "1\n"
          ]
        }
      ]
    },
    {
      "cell_type": "markdown",
      "source": [
        "What’s the matter with memory?\n",
        "\n",
        "Regardless of the size of the input data, the generator will allocate 192 bytes of memory for the operation. While this approach may not have a dramatic difference for small problems, it becomes increasingly important for larger datasets. Imagine you have a file that is 20GB in size. In such a case, it is not practical to load the entire file into memory at once. By using a generator, you can avoid this issue and save on memory usage."
      ],
      "metadata": {
        "id": "s8AcJIBxPw1m"
      }
    },
    {
      "cell_type": "code",
      "source": [
        "import sys\n",
        "\n",
        "def gen_list(numbers):\n",
        "    yield from numbers\n",
        "\n",
        "# small case\n",
        "numbers = list(range(10))\n",
        "gen_1 = gen_list(numbers)\n",
        "size_1 = sys.getsizeof(gen_1)\n",
        "\n",
        "# more numbers in list\n",
        "numbers = list(range(10000000))\n",
        "gen_2 = gen_list(numbers)\n",
        "size_2 = sys.getsizeof(gen_2)\n",
        "\n",
        "print(size_1, size_2)\n",
        "# 192 192"
      ],
      "metadata": {
        "colab": {
          "base_uri": "https://localhost:8080/"
        },
        "id": "pZ9n-XgXP4-k",
        "outputId": "707bf709-66ef-4bb0-ced3-142c258ee6ee"
      },
      "execution_count": 1,
      "outputs": [
        {
          "output_type": "stream",
          "name": "stdout",
          "text": [
            "104 104\n"
          ]
        }
      ]
    },
    {
      "cell_type": "markdown",
      "source": [
        "The explanation that\n",
        "\n",
        "yield from g\n",
        "\n",
        "is equivalent to\n",
        "\n",
        "for v in g: yield v\n",
        "\n",
        "does not even begin to do justice to what yield from is all about. Because, let's face it, if all yield from does is expand the for loop, then it does not warrant adding yield from to the language and preclude a whole bunch of new features from being implemented in Python 2.x.\n",
        "\n",
        "https://stackoverflow.com/questions/9708902/in-practice-what-are-the-main-uses-for-the-yield-from-syntax-in-python-3-3"
      ],
      "metadata": {
        "id": "xXyveIsoQUFa"
      }
    }
  ]
}