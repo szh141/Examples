{
  "nbformat": 4,
  "nbformat_minor": 0,
  "metadata": {
    "colab": {
      "provenance": [],
      "authorship_tag": "ABX9TyMoRS3GOagVV8qf+mgvf8eh",
      "include_colab_link": true
    },
    "kernelspec": {
      "name": "python3",
      "display_name": "Python 3"
    },
    "language_info": {
      "name": "python"
    }
  },
  "cells": [
    {
      "cell_type": "markdown",
      "metadata": {
        "id": "view-in-github",
        "colab_type": "text"
      },
      "source": [
        "<a href=\"https://colab.research.google.com/github/szh141/Examples/blob/main/Python%20tricks/zip_and_enumerate.ipynb\" target=\"_parent\"><img src=\"https://colab.research.google.com/assets/colab-badge.svg\" alt=\"Open In Colab\"/></a>"
      ]
    },
    {
      "cell_type": "markdown",
      "source": [
        "**zip()** function combines multiple iterables into tuples. This is useful when you need to pair elements from different lists.\n",
        "\n",
        "**enumerate()** adds a counter to an iterable, making it easy to track the index and value during iteration."
      ],
      "metadata": {
        "id": "WrktsuYa5hxG"
      }
    },
    {
      "cell_type": "code",
      "execution_count": 1,
      "metadata": {
        "colab": {
          "base_uri": "https://localhost:8080/"
        },
        "id": "LUGfiZfR5Z4H",
        "outputId": "8912d4df-2d5e-4ce2-ccb0-c1760043363d"
      },
      "outputs": [
        {
          "output_type": "stream",
          "name": "stdout",
          "text": [
            "<zip object at 0x7b5469337c80>\n",
            "[('Alice', 95), ('Bob', 88), ('Charlie', 92)]\n"
          ]
        }
      ],
      "source": [
        "names = [\"Alice\", \"Bob\", \"Charlie\"]\n",
        "scores = [95, 88, 92]\n",
        "print(zip(names,scores))\n",
        "# need to cast the zip object to a list to print out\n",
        "print(list(zip(names, scores)))"
      ]
    },
    {
      "cell_type": "code",
      "source": [
        "# combine zip() with enumerate()\n",
        "\n",
        "names = ['Mukesh', 'Roni', 'Chari']\n",
        "ages = [24, 50, 18]\n",
        "\n",
        "for i, (name, age) in enumerate(zip(names, ages)):\n",
        "    print(i, name, age)"
      ],
      "metadata": {
        "colab": {
          "base_uri": "https://localhost:8080/"
        },
        "id": "2XI1jPM4569B",
        "outputId": "85dc0646-a08a-43aa-c78a-727e2079175f"
      },
      "execution_count": 2,
      "outputs": [
        {
          "output_type": "stream",
          "name": "stdout",
          "text": [
            "0 Mukesh 24\n",
            "1 Roni 50\n",
            "2 Chari 18\n"
          ]
        }
      ]
    },
    {
      "cell_type": "code",
      "source": [
        "fruits = [\"apples\",\"oranges\",\"bananas\",\"melons\"]\n",
        "prices = [20,10,5,15]\n",
        "quantities = [5,7,3,4]\n",
        "\n",
        "for fruit, price, quantity in zip(fruits,prices,quantities):\n",
        "  print(f\"You bought {quantity} {fruit} for ${price*quantity}\")"
      ],
      "metadata": {
        "colab": {
          "base_uri": "https://localhost:8080/"
        },
        "id": "BNrY6PCe8Sqq",
        "outputId": "cb03377d-0f29-4921-d960-fb2c95e6503f"
      },
      "execution_count": 4,
      "outputs": [
        {
          "output_type": "stream",
          "name": "stdout",
          "text": [
            "You bought 5 apples for $100\n",
            "You bought 7 oranges for $70\n",
            "You bought 3 bananas for $15\n",
            "You bought 4 melons for $60\n"
          ]
        }
      ]
    }
  ]
}