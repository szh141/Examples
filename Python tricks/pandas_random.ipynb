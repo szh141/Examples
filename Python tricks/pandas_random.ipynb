{
  "nbformat": 4,
  "nbformat_minor": 0,
  "metadata": {
    "colab": {
      "provenance": [],
      "authorship_tag": "ABX9TyMIR34UkJLOKWQeA61HQpgI",
      "include_colab_link": true
    },
    "kernelspec": {
      "name": "python3",
      "display_name": "Python 3"
    },
    "language_info": {
      "name": "python"
    }
  },
  "cells": [
    {
      "cell_type": "markdown",
      "metadata": {
        "id": "view-in-github",
        "colab_type": "text"
      },
      "source": [
        "<a href=\"https://colab.research.google.com/github/szh141/Examples/blob/main/Python%20tricks/pandas_random.ipynb\" target=\"_parent\"><img src=\"https://colab.research.google.com/assets/colab-badge.svg\" alt=\"Open In Colab\"/></a>"
      ]
    },
    {
      "cell_type": "markdown",
      "source": [
        "https://sarangsurve.medium.com/python-basics-what-is-super-4c456d5210fe"
      ],
      "metadata": {
        "id": "gwJuIRVfWqNC"
      }
    },
    {
      "cell_type": "code",
      "execution_count": 1,
      "metadata": {
        "colab": {
          "base_uri": "https://localhost:8080/"
        },
        "id": "zdrSkaJSWmMT",
        "outputId": "4bdf9f11-b698-4c28-cc87-7df57b6956d0"
      },
      "outputs": [
        {
          "output_type": "stream",
          "name": "stdout",
          "text": [
            "Whiskey says \n",
            "Woof happily\n"
          ]
        }
      ],
      "source": [
        "import pandas as pd\n",
        "\n",
        "\n",
        "# Read the CSV file into a DataFrame\n",
        "df = pd.read_csv('sales_data.csv')\n",
        "# Display the first few rows of the DataFrame\n",
        "print(df.head())\n",
        "# Calculate total sales by product category\n",
        "sales_by_category = df.groupby('Category')['Sales'].sum()\n",
        "print(sales_by_category)\n",
        "# Filter the DataFrame to include only sales above a certain threshold\n",
        "high_sales = df[df['Sales'] > 1000]\n",
        "print(high_sales)\n",
        "# Create a new column based on a condition\n",
        "df['Discount'] = df['Price'].apply(lambda x: 0.1 if x > 50 else 0)\n",
        "print(df.head())\n",
        "# Save the modified DataFrame to a new CSV file\n",
        "df.to_csv('updated_sales_data.csv', index=False)"
      ]
    }
  ]
}