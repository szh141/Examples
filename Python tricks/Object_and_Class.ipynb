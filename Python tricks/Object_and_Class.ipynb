{
  "nbformat": 4,
  "nbformat_minor": 0,
  "metadata": {
    "colab": {
      "provenance": [],
      "authorship_tag": "ABX9TyO1S0ZjDAIQHa0Qo8e5VN4t",
      "include_colab_link": true
    },
    "kernelspec": {
      "name": "python3",
      "display_name": "Python 3"
    },
    "language_info": {
      "name": "python"
    }
  },
  "cells": [
    {
      "cell_type": "markdown",
      "metadata": {
        "id": "view-in-github",
        "colab_type": "text"
      },
      "source": [
        "<a href=\"https://colab.research.google.com/github/szh141/Examples/blob/main/Python%20tricks/Object_and_Class.ipynb\" target=\"_parent\"><img src=\"https://colab.research.google.com/assets/colab-badge.svg\" alt=\"Open In Colab\"/></a>"
      ]
    },
    {
      "cell_type": "markdown",
      "source": [
        "Python OOP\n",
        "\n",
        "An object is simply a collection of data (variables) and methods (functions).\n",
        "\n",
        "A class is a blueprint for that object."
      ],
      "metadata": {
        "id": "GvvGwFMbXPAu"
      }
    },
    {
      "cell_type": "code",
      "execution_count": 1,
      "metadata": {
        "id": "df3qQecIXG3q"
      },
      "outputs": [],
      "source": [
        "# create class\n",
        "class Bike:\n",
        "    # default attributes\n",
        "    name = \"\"\n",
        "    gear = 0\n",
        "\n",
        "# create objects of class\n",
        "bike1 = Bike()"
      ]
    },
    {
      "cell_type": "code",
      "source": [
        "# access attributes and assign new values\n",
        "bike1.gear = 11\n",
        "bike1.name = \"Mountain Bike\"\n",
        "\n",
        "print(f\"Name: {bike1.name}, Gears: {bike1.gear} \")"
      ],
      "metadata": {
        "colab": {
          "base_uri": "https://localhost:8080/"
        },
        "id": "hq1Lmsz8Xtu1",
        "outputId": "01e85bc2-c4ad-4402-b4fc-8a85e10167b5"
      },
      "execution_count": 2,
      "outputs": [
        {
          "output_type": "stream",
          "name": "stdout",
          "text": [
            "Name: Mountain Bike, Gears: 11 \n"
          ]
        }
      ]
    },
    {
      "cell_type": "markdown",
      "source": [
        "self.attribute and methods (self)"
      ],
      "metadata": {
        "id": "i6qTvmU4YGSq"
      }
    },
    {
      "cell_type": "code",
      "source": [
        "# create a class\n",
        "class Room:\n",
        "    length = 0.0\n",
        "    breadth = 0.0\n",
        "\n",
        "    # method to calculate area\n",
        "    def calculate_area(self):\n",
        "        print(\"Area of Room =\", self.length * self.breadth)\n",
        "\n",
        "# create object of Room class\n",
        "study_room = Room()\n",
        "\n",
        "# assign values to all the properties\n",
        "study_room.length = 42.5\n",
        "study_room.breadth = 30.8\n",
        "\n",
        "# access method inside class\n",
        "study_room.calculate_area()"
      ],
      "metadata": {
        "colab": {
          "base_uri": "https://localhost:8080/"
        },
        "id": "pOpVXfMlYFYQ",
        "outputId": "c2fde318-4e06-40b7-e874-fda870333c9e"
      },
      "execution_count": 3,
      "outputs": [
        {
          "output_type": "stream",
          "name": "stdout",
          "text": [
            "Area of Room = 1309.0\n"
          ]
        }
      ]
    },
    {
      "cell_type": "markdown",
      "source": [
        "Class constructor\n",
        "\n",
        "If we use a constructor to initialize attribute values inside a class, we need to pass the corresponding value during the object creation of the class.\n"
      ],
      "metadata": {
        "id": "Yur_oYouYyAA"
      }
    },
    {
      "cell_type": "code",
      "source": [
        "class Bike:\n",
        "\n",
        "    # constructor function\n",
        "    def __init__(self, name = \"\"):\n",
        "        self.name = name\n",
        "\n",
        "bike1 = Bike(\"Mountain Bike\")\n",
        "bike1.name"
      ],
      "metadata": {
        "colab": {
          "base_uri": "https://localhost:8080/",
          "height": 35
        },
        "id": "X7f7tC3tY93r",
        "outputId": "7f056648-1033-486d-e56f-79b029395b6e"
      },
      "execution_count": 7,
      "outputs": [
        {
          "output_type": "execute_result",
          "data": {
            "text/plain": [
              "'Mountain Bike'"
            ],
            "application/vnd.google.colaboratory.intrinsic+json": {
              "type": "string"
            }
          },
          "metadata": {},
          "execution_count": 7
        }
      ]
    }
  ]
}