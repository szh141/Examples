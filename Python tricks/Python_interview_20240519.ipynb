{
  "nbformat": 4,
  "nbformat_minor": 0,
  "metadata": {
    "colab": {
      "provenance": [],
      "authorship_tag": "ABX9TyOWsFpDs2ssjibyPhfGZ+L1",
      "include_colab_link": true
    },
    "kernelspec": {
      "name": "python3",
      "display_name": "Python 3"
    },
    "language_info": {
      "name": "python"
    }
  },
  "cells": [
    {
      "cell_type": "markdown",
      "metadata": {
        "id": "view-in-github",
        "colab_type": "text"
      },
      "source": [
        "<a href=\"https://colab.research.google.com/github/szh141/Examples/blob/main/Python%20tricks/Python_interview_20240519.ipynb\" target=\"_parent\"><img src=\"https://colab.research.google.com/assets/colab-badge.svg\" alt=\"Open In Colab\"/></a>"
      ]
    },
    {
      "cell_type": "markdown",
      "source": [
        "https://python.plainenglish.io/not-another-python-interview-guide-top-501-problems-to-solve-part-1-24441d435932"
      ],
      "metadata": {
        "id": "Epv2Lq8vTBe1"
      }
    },
    {
      "cell_type": "code",
      "execution_count": 1,
      "metadata": {
        "colab": {
          "base_uri": "https://localhost:8080/"
        },
        "id": "o-znyDbgS8IW",
        "outputId": "9b4e5c28-2325-4cb4-8a95-e17d10b77bb0"
      },
      "outputs": [
        {
          "output_type": "stream",
          "name": "stdout",
          "text": [
            "True\n",
            "True\n",
            "True\n",
            "False\n"
          ]
        }
      ],
      "source": [
        "# is vs ==\n",
        "# point to memory vs check value\n",
        "\n",
        "#Proposed solution by github.com/tushar2704\n",
        "# 'is' checks for identity, '==' checks for equality\n",
        "a = [1, 2, 3]\n",
        "b = a\n",
        "c = list(a)\n",
        "print(a == b)  # Output: True\n",
        "print(a is b)  # Output: True\n",
        "print(a == c)  # Output: True\n",
        "print(a is c)  # Output: False\n"
      ]
    },
    {
      "cell_type": "code",
      "source": [
        "# enumerate vs zip function\n",
        "# access both index and value vs combine multiple lists\n",
        "\n",
        "fruits = ['apple', 'banana', 'cherry']\n",
        "for index, fruit in enumerate(fruits):\n",
        "    print(index, fruit)\n",
        "print('===================================')\n",
        "names = ['Alice', 'Bob', 'Charlie']\n",
        "ages = [25, 30, 35]\n",
        "for name, age in zip(names, ages):\n",
        "    print(f\"{name} is {age} years old\")"
      ],
      "metadata": {
        "colab": {
          "base_uri": "https://localhost:8080/"
        },
        "id": "dj5NVUvWTM_t",
        "outputId": "36f6bd02-9cbc-48f6-9d0b-076291ebe447"
      },
      "execution_count": 3,
      "outputs": [
        {
          "output_type": "stream",
          "name": "stdout",
          "text": [
            "0 apple\n",
            "1 banana\n",
            "2 cherry\n",
            "===================================\n",
            "Alice is 25 years old\n",
            "Bob is 30 years old\n",
            "Charlie is 35 years old\n"
          ]
        }
      ]
    },
    {
      "cell_type": "code",
      "source": [
        "def count_down(num):\n",
        "    while num > 0:\n",
        "        yield num\n",
        "        num -= 1\n",
        "\n",
        "list1 = count_down(5)\n",
        "print(list1)\n",
        "\n",
        "print('=====================')\n",
        "\n",
        "for i in list1:\n",
        "  print(i)"
      ],
      "metadata": {
        "colab": {
          "base_uri": "https://localhost:8080/"
        },
        "id": "4E56OeibU4gl",
        "outputId": "0cc884c5-27b8-4ae4-ec71-e884d7fbab93"
      },
      "execution_count": 11,
      "outputs": [
        {
          "output_type": "stream",
          "name": "stdout",
          "text": [
            "<generator object count_down at 0x7a974d973f40>\n",
            "=====================\n",
            "5\n",
            "4\n",
            "3\n",
            "2\n",
            "1\n"
          ]
        }
      ]
    }
  ]
}