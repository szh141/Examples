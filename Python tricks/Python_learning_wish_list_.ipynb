{
  "nbformat": 4,
  "nbformat_minor": 0,
  "metadata": {
    "colab": {
      "provenance": [],
      "authorship_tag": "ABX9TyPjGnJKgZv1j5kbDoPtGfDc",
      "include_colab_link": true
    },
    "kernelspec": {
      "name": "python3",
      "display_name": "Python 3"
    },
    "language_info": {
      "name": "python"
    }
  },
  "cells": [
    {
      "cell_type": "markdown",
      "metadata": {
        "id": "view-in-github",
        "colab_type": "text"
      },
      "source": [
        "<a href=\"https://colab.research.google.com/github/szh141/Examples/blob/main/Python%20tricks/Python_learning_wish_list_.ipynb\" target=\"_parent\"><img src=\"https://colab.research.google.com/assets/colab-badge.svg\" alt=\"Open In Colab\"/></a>"
      ]
    },
    {
      "cell_type": "markdown",
      "source": [
        "https://python.plainenglish.io/python-programming-essentials-what-i-wished-i-learned-52659e4937ad"
      ],
      "metadata": {
        "id": "2GFkBVQXw3j2"
      }
    },
    {
      "cell_type": "code",
      "source": [
        "# module.py\n",
        "\n",
        "# math_operations.py\n",
        "\n",
        "def add(x, y):\n",
        "    return x + y\n",
        "\n",
        "def subtract(x, y):\n",
        "    return x - y\n",
        "\n",
        "# main.py\n",
        "\n",
        "import math_operations\n",
        "\n",
        "result = math_operations.add(5, 3)\n",
        "print(result)"
      ],
      "metadata": {
        "id": "FfBeJkw721f_"
      },
      "execution_count": null,
      "outputs": []
    },
    {
      "cell_type": "code",
      "source": [
        "# Docstrings\n",
        "def greet(name):\n",
        "  \"\"\" This function greets the person passed in as a parameter. \"\"\"\n",
        "  print(f\"Hello, {name}!\")\n",
        "\n",
        "# Access the docstring\n",
        "docstring = greet.__doc__\n",
        "print(docstring)\n",
        "\n",
        "# We can also access the docstring of a function, class or module by using the .__doc__ attribute."
      ],
      "metadata": {
        "colab": {
          "base_uri": "https://localhost:8080/"
        },
        "id": "LErBrDvXz9E1",
        "outputId": "f69e6979-33b4-42bb-f20f-297ada71b44f"
      },
      "execution_count": null,
      "outputs": [
        {
          "output_type": "stream",
          "name": "stdout",
          "text": [
            " This function greets the person passed in as a parameter. \n"
          ]
        }
      ]
    },
    {
      "cell_type": "code",
      "source": [
        "# Decorator\n",
        "\n",
        "import time\n",
        "\n",
        "def timing_decorator(func):\n",
        "    def wrapper(*args, **kwargs):\n",
        "        start_time = time.time()\n",
        "        result = func(*args, **kwargs)\n",
        "        end_time = time.time()\n",
        "        print(f\"Execution time: {end_time - start_time} seconds\")\n",
        "        return result\n",
        "    return wrapper\n",
        "\n",
        "@timing_decorator\n",
        "def slow_function():\n",
        "    time.sleep(2)\n",
        "\n",
        "slow_function()"
      ],
      "metadata": {
        "colab": {
          "base_uri": "https://localhost:8080/"
        },
        "id": "_ATYceh31cqg",
        "outputId": "460d18d3-4330-4d28-dc93-43b59733b58f"
      },
      "execution_count": null,
      "outputs": [
        {
          "output_type": "stream",
          "name": "stdout",
          "text": [
            "Execution time: 2.00242018699646 seconds\n"
          ]
        }
      ]
    },
    {
      "cell_type": "code",
      "source": [
        "# *Args and **Kwargs\n",
        "# These are special syntaxes used in function definitions\n",
        "# to work with variable numbers of arguments (positional, nonkeyword)\n",
        "# and keyword arguments.\n",
        "\n",
        "def example_function(arg1, *args, kwarg1=\"default\", **kwargs):\n",
        "    print('arg1:', arg1)\n",
        "    print('args:', args)\n",
        "    print('kwarg1:', kwarg1)\n",
        "    print('kwargs:', kwargs)\n",
        "\n",
        "example_function(1, 2, 3, kwarg1=\"custom\", option1=\"A\", option2=\"B\")"
      ],
      "metadata": {
        "colab": {
          "base_uri": "https://localhost:8080/"
        },
        "id": "zIqhrl8YzGd3",
        "outputId": "43304ff5-fe88-4f4b-c739-622bec305777"
      },
      "execution_count": null,
      "outputs": [
        {
          "output_type": "stream",
          "name": "stdout",
          "text": [
            "arg1: 1\n",
            "args: (2, 3)\n",
            "kwarg1: custom\n",
            "kwargs: {'option1': 'A', 'option2': 'B'}\n"
          ]
        }
      ]
    },
    {
      "cell_type": "code",
      "execution_count": null,
      "metadata": {
        "id": "SyPx3wEvwFwN"
      },
      "outputs": [],
      "source": [
        "# Assign Variables in One Line\n",
        "x, y, z = 1, 2, 3"
      ]
    },
    {
      "cell_type": "code",
      "source": [
        "# Unpacking Lists/Tuples\n",
        "my_tuple = (1, 2, 3)\n",
        "a,b,c = my_tuple\n",
        "# Unpacking is also commonly used in functions to\n",
        "# return multiple values as a tuple and then unpack them when calling the function."
      ],
      "metadata": {
        "id": "U76vmymWxEfQ"
      },
      "execution_count": null,
      "outputs": []
    },
    {
      "cell_type": "code",
      "source": [
        "# String Formatting\n",
        "name = \"cj\"\n",
        "age = 39\n",
        "print(f\"My name is {name} and I am {age} years old.\")"
      ],
      "metadata": {
        "colab": {
          "base_uri": "https://localhost:8080/"
        },
        "id": "GVyXeBBoxJ8n",
        "outputId": "8ecd8a7e-5b69-430c-8f2a-dcfbb2595ff3"
      },
      "execution_count": null,
      "outputs": [
        {
          "output_type": "stream",
          "name": "stdout",
          "text": [
            "My name is cj and I am 39 years old.\n"
          ]
        }
      ]
    },
    {
      "cell_type": "code",
      "source": [
        "# List Comprehension\n",
        "original_numbers = [1, 2, 3, 4, 5, 6]\n",
        "squares_of_evens = [x ** 2 for x in original_numbers if x % 2 == 0]"
      ],
      "metadata": {
        "id": "dcDULujLyULv"
      },
      "execution_count": null,
      "outputs": []
    },
    {
      "cell_type": "code",
      "source": [
        "# Enumerate()\n",
        "fruits = ['apple', 'banana', 'cherry']\n",
        "for index, fruit in enumerate(fruits, start=2):\n",
        "    print(f\"Item {index}: {fruit}\")"
      ],
      "metadata": {
        "colab": {
          "base_uri": "https://localhost:8080/"
        },
        "id": "GTkFTudJyh7F",
        "outputId": "2daaddcd-ef50-4788-b311-e808fb132915"
      },
      "execution_count": null,
      "outputs": [
        {
          "output_type": "stream",
          "name": "stdout",
          "text": [
            "Item 2: apple\n",
            "Item 3: banana\n",
            "Item 4: cherry\n"
          ]
        }
      ]
    }
  ]
}