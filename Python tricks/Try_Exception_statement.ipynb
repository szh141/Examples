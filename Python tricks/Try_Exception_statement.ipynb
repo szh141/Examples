{
  "nbformat": 4,
  "nbformat_minor": 0,
  "metadata": {
    "colab": {
      "provenance": [],
      "authorship_tag": "ABX9TyP45z+rrUYS+Swee8I/5mK3",
      "include_colab_link": true
    },
    "kernelspec": {
      "name": "python3",
      "display_name": "Python 3"
    },
    "language_info": {
      "name": "python"
    }
  },
  "cells": [
    {
      "cell_type": "markdown",
      "metadata": {
        "id": "view-in-github",
        "colab_type": "text"
      },
      "source": [
        "<a href=\"https://colab.research.google.com/github/szh141/Examples/blob/main/Python%20tricks/Try_Exception_statement.ipynb\" target=\"_parent\"><img src=\"https://colab.research.google.com/assets/colab-badge.svg\" alt=\"Open In Colab\"/></a>"
      ]
    },
    {
      "cell_type": "markdown",
      "source": [
        "https://ishanjainoffical.medium.com/understanding-pythons-try-except-statements-a-safety-net-for-your-code-af0270a67f8a"
      ],
      "metadata": {
        "id": "6rpI0qA45nhO"
      }
    },
    {
      "cell_type": "markdown",
      "source": [
        "# Example 1: Division by Zero"
      ],
      "metadata": {
        "id": "3YYnoWGC78Dk"
      }
    },
    {
      "cell_type": "code",
      "source": [
        "try:\n",
        "    candies = 3\n",
        "    friends = 0\n",
        "    candies_per_friend = candies / friends\n",
        "    print(\"Each friend gets\", candies_per_friend, \"candies.\")\n",
        "except ZeroDivisionError:\n",
        "    print(\"Oops! Cannot divide by 0.\")"
      ],
      "metadata": {
        "colab": {
          "base_uri": "https://localhost:8080/"
        },
        "id": "wuZYZnUs55GQ",
        "outputId": "25cb8ceb-9eb4-4706-edd1-76147667eaad"
      },
      "execution_count": 7,
      "outputs": [
        {
          "output_type": "stream",
          "name": "stdout",
          "text": [
            "Oops! Cannot divide by 0.\n"
          ]
        }
      ]
    },
    {
      "cell_type": "code",
      "source": [
        "try:\n",
        "    candies = 3\n",
        "    friends = 0\n",
        "    candies_per_friend = candies / friends\n",
        "    print(\"Each friend gets\", candies_per_friend, \"candies.\")\n",
        "except Exception as e:\n",
        "    # By this way we can know about the type of error occurring\n",
        "     print(\"The error is: \",e)"
      ],
      "metadata": {
        "colab": {
          "base_uri": "https://localhost:8080/"
        },
        "id": "BbkBRlFX6Bah",
        "outputId": "2f4b8fb1-7d38-4163-f89f-6ae75b60eff6"
      },
      "execution_count": 3,
      "outputs": [
        {
          "output_type": "stream",
          "name": "stdout",
          "text": [
            "The error is:  division by zero\n"
          ]
        }
      ]
    },
    {
      "cell_type": "markdown",
      "source": [
        "#Example 2: Handling Bad Input"
      ],
      "metadata": {
        "id": "6z4usOJ-8EC1"
      }
    },
    {
      "cell_type": "code",
      "source": [
        "try:\n",
        "    toys = 5\n",
        "    banana = \"banana\"\n",
        "    total_toys = toys + banana\n",
        "    print(\"Total toys:\", total_toys)\n",
        "except TypeError:\n",
        "    print(\"Oops! You can't add a banana to toys.\")"
      ],
      "metadata": {
        "colab": {
          "base_uri": "https://localhost:8080/"
        },
        "id": "wu_UrsKE8GOu",
        "outputId": "39735f29-d6ab-4803-c213-b6f32db70d9e"
      },
      "execution_count": 13,
      "outputs": [
        {
          "output_type": "stream",
          "name": "stdout",
          "text": [
            "Oops! You can't add a banana to toys.\n"
          ]
        }
      ]
    },
    {
      "cell_type": "code",
      "source": [
        "try:\n",
        "    toys = 5\n",
        "    banana = \"banana\"\n",
        "    total_toys = toys + banana\n",
        "    print(\"Total toys:\", total_toys)\n",
        "except Exception as e:\n",
        "    # By this way we can know about the type of error occurring\n",
        "     print(\"The error is: \",e)"
      ],
      "metadata": {
        "colab": {
          "base_uri": "https://localhost:8080/"
        },
        "id": "mPjSKLh886Ms",
        "outputId": "e93ac896-186b-4524-b301-5610fc877c0e"
      },
      "execution_count": 10,
      "outputs": [
        {
          "output_type": "stream",
          "name": "stdout",
          "text": [
            "The error is:  unsupported operand type(s) for +: 'int' and 'str'\n"
          ]
        }
      ]
    },
    {
      "cell_type": "markdown",
      "source": [
        "#Example 3: Opening a File"
      ],
      "metadata": {
        "id": "5borB4ew9Cnd"
      }
    },
    {
      "cell_type": "code",
      "source": [
        "try:\n",
        "    file = open(\"non_existent.txt\", \"r\")\n",
        "    content = file.read()\n",
        "    print(\"Content of the book:\", content)\n",
        "    file.close()\n",
        "except FileNotFoundError:\n",
        "    print(\"Oops! The book doesn't exist.\")"
      ],
      "metadata": {
        "colab": {
          "base_uri": "https://localhost:8080/"
        },
        "id": "VxHoNgbh9F19",
        "outputId": "b523a14d-53ff-4a40-ccfb-8c6c5424db0a"
      },
      "execution_count": 11,
      "outputs": [
        {
          "output_type": "stream",
          "name": "stdout",
          "text": [
            "Oops! The book doesn't exist.\n"
          ]
        }
      ]
    },
    {
      "cell_type": "code",
      "source": [
        "try:\n",
        "    file = open(\"non_existent.txt\", \"r\")\n",
        "    content = file.read()\n",
        "    print(\"Content of the book:\", content)\n",
        "    file.close()\n",
        "except Exception as e:\n",
        "    # By this way we can know about the type of error occurring\n",
        "     print(\"The error is: \",e)"
      ],
      "metadata": {
        "colab": {
          "base_uri": "https://localhost:8080/"
        },
        "id": "CvwbfTiL9eCC",
        "outputId": "5f429343-87cb-41f0-e693-e989b77e6985"
      },
      "execution_count": 12,
      "outputs": [
        {
          "output_type": "stream",
          "name": "stdout",
          "text": [
            "The error is:  [Errno 2] No such file or directory: 'non_existent.txt'\n"
          ]
        }
      ]
    }
  ]
}