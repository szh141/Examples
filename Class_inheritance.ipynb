{
  "nbformat": 4,
  "nbformat_minor": 0,
  "metadata": {
    "colab": {
      "provenance": [],
      "authorship_tag": "ABX9TyNscHY5Lbwxu458VWMdsHT6",
      "include_colab_link": true
    },
    "kernelspec": {
      "name": "python3",
      "display_name": "Python 3"
    },
    "language_info": {
      "name": "python"
    }
  },
  "cells": [
    {
      "cell_type": "markdown",
      "metadata": {
        "id": "view-in-github",
        "colab_type": "text"
      },
      "source": [
        "<a href=\"https://colab.research.google.com/github/szh141/Examples/blob/main/Class_inheritance.ipynb\" target=\"_parent\"><img src=\"https://colab.research.google.com/assets/colab-badge.svg\" alt=\"Open In Colab\"/></a>"
      ]
    },
    {
      "cell_type": "markdown",
      "source": [
        "https://medium.com/@amit25173/python-inheritance-explained-with-examples-877833d66403"
      ],
      "metadata": {
        "id": "xHSmicBkNI25"
      }
    },
    {
      "cell_type": "code",
      "execution_count": 1,
      "metadata": {
        "id": "CoqgPpdic3tA",
        "colab": {
          "base_uri": "https://localhost:8080/"
        },
        "outputId": "7bb3bb3b-8241-4f39-8efa-cae174bda60f"
      },
      "outputs": [
        {
          "output_type": "stream",
          "name": "stdout",
          "text": [
            "Brand: Toyota, Model: Corolla\n",
            "Doors: 4\n"
          ]
        }
      ],
      "source": [
        "class Vehicle:\n",
        "    def __init__(self, brand, model):\n",
        "        self.brand = brand\n",
        "        self.model = model\n",
        "\n",
        "    def details(self):\n",
        "        print(f\"Brand: {self.brand}, Model: {self.model}\")\n",
        "\n",
        "class Car(Vehicle):\n",
        "    def __init__(self, brand, model, doors):\n",
        "        super().__init__(brand, model)  # Reuse the parent class's initializer\n",
        "        self.doors = doors\n",
        "\n",
        "    def details(self):\n",
        "        super().details()  # Call the parent class's method\n",
        "        print(f\"Doors: {self.doors}\")\n",
        "\n",
        "car = Car(\"Toyota\", \"Corolla\", 4)\n",
        "car.details()"
      ]
    },
    {
      "cell_type": "markdown",
      "source": [
        "1. Forgetting to Call super().__init__() in Child Constructors\n",
        "\n",
        "This is one of the most frequent mistakes I’ve seen. When your child class has its own __init__ method, it doesn’t automatically call the parent class’s __init__.\n",
        "\n",
        "If you don’t explicitly call super().__init__(), you’ll miss out on initializing the parent class’s attributes."
      ],
      "metadata": {
        "id": "yQapIzwDNzZy"
      }
    }
  ]
}