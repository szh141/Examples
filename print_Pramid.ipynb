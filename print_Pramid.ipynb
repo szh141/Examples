{
  "nbformat": 4,
  "nbformat_minor": 0,
  "metadata": {
    "colab": {
      "provenance": [],
      "authorship_tag": "ABX9TyMprt3/CjcB0PolKpVQFK29",
      "include_colab_link": true
    },
    "kernelspec": {
      "name": "python3",
      "display_name": "Python 3"
    },
    "language_info": {
      "name": "python"
    }
  },
  "cells": [
    {
      "cell_type": "markdown",
      "metadata": {
        "id": "view-in-github",
        "colab_type": "text"
      },
      "source": [
        "<a href=\"https://colab.research.google.com/github/szh141/Examples/blob/main/print_Pramid.ipynb\" target=\"_parent\"><img src=\"https://colab.research.google.com/assets/colab-badge.svg\" alt=\"Open In Colab\"/></a>"
      ]
    },
    {
      "cell_type": "markdown",
      "source": [
        "This type of pyramid is a bit more complicated than the ones we studied above.\n",
        "\n",
        "The outermost loop starts from i = 1 to i = row + 1.\n",
        "\n",
        "\n",
        "Among the two inner loops, the for loop prints the required spaces for each row using formula (rows-i)+1, where rows is the total number of rows and i is the current row number.\n",
        "\n",
        "The while loop prints the required number stars using formula 2 * i - 1. This formula gives the number of stars for each row, where row is i."
      ],
      "metadata": {
        "id": "7KbJQFqPp18n"
      }
    },
    {
      "cell_type": "code",
      "execution_count": 1,
      "metadata": {
        "colab": {
          "base_uri": "https://localhost:8080/"
        },
        "id": "Tst2X_tmnKpc",
        "outputId": "8e36f8d8-4ecc-4042-8737-d44d5c2e544f"
      },
      "outputs": [
        {
          "output_type": "stream",
          "name": "stdout",
          "text": [
            "Enter number of rows: 5\n",
            "        * \n",
            "      * * * \n",
            "    * * * * * \n",
            "  * * * * * * * \n",
            "* * * * * * * * * \n"
          ]
        }
      ],
      "source": [
        "rows = int(input(\"Enter number of rows: \"))\n",
        "\n",
        "k = 0\n",
        "\n",
        "for i in range(1, rows+1):\n",
        "    for space in range(1, (rows-i)+1):\n",
        "        print(end=\"  \")\n",
        "\n",
        "    while k!=(2*i-1):\n",
        "        print(\"* \", end=\"\")\n",
        "        k += 1\n",
        "\n",
        "    k = 0\n",
        "    print()"
      ]
    },
    {
      "cell_type": "markdown",
      "source": [
        "https://www.geeksforgeeks.org/gfact-50-python-end-parameter-in-print/\n",
        "\n",
        "print()\n",
        "print(end=' ')"
      ],
      "metadata": {
        "id": "rzjUAFrkMCUN"
      }
    }
  ]
}