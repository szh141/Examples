{
  "nbformat": 4,
  "nbformat_minor": 0,
  "metadata": {
    "colab": {
      "provenance": [],
      "authorship_tag": "ABX9TyNMQGwG1uzBWC75esCIX3p8",
      "include_colab_link": true
    },
    "kernelspec": {
      "name": "python3",
      "display_name": "Python 3"
    },
    "language_info": {
      "name": "python"
    }
  },
  "cells": [
    {
      "cell_type": "markdown",
      "metadata": {
        "id": "view-in-github",
        "colab_type": "text"
      },
      "source": [
        "<a href=\"https://colab.research.google.com/github/szh141/Examples/blob/main/sorted_dictionary.ipynb\" target=\"_parent\"><img src=\"https://colab.research.google.com/assets/colab-badge.svg\" alt=\"Open In Colab\"/></a>"
      ]
    },
    {
      "cell_type": "markdown",
      "source": [
        "\"The quick brown fox jumps over the lazy dog\"\n",
        "\n",
        "https://medium.com/pythons-gurus/sorting-a-python-dictionary-by-value-8d405bef3439"
      ],
      "metadata": {
        "id": "5Dzq04-Uqguj"
      }
    },
    {
      "cell_type": "code",
      "source": [
        "# Try to return the value of an item that do not exist:\n",
        "# if it exists, it just returns the real value\n",
        "\n",
        "car = {\n",
        "  \"brand\": \"Ford\",\n",
        "  \"model\": \"Mustang\",\n",
        "  \"year\": 1964\n",
        "}\n",
        "\n",
        "x = car.get(\"price\", 15000)\n",
        "\n",
        "print(x)"
      ],
      "metadata": {
        "colab": {
          "base_uri": "https://localhost:8080/"
        },
        "id": "Hv1bJ2xMs1_f",
        "outputId": "56c53dee-05b6-4bb8-a3cb-892e10a125b8"
      },
      "execution_count": 3,
      "outputs": [
        {
          "output_type": "stream",
          "name": "stdout",
          "text": [
            "15000\n"
          ]
        }
      ]
    },
    {
      "cell_type": "code",
      "execution_count": 2,
      "metadata": {
        "colab": {
          "base_uri": "https://localhost:8080/"
        },
        "id": "sURm-rgxqd8X",
        "outputId": "794b5e94-8fc9-4714-9f37-239e971dc98a"
      },
      "outputs": [
        {
          "output_type": "stream",
          "name": "stdout",
          "text": [
            "Unsorted dictionary:\n",
            "{'the': 2, 'quick': 1, 'brown': 1, 'fox': 1, 'jumps': 1, 'over': 1, 'lazy': 1, 'dog': 1}\n"
          ]
        }
      ],
      "source": [
        "# Word frequency counter\n",
        "text = \"The quick brown fox jumps over the lazy dog\"\n",
        "word_freq = {}\n",
        "\n",
        "# Count word frequencies\n",
        "for word in text.lower().split():\n",
        "    # If 'word' is already in the dictionary, increment its count by 1\n",
        "    # Otherwise, create a new entry with 'word' as the key and set the count to 1\n",
        "    word_freq[word] = word_freq.get(word, 0) + 1\n",
        "\n",
        "print(\"Unsorted dictionary:\")\n",
        "print(word_freq)"
      ]
    },
    {
      "cell_type": "markdown",
      "source": [
        "By default, sorted sorts on dictionary key"
      ],
      "metadata": {
        "id": "xMX5atk05Dz7"
      }
    },
    {
      "cell_type": "code",
      "source": [
        "# Sorting the dictionary by value\n",
        "sorted_word_freq = sorted(word_freq.items(), key=lambda x: x[1], reverse=True)\n",
        "\n",
        "print(\"Sorted word frequencies:\")\n",
        "for word, freq in sorted_word_freq:\n",
        "    print(f\"{word}: {freq}\")"
      ],
      "metadata": {
        "colab": {
          "base_uri": "https://localhost:8080/"
        },
        "id": "IX6szTNs4rzd",
        "outputId": "505a1e97-fbf5-48ff-cecc-1405255bc22d"
      },
      "execution_count": 4,
      "outputs": [
        {
          "output_type": "stream",
          "name": "stdout",
          "text": [
            "Sorted word frequencies:\n",
            "the: 2\n",
            "quick: 1\n",
            "brown: 1\n",
            "fox: 1\n",
            "jumps: 1\n",
            "over: 1\n",
            "lazy: 1\n",
            "dog: 1\n"
          ]
        }
      ]
    },
    {
      "cell_type": "markdown",
      "source": [
        "word_freq.items(): This returns a view of the dictionary's key-value pairs as tuples.\n",
        "\n",
        "key=lambda x: x[1]: This is a key function that tells sorted() to use the second element of each tuple (the value) for comparison.\n",
        "\n",
        "The lambda function creates an anonymous function that takes an item x and returns x[1] (the value).\n",
        "\n",
        "The result is a list of tuples, sorted by the dictionary values."
      ],
      "metadata": {
        "id": "YixmoA9_44yc"
      }
    },
    {
      "cell_type": "code",
      "source": [
        "# If you need a dictionary instead of a list, you can convert it back:\n",
        "\n",
        "sorted_dict = dict(sorted_word_freq)\n",
        "\n",
        "print(\"\\nSorted dictionary:\")\n",
        "print(sorted_dict)"
      ],
      "metadata": {
        "colab": {
          "base_uri": "https://localhost:8080/"
        },
        "id": "TRW8hCcB5YbE",
        "outputId": "be3bc6ab-f83e-4aec-9478-85483be0a609"
      },
      "execution_count": 5,
      "outputs": [
        {
          "output_type": "stream",
          "name": "stdout",
          "text": [
            "\n",
            "Sorted dictionary:\n",
            "{'the': 2, 'quick': 1, 'brown': 1, 'fox': 1, 'jumps': 1, 'over': 1, 'lazy': 1, 'dog': 1}\n"
          ]
        }
      ]
    }
  ]
}