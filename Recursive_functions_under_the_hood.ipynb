{
  "nbformat": 4,
  "nbformat_minor": 0,
  "metadata": {
    "colab": {
      "provenance": [],
      "authorship_tag": "ABX9TyNDEmMgQ+sMnxv4ya6WY0wq",
      "include_colab_link": true
    },
    "kernelspec": {
      "name": "python3",
      "display_name": "Python 3"
    },
    "language_info": {
      "name": "python"
    }
  },
  "cells": [
    {
      "cell_type": "markdown",
      "metadata": {
        "id": "view-in-github",
        "colab_type": "text"
      },
      "source": [
        "<a href=\"https://colab.research.google.com/github/szh141/Examples/blob/main/Recursive_functions_under_the_hood.ipynb\" target=\"_parent\"><img src=\"https://colab.research.google.com/assets/colab-badge.svg\" alt=\"Open In Colab\"/></a>"
      ]
    },
    {
      "cell_type": "markdown",
      "source": [
        "https://medium.com/@olofbaage/from-0-to-senior-in-python-recursive-functions-explained-060c84c09d70"
      ],
      "metadata": {
        "id": "2f-6GYOdxSuW"
      }
    },
    {
      "cell_type": "code",
      "execution_count": 1,
      "metadata": {
        "colab": {
          "base_uri": "https://localhost:8080/"
        },
        "id": "7NC3pelVxO1j",
        "outputId": "0376f99a-817c-4b13-d29b-37eb203ff4fc"
      },
      "outputs": [
        {
          "output_type": "stream",
          "name": "stdout",
          "text": [
            "1\n",
            "3\n",
            "6\n",
            "10\n",
            "15\n"
          ]
        }
      ],
      "source": [
        "def get_the_sum(n):\n",
        "    # base case\n",
        "    if n < 1:\n",
        "        return 0\n",
        "\n",
        "    return n + get_the_sum(n - 1);\n",
        "\n",
        "print(get_the_sum(1)); # Expected Output: 1\n",
        "print(get_the_sum(2)); # Expected Output: 3\n",
        "print(get_the_sum(3)); # Expected Output: 6\n",
        "print(get_the_sum(4)); # Expected Output: 10\n",
        "print(get_the_sum(5)); # Expected Output: 15"
      ]
    }
  ]
}