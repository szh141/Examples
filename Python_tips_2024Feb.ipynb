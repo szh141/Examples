{
  "nbformat": 4,
  "nbformat_minor": 0,
  "metadata": {
    "colab": {
      "provenance": [],
      "authorship_tag": "ABX9TyNXyeHIRnrmQigxNTzrMJcL",
      "include_colab_link": true
    },
    "kernelspec": {
      "name": "python3",
      "display_name": "Python 3"
    },
    "language_info": {
      "name": "python"
    }
  },
  "cells": [
    {
      "cell_type": "markdown",
      "metadata": {
        "id": "view-in-github",
        "colab_type": "text"
      },
      "source": [
        "<a href=\"https://colab.research.google.com/github/szh141/Examples/blob/main/Python_tips_2024Feb.ipynb\" target=\"_parent\"><img src=\"https://colab.research.google.com/assets/colab-badge.svg\" alt=\"Open In Colab\"/></a>"
      ]
    },
    {
      "cell_type": "code",
      "source": [
        "my_list = ['apple', 'banana', 'cherry']\n",
        "# Using range(len())\n",
        "for i in range(len(my_list)):\n",
        "    print(i, my_list[i])\n",
        "# Using enumerate\n",
        "for i, item in enumerate(my_list):\n",
        "    print(i, item)"
      ],
      "metadata": {
        "colab": {
          "base_uri": "https://localhost:8080/"
        },
        "id": "ZcjaVoIvFv_4",
        "outputId": "93563686-f104-4414-b42a-e11cb2badcb4"
      },
      "execution_count": 5,
      "outputs": [
        {
          "output_type": "stream",
          "name": "stdout",
          "text": [
            "0 apple\n",
            "1 banana\n",
            "2 cherry\n",
            "0 apple\n",
            "1 banana\n",
            "2 cherry\n"
          ]
        }
      ]
    },
    {
      "cell_type": "code",
      "source": [
        "# Creating a list with squared numbers using a for loop\n",
        "squared_numbers = []\n",
        "for i in range(10):\n",
        "    squared_numbers.append(i**2)\n",
        "# Using list comprehension\n",
        "squared_numbers = [i**2 for i in range(10)]"
      ],
      "metadata": {
        "id": "Igp1rRGiFsET"
      },
      "execution_count": 4,
      "outputs": []
    },
    {
      "cell_type": "code",
      "source": [
        "my_list = ['Hello', 'World', '!']\n",
        "# Concatenating strings with join()\n",
        "result = ' '.join(my_list)\n",
        "print(result)  # Output: \"Hello World !\""
      ],
      "metadata": {
        "colab": {
          "base_uri": "https://localhost:8080/"
        },
        "id": "FE9ck5IjFgvc",
        "outputId": "882ad3e6-1145-4d86-b947-a03599622692"
      },
      "execution_count": 3,
      "outputs": [
        {
          "output_type": "stream",
          "name": "stdout",
          "text": [
            "Hello World !\n"
          ]
        }
      ]
    },
    {
      "cell_type": "code",
      "source": [
        "dict1 = {'name': 'John', 'age': 25}\n",
        "dict2 = {'city': 'New York'}\n",
        "# Merging dictionaries with the double asterisk syntax\n",
        "merged_dict = {**dict1, **dict2}\n",
        "print(merged_dict)  # Output: {'name': 'John', 'age': 25, 'city': 'New York'}"
      ],
      "metadata": {
        "colab": {
          "base_uri": "https://localhost:8080/"
        },
        "id": "3K4uHBnlFSzs",
        "outputId": "7b8b53bf-3c0e-4712-fba7-516953fc617f"
      },
      "execution_count": 2,
      "outputs": [
        {
          "output_type": "stream",
          "name": "stdout",
          "text": [
            "{'name': 'John', 'age': 25, 'city': 'New York'}\n"
          ]
        }
      ]
    },
    {
      "cell_type": "code",
      "source": [
        "main_colors = ['red', 'green', 'blue']\n",
        "color = 'red'\n",
        "# Simplifying if statements with `if X in list`\n",
        "if color in main_colors:\n",
        "    print(\"Color found!\")\n",
        "else:\n",
        "    print(\"Color not found!\")\n",
        "\n",
        "# Sort multiple, multi-channel tif export into channel folder\n",
        "# Xiawei, calculate intensity inside bright cell proejct"
      ],
      "metadata": {
        "colab": {
          "base_uri": "https://localhost:8080/"
        },
        "id": "Xt2msbm9EXPf",
        "outputId": "e3fa9ca1-a5f7-4c3a-8ee7-24a30b0c04d4"
      },
      "execution_count": 1,
      "outputs": [
        {
          "output_type": "stream",
          "name": "stdout",
          "text": [
            "Color found!\n"
          ]
        }
      ]
    },
    {
      "cell_type": "code",
      "source": [
        "from collections import Counter\n",
        "my_list = ['apple', 'banana', 'apple', 'cherry']\n",
        "# Counting the number of elements in a list\n",
        "counter = Counter(my_list)\n",
        "print(counter)  # Output: Counter({'apple': 2, 'banana': 1, 'cherry': 1})\n",
        "# Getting the count for a specific item\n",
        "count = counter['apple']\n",
        "print(count)  # Output: 2\n",
        "# Getting the most common items\n",
        "most_common = counter.most_common(2)\n",
        "print(most_common)  # Output: [('apple', 2), ('banana', 1)]"
      ],
      "metadata": {
        "colab": {
          "base_uri": "https://localhost:8080/"
        },
        "id": "CIoFHnKLGLvC",
        "outputId": "09b344d6-c64a-464e-ab7e-8f7439ee88b3"
      },
      "execution_count": 6,
      "outputs": [
        {
          "output_type": "stream",
          "name": "stdout",
          "text": [
            "Counter({'apple': 2, 'banana': 1, 'cherry': 1})\n",
            "2\n",
            "[('apple', 2), ('banana', 1)]\n"
          ]
        }
      ]
    }
  ]
}