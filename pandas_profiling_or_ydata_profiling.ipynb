{
  "nbformat": 4,
  "nbformat_minor": 0,
  "metadata": {
    "colab": {
      "provenance": [],
      "mount_file_id": "1SfQNFXjMTr9Wro0rfbMtIVuAFLgW6f_X",
      "authorship_tag": "ABX9TyOVyB1dGNEApkDtOR/nv0Tw",
      "include_colab_link": true
    },
    "kernelspec": {
      "name": "python3",
      "display_name": "Python 3"
    },
    "language_info": {
      "name": "python"
    }
  },
  "cells": [
    {
      "cell_type": "markdown",
      "metadata": {
        "id": "view-in-github",
        "colab_type": "text"
      },
      "source": [
        "<a href=\"https://colab.research.google.com/github/szh141/Examples/blob/main/pandas_profiling_or_ydata_profiling.ipynb\" target=\"_parent\"><img src=\"https://colab.research.google.com/assets/colab-badge.svg\" alt=\"Open In Colab\"/></a>"
      ]
    },
    {
      "cell_type": "markdown",
      "source": [
        "https://www.datacamp.com/tutorial/pandas-profiling-ydata-profiling-in-python-guide\n",
        "\n",
        "renamed to ydata-profiling"
      ],
      "metadata": {
        "id": "pnjzxvNreDxO"
      }
    },
    {
      "cell_type": "code",
      "execution_count": null,
      "metadata": {
        "id": "Ij5WIeQydNTU"
      },
      "outputs": [],
      "source": [
        "pip install ydata-profiling"
      ]
    },
    {
      "cell_type": "code",
      "source": [
        "from ydata_profiling import ProfileReport\n",
        "import pandas as pd\n",
        "df = pd.read_csv('/content/drive/MyDrive/Colab images/trending-books.csv')\n",
        "profile = ProfileReport(df,title='trending books')"
      ],
      "metadata": {
        "id": "cUGw1-_heVA8"
      },
      "execution_count": 4,
      "outputs": []
    }
  ]
}