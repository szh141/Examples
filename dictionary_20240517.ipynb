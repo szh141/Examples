{
  "nbformat": 4,
  "nbformat_minor": 0,
  "metadata": {
    "colab": {
      "provenance": [],
      "authorship_tag": "ABX9TyOJhO88jQ+zGCUD446PSQJj",
      "include_colab_link": true
    },
    "kernelspec": {
      "name": "python3",
      "display_name": "Python 3"
    },
    "language_info": {
      "name": "python"
    }
  },
  "cells": [
    {
      "cell_type": "markdown",
      "metadata": {
        "id": "view-in-github",
        "colab_type": "text"
      },
      "source": [
        "<a href=\"https://colab.research.google.com/github/szh141/Examples/blob/main/dictionary_20240517.ipynb\" target=\"_parent\"><img src=\"https://colab.research.google.com/assets/colab-badge.svg\" alt=\"Open In Colab\"/></a>"
      ]
    },
    {
      "cell_type": "markdown",
      "source": [
        "https://blog.devgenius.io/mastering-python-dictionaries-30896dda7568"
      ],
      "metadata": {
        "id": "mWt7GEIgr-88"
      }
    },
    {
      "cell_type": "code",
      "execution_count": 1,
      "metadata": {
        "colab": {
          "base_uri": "https://localhost:8080/"
        },
        "id": "i_QEP3v4r8Mi",
        "outputId": "9d1607a3-634c-4901-c5a2-ee38b779a3eb"
      },
      "outputs": [
        {
          "output_type": "stream",
          "name": "stdout",
          "text": [
            "{'name': 'John', 'age': 25, 'city': 'New York'}\n",
            "{'name': 'John', 'age': 26, 'city': 'New York'}\n"
          ]
        }
      ],
      "source": [
        "# Creating a dictionary\n",
        "my_dict = {'name': 'John', 'age': 25, 'city': 'New York'}\n",
        "print(my_dict)\n",
        "\n",
        "# Modifying a value\n",
        "my_dict['age'] = 26\n",
        "print(my_dict)  # Output: {'name': 'John', 'age': 26, 'city': 'New York'}"
      ]
    },
    {
      "cell_type": "code",
      "source": [
        "# Getting keys, values, and items\n",
        "keys = my_dict.keys()\n",
        "values = my_dict.values()\n",
        "items = my_dict.items()\n",
        "\n",
        "print(keys)    # Output: dict_keys(['name', 'age', 'city'])\n",
        "print(values)  # Output: dict_values(['John', 26, 'New York'])\n",
        "print(items)   # Output: dict_items([('name', 'John'), ('age', 26), ('city', 'New York')])"
      ],
      "metadata": {
        "colab": {
          "base_uri": "https://localhost:8080/"
        },
        "id": "wvt2eXLLsQ7A",
        "outputId": "0c742326-729a-4a84-88a7-ef70a676078e"
      },
      "execution_count": 2,
      "outputs": [
        {
          "output_type": "stream",
          "name": "stdout",
          "text": [
            "dict_keys(['name', 'age', 'city'])\n",
            "dict_values(['John', 26, 'New York'])\n",
            "dict_items([('name', 'John'), ('age', 26), ('city', 'New York')])\n"
          ]
        }
      ]
    },
    {
      "cell_type": "code",
      "source": [
        "# Adding a new key-value pair\n",
        "my_dict['occupation'] = 'Engineer'\n",
        "\n",
        "# Removing a key-value pair\n",
        "removed_value = my_dict.pop('age')\n",
        "\n",
        "print(my_dict)        # Output: {'name': 'John', 'city': 'New York', 'occupation': 'Engineer'}\n",
        "print(removed_value)  # Output: 26"
      ],
      "metadata": {
        "colab": {
          "base_uri": "https://localhost:8080/"
        },
        "id": "YlXcDVLWsZLJ",
        "outputId": "75ecff89-b650-40d0-bd79-74f009c0f03e"
      },
      "execution_count": 3,
      "outputs": [
        {
          "output_type": "stream",
          "name": "stdout",
          "text": [
            "{'name': 'John', 'city': 'New York', 'occupation': 'Engineer'}\n",
            "26\n"
          ]
        }
      ]
    },
    {
      "cell_type": "code",
      "source": [
        "# Iterating through keys\n",
        "for key in my_dict:\n",
        "    print(key, my_dict[key])\n",
        "\n",
        "# Iterating through items\n",
        "for key, value in my_dict.items():\n",
        "    print(key, value)"
      ],
      "metadata": {
        "colab": {
          "base_uri": "https://localhost:8080/"
        },
        "id": "PcRKFA7Psc-Z",
        "outputId": "51c6c94a-7655-4677-a0a4-5456e3baf73f"
      },
      "execution_count": 4,
      "outputs": [
        {
          "output_type": "stream",
          "name": "stdout",
          "text": [
            "name John\n",
            "city New York\n",
            "occupation Engineer\n",
            "name John\n",
            "city New York\n",
            "occupation Engineer\n"
          ]
        }
      ]
    },
    {
      "cell_type": "markdown",
      "source": [
        "More ..."
      ],
      "metadata": {
        "id": "GPlkzo-dsfCZ"
      }
    }
  ]
}