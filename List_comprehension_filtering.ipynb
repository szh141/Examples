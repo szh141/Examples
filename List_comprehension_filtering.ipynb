{
  "nbformat": 4,
  "nbformat_minor": 0,
  "metadata": {
    "colab": {
      "provenance": [],
      "authorship_tag": "ABX9TyPyA96n36m0KCQQem4H30ij",
      "include_colab_link": true
    },
    "kernelspec": {
      "name": "python3",
      "display_name": "Python 3"
    },
    "language_info": {
      "name": "python"
    }
  },
  "cells": [
    {
      "cell_type": "markdown",
      "metadata": {
        "id": "view-in-github",
        "colab_type": "text"
      },
      "source": [
        "<a href=\"https://colab.research.google.com/github/szh141/Examples/blob/main/List_comprehension_filtering.ipynb\" target=\"_parent\"><img src=\"https://colab.research.google.com/assets/colab-badge.svg\" alt=\"Open In Colab\"/></a>"
      ]
    },
    {
      "cell_type": "markdown",
      "source": [
        "The list comprehension checks if each person’s name contains the letter ‘a’ (case-insensitive) before adding them to the new list."
      ],
      "metadata": {
        "id": "iFDDTZtWIh84"
      }
    },
    {
      "cell_type": "code",
      "execution_count": 1,
      "metadata": {
        "colab": {
          "base_uri": "https://localhost:8080/"
        },
        "id": "Vk4JZZlxGrq1",
        "outputId": "1c81eeec-c059-4be5-8fee-451360763655"
      },
      "outputs": [
        {
          "output_type": "stream",
          "name": "stdout",
          "text": [
            "['Mark', 'Carry']\n"
          ]
        }
      ],
      "source": [
        "people = ['Elon', 'Mark', 'Jeff', 'Carry']\n",
        "new_list = [person for person in people if 'a' in person.lower()]\n",
        "print(new_list)\n"
      ]
    },
    {
      "cell_type": "markdown",
      "source": [
        "While list comprehensions are simple and pythonic, some may find them visually un-appealing due to the amount of code required. E.g. 'person' appears 3 times"
      ],
      "metadata": {
        "id": "K5YI_qTFItVS"
      }
    }
  ]
}