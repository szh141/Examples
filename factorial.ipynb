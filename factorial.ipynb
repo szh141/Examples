{
  "nbformat": 4,
  "nbformat_minor": 0,
  "metadata": {
    "colab": {
      "provenance": [],
      "authorship_tag": "ABX9TyPACTsg6CnZa7im9Djl6bxd",
      "include_colab_link": true
    },
    "kernelspec": {
      "name": "python3",
      "display_name": "Python 3"
    },
    "language_info": {
      "name": "python"
    }
  },
  "cells": [
    {
      "cell_type": "markdown",
      "metadata": {
        "id": "view-in-github",
        "colab_type": "text"
      },
      "source": [
        "<a href=\"https://colab.research.google.com/github/szh141/Examples/blob/main/factorial.ipynb\" target=\"_parent\"><img src=\"https://colab.research.google.com/assets/colab-badge.svg\" alt=\"Open In Colab\"/></a>"
      ]
    },
    {
      "cell_type": "markdown",
      "source": [
        "Question 2: Write a Python program to find the factorial of a number.\n",
        "\n",
        "n!"
      ],
      "metadata": {
        "id": "OvXjBiCA4TRv"
      }
    },
    {
      "cell_type": "code",
      "execution_count": 4,
      "metadata": {
        "colab": {
          "base_uri": "https://localhost:8080/"
        },
        "id": "gWLbsefB4OQD",
        "outputId": "832e62a0-f92c-4bfa-bd31-0d714ea61d6d"
      },
      "outputs": [
        {
          "output_type": "execute_result",
          "data": {
            "text/plain": [
              "362880"
            ]
          },
          "metadata": {},
          "execution_count": 4
        }
      ],
      "source": [
        "def find_factorial(n):\n",
        "  if n==0:\n",
        "    return 1\n",
        "  else:\n",
        "    return n*find_factorial(n-1)\n",
        "\n",
        "find_factorial(9)"
      ]
    },
    {
      "cell_type": "markdown",
      "source": [
        "Question 3: Write a Python program to find the largest element in a list."
      ],
      "metadata": {
        "id": "0_vwof3V5C6N"
      }
    },
    {
      "cell_type": "code",
      "source": [
        "def largest1(numbers):\n",
        "  numbers.sort()\n",
        "  return numbers[-1]\n",
        "\n",
        "def largest2(numbers):\n",
        "  a = numbers[0]\n",
        "  for i in numbers:\n",
        "    if i>a:\n",
        "      a=i\n",
        "  return a\n",
        "\n",
        "test = [1,4,6,2,8,9,2,4]\n",
        "\n",
        "print(\"largest1 yields \",largest1(test))\n",
        "print(\"largest2 yields \",largest2(test))"
      ],
      "metadata": {
        "colab": {
          "base_uri": "https://localhost:8080/"
        },
        "id": "6HdX7bda5D0x",
        "outputId": "adf239f4-8377-4ed9-c164-435891b61f70"
      },
      "execution_count": 17,
      "outputs": [
        {
          "output_type": "stream",
          "name": "stdout",
          "text": [
            "largest1 yields  9\n",
            "largest2 yields  9\n"
          ]
        }
      ]
    },
    {
      "cell_type": "markdown",
      "source": [
        "Question 5: Write a Python program to count the frequency of each element in a list."
      ],
      "metadata": {
        "id": "dccanPMRCxjq"
      }
    },
    {
      "cell_type": "code",
      "source": [
        "def count_frequency(numbers):\n",
        "    frequency = {}\n",
        "    for num in numbers:\n",
        "        if num in frequency:\n",
        "            frequency[num] += 1\n",
        "        else:\n",
        "            frequency[num] = 1\n",
        "    return frequency\n",
        "\n",
        "nums = [1, 2, 3, 2, 1, 3, 2, 4, 5, 4]\n",
        "frequency_count = count_frequency(nums)\n",
        "print(frequency_count)"
      ],
      "metadata": {
        "colab": {
          "base_uri": "https://localhost:8080/"
        },
        "id": "QdXE3j-fCzVB",
        "outputId": "0ab242b6-0070-4d4b-e8b0-411c6ff7e150"
      },
      "execution_count": 18,
      "outputs": [
        {
          "output_type": "stream",
          "name": "stdout",
          "text": [
            "{1: 2, 2: 3, 3: 2, 4: 2, 5: 1}\n"
          ]
        }
      ]
    },
    {
      "cell_type": "markdown",
      "source": [
        "Question 10: Write a Python program to remove duplicates from a list."
      ],
      "metadata": {
        "id": "wjjOZhLxDCJR"
      }
    },
    {
      "cell_type": "code",
      "source": [
        "def remove_duplicates(numbers):\n",
        "    unique_numbers = []\n",
        "    for num in numbers:\n",
        "        if num not in unique_numbers:\n",
        "            unique_numbers.append(num)\n",
        "    return unique_numbers\n",
        "\n",
        "nums = [1, 2, 3, 2, 1, 3, 2, 4, 5, 4]\n",
        "unique_nums = remove_duplicates(nums)\n",
        "print(unique_nums)"
      ],
      "metadata": {
        "colab": {
          "base_uri": "https://localhost:8080/"
        },
        "id": "K88XQypHDD0L",
        "outputId": "f51a81ff-282e-486d-c46e-959986257133"
      },
      "execution_count": 19,
      "outputs": [
        {
          "output_type": "stream",
          "name": "stdout",
          "text": [
            "[1, 2, 3, 4, 5]\n"
          ]
        }
      ]
    }
  ]
}