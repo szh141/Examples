{
  "nbformat": 4,
  "nbformat_minor": 0,
  "metadata": {
    "colab": {
      "provenance": [],
      "authorship_tag": "ABX9TyNgSxFm3Mmio+jbpXs6Ufiu",
      "include_colab_link": true
    },
    "kernelspec": {
      "name": "python3",
      "display_name": "Python 3"
    },
    "language_info": {
      "name": "python"
    }
  },
  "cells": [
    {
      "cell_type": "markdown",
      "metadata": {
        "id": "view-in-github",
        "colab_type": "text"
      },
      "source": [
        "<a href=\"https://colab.research.google.com/github/szh141/Examples/blob/main/factorial.ipynb\" target=\"_parent\"><img src=\"https://colab.research.google.com/assets/colab-badge.svg\" alt=\"Open In Colab\"/></a>"
      ]
    },
    {
      "cell_type": "markdown",
      "source": [
        "Question 2: Write a Python program to find the factorial of a number.\n",
        "\n",
        "n!"
      ],
      "metadata": {
        "id": "OvXjBiCA4TRv"
      }
    },
    {
      "cell_type": "code",
      "execution_count": 4,
      "metadata": {
        "colab": {
          "base_uri": "https://localhost:8080/"
        },
        "id": "gWLbsefB4OQD",
        "outputId": "832e62a0-f92c-4bfa-bd31-0d714ea61d6d"
      },
      "outputs": [
        {
          "output_type": "execute_result",
          "data": {
            "text/plain": [
              "362880"
            ]
          },
          "metadata": {},
          "execution_count": 4
        }
      ],
      "source": [
        "def find_factorial(n):\n",
        "  if n==0:\n",
        "    return 1\n",
        "  else:\n",
        "    return n*find_factorial(n-1)\n",
        "\n",
        "find_factorial(9)"
      ]
    },
    {
      "cell_type": "markdown",
      "source": [
        "Question 3: Write a Python program to find the largest element in a list."
      ],
      "metadata": {
        "id": "0_vwof3V5C6N"
      }
    },
    {
      "cell_type": "code",
      "source": [
        "def largest1(numbers):\n",
        "  numbers.sort()\n",
        "  return numbers[-1]\n",
        "\n",
        "def largest2(numbers):\n",
        "  a = numbers[0]\n",
        "  for i in numbers:\n",
        "    if i>a:\n",
        "      a=i\n",
        "  return a\n",
        "\n",
        "test = [1,4,6,2,8,9,2,4]\n",
        "\n",
        "print(\"largest1 yields \",largest1(test))\n",
        "print(\"largest2 yields \",largest2(test))"
      ],
      "metadata": {
        "colab": {
          "base_uri": "https://localhost:8080/"
        },
        "id": "6HdX7bda5D0x",
        "outputId": "adf239f4-8377-4ed9-c164-435891b61f70"
      },
      "execution_count": 17,
      "outputs": [
        {
          "output_type": "stream",
          "name": "stdout",
          "text": [
            "largest1 yields  9\n",
            "largest2 yields  9\n"
          ]
        }
      ]
    }
  ]
}