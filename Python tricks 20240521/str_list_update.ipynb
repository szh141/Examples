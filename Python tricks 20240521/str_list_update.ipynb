{
  "nbformat": 4,
  "nbformat_minor": 0,
  "metadata": {
    "colab": {
      "provenance": [],
      "authorship_tag": "ABX9TyMXTLCQ7oPlgIV3aiTyCBkJ",
      "include_colab_link": true
    },
    "kernelspec": {
      "name": "python3",
      "display_name": "Python 3"
    },
    "language_info": {
      "name": "python"
    }
  },
  "cells": [
    {
      "cell_type": "markdown",
      "metadata": {
        "id": "view-in-github",
        "colab_type": "text"
      },
      "source": [
        "<a href=\"https://colab.research.google.com/github/szh141/Examples/blob/main/Python%20tricks%2020240521/str_list_update.ipynb\" target=\"_parent\"><img src=\"https://colab.research.google.com/assets/colab-badge.svg\" alt=\"Open In Colab\"/></a>"
      ]
    },
    {
      "cell_type": "code",
      "execution_count": 2,
      "metadata": {
        "colab": {
          "base_uri": "https://localhost:8080/"
        },
        "id": "mpgLGIR_LAnT",
        "outputId": "036995ab-4e1a-4ebe-e621-12e037750372"
      },
      "outputs": [
        {
          "output_type": "stream",
          "name": "stdout",
          "text": [
            "[1, 2, 3, 4]\n",
            "[1, 2, 3]\n"
          ]
        }
      ],
      "source": [
        "a = [1, 2, 3]\n",
        "b = a\n",
        "a.append(4)\n",
        "print(b)\n",
        "\n",
        "\n",
        "a = [1, 2, 3]\n",
        "b = a[:]\n",
        "a.append(4)\n",
        "print(b)"
      ]
    },
    {
      "cell_type": "markdown",
      "source": [
        "b is assigned the same list as a. When a.append(4) is called, it modifies the list a refers to, and since b refers to the same list, b also reflects this change.\n",
        "\n",
        "b = a[:] creates a new list that is a copy of a, so when a is modified, b remains unchanged."
      ],
      "metadata": {
        "id": "1BrUD04SLWnQ"
      }
    },
    {
      "cell_type": "code",
      "source": [
        "a = [1, 2, 3]\n",
        "b = a.copy()\n",
        "a.append(4)\n",
        "print(b)"
      ],
      "metadata": {
        "colab": {
          "base_uri": "https://localhost:8080/"
        },
        "id": "AtAdf3PWLihN",
        "outputId": "f0811859-b995-4d52-9012-6790c0e3f91b"
      },
      "execution_count": 3,
      "outputs": [
        {
          "output_type": "stream",
          "name": "stdout",
          "text": [
            "[1, 2, 3]\n"
          ]
        }
      ]
    },
    {
      "cell_type": "markdown",
      "source": [
        "b = a.copy() creates a shallow copy of a. Thus, when a is modified, b does not change."
      ],
      "metadata": {
        "id": "vHFezR3ZLnIa"
      }
    },
    {
      "cell_type": "code",
      "source": [
        "a = [1, 2, 3]\n",
        "b = a\n",
        "a = [4, 5, 6]\n",
        "print(b)"
      ],
      "metadata": {
        "colab": {
          "base_uri": "https://localhost:8080/"
        },
        "id": "GURR2ecVLrlV",
        "outputId": "b4b0d232-5934-41e5-e775-888aced8ba32"
      },
      "execution_count": 4,
      "outputs": [
        {
          "output_type": "stream",
          "name": "stdout",
          "text": [
            "[1, 2, 3]\n"
          ]
        }
      ]
    },
    {
      "cell_type": "markdown",
      "source": [
        "b is assigned to refer to the same list as a. When a is assigned a new list [4][5][6], it does not affect b, which still refers to the original list."
      ],
      "metadata": {
        "id": "rpcmq7pULvL8"
      }
    },
    {
      "cell_type": "code",
      "source": [
        "a = \"hello\"\n",
        "a[0] = \"H\"\n",
        "print(a)"
      ],
      "metadata": {
        "id": "PKhdrpS5Lugr"
      },
      "execution_count": null,
      "outputs": []
    },
    {
      "cell_type": "markdown",
      "source": [
        "Strings in Python are immutable, which means you cannot change an existing string. The attempt to modify the string by assigning a new value to a will raise a TypeError."
      ],
      "metadata": {
        "id": "vTU89sYSL2LF"
      }
    },
    {
      "cell_type": "code",
      "source": [
        "a = \"hello\"\n",
        "b = a\n",
        "a = a.upper()\n",
        "print(b)"
      ],
      "metadata": {
        "colab": {
          "base_uri": "https://localhost:8080/"
        },
        "id": "3Vel4NeAMUrb",
        "outputId": "9fe68f20-59f4-4ae8-e8bd-6bb642b19cf6"
      },
      "execution_count": 5,
      "outputs": [
        {
          "output_type": "stream",
          "name": "stdout",
          "text": [
            "hello\n"
          ]
        }
      ]
    },
    {
      "cell_type": "markdown",
      "source": [
        "Strings are immutable, so a.upper() creates a new string and assigns it to a, but b still points to the original string."
      ],
      "metadata": {
        "id": "967_j4ZoMWa0"
      }
    },
    {
      "cell_type": "code",
      "source": [
        "a = [1, 2, 3]\n",
        "a *= 2\n",
        "print(a)\n",
        "\n",
        "a = [1, 2, 3]\n",
        "b = [4, 5, 6]\n",
        "c = a + b\n",
        "print(c)"
      ],
      "metadata": {
        "colab": {
          "base_uri": "https://localhost:8080/"
        },
        "id": "HyZ7aZ0TMc39",
        "outputId": "a82064b6-3ba8-4bf8-f494-a096480d0e55"
      },
      "execution_count": 7,
      "outputs": [
        {
          "output_type": "stream",
          "name": "stdout",
          "text": [
            "[1, 2, 3, 1, 2, 3]\n",
            "[1, 2, 3, 4, 5, 6]\n"
          ]
        }
      ]
    }
  ]
}