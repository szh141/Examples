{
  "nbformat": 4,
  "nbformat_minor": 0,
  "metadata": {
    "colab": {
      "provenance": [],
      "authorship_tag": "ABX9TyPFOThafRjp9W+5gmHhkLXB",
      "include_colab_link": true
    },
    "kernelspec": {
      "name": "python3",
      "display_name": "Python 3"
    },
    "language_info": {
      "name": "python"
    }
  },
  "cells": [
    {
      "cell_type": "markdown",
      "metadata": {
        "id": "view-in-github",
        "colab_type": "text"
      },
      "source": [
        "<a href=\"https://colab.research.google.com/github/szh141/Examples/blob/main/Lambda_function.ipynb\" target=\"_parent\"><img src=\"https://colab.research.google.com/assets/colab-badge.svg\" alt=\"Open In Colab\"/></a>"
      ]
    },
    {
      "cell_type": "markdown",
      "source": [
        "Lambda functions are commonly used where a simple function is required for a short duration. Some common use cases include:\n",
        "\n",
        "**Sorting or Filtering Data**: Particularly useful in sort, sorted, filter, etc., where the functions are short-lived and used immediately.\n",
        "\n",
        "**Functional Programming Tools:** Used in conjunction with functions like map(), filter(), and reduce()."
      ],
      "metadata": {
        "id": "GXTJqwNjlNsz"
      }
    },
    {
      "cell_type": "code",
      "execution_count": 1,
      "metadata": {
        "colab": {
          "base_uri": "https://localhost:8080/"
        },
        "id": "EVqUOk0-lHTS",
        "outputId": "5b9766c2-d06a-4f5f-9eb8-38c76e122505"
      },
      "outputs": [
        {
          "output_type": "stream",
          "name": "stdout",
          "text": [
            "10\n"
          ]
        }
      ],
      "source": [
        "double = lambda x: x * 2\n",
        "print(double(5))  # Output: 10"
      ]
    },
    {
      "cell_type": "code",
      "source": [
        "my_list = [('apples', 2), ('bananas', 3), ('oranges', 1)]\n",
        "my_list.sort(key=lambda x: x[1])\n",
        "print(my_list)  # Output: [('oranges', 1), ('apples', 2), ('bananas', 3)]"
      ],
      "metadata": {
        "colab": {
          "base_uri": "https://localhost:8080/"
        },
        "id": "fA28Trvdld_1",
        "outputId": "974f63a5-9ae3-47f8-e646-00c8dd6ab527"
      },
      "execution_count": 2,
      "outputs": [
        {
          "output_type": "stream",
          "name": "stdout",
          "text": [
            "[('oranges', 1), ('apples', 2), ('bananas', 3)]\n"
          ]
        }
      ]
    }
  ]
}