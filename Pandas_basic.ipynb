{
  "nbformat": 4,
  "nbformat_minor": 0,
  "metadata": {
    "colab": {
      "provenance": [],
      "authorship_tag": "ABX9TyOVsJ4uiHG4S3u3P0DezAt4",
      "include_colab_link": true
    },
    "kernelspec": {
      "name": "python3",
      "display_name": "Python 3"
    },
    "language_info": {
      "name": "python"
    }
  },
  "cells": [
    {
      "cell_type": "markdown",
      "metadata": {
        "id": "view-in-github",
        "colab_type": "text"
      },
      "source": [
        "<a href=\"https://colab.research.google.com/github/szh141/Examples/blob/main/Pandas_basic.ipynb\" target=\"_parent\"><img src=\"https://colab.research.google.com/assets/colab-badge.svg\" alt=\"Open In Colab\"/></a>"
      ]
    },
    {
      "cell_type": "markdown",
      "source": [
        "https://python.plainenglish.io/pandas-demystified-a-comprehensive-handbook-for-data-enthusiasts-part-1-136127e407f\n",
        "\n",
        "pandas cheatsheet"
      ],
      "metadata": {
        "id": "LU5krcDKBcSB"
      }
    },
    {
      "cell_type": "code",
      "execution_count": 3,
      "metadata": {
        "colab": {
          "base_uri": "https://localhost:8080/"
        },
        "id": "AYgdwAGrBbuM",
        "outputId": "ac164bb2-aeb7-4a77-ec5e-276fc91add4d"
      },
      "outputs": [
        {
          "output_type": "execute_result",
          "data": {
            "text/plain": [
              "Shanghai     2\n",
              "Kolkata      4\n",
              "Chicago      6\n",
              "Toronto      8\n",
              "Lisbon      10\n",
              "Name: MySeries, dtype: int64"
            ]
          },
          "metadata": {},
          "execution_count": 3
        }
      ],
      "source": [
        "import pandas as pd\n",
        "data = [1, 2, 3, 4, 5]\n",
        "cities = ['Shanghai','Kolkata', 'Chicago', 'Toronto', 'Lisbon']\n",
        "series = pd.Series(data, name=\"MySeries\",index=cities)\n",
        "\n",
        "# Vectorized operations of series\n",
        "series = series * 2\n",
        "\n",
        "\n",
        "series"
      ]
    },
    {
      "cell_type": "markdown",
      "source": [
        "Series and DataFrame\n",
        "Index and columns\n",
        "inplace=True"
      ],
      "metadata": {
        "id": "FkLjK2yvIFRC"
      }
    },
    {
      "cell_type": "code",
      "source": [
        "import pandas as pd\n",
        "data = {\n",
        " \"Name\": [\"Alice\", \"Bob\", \"Charlie\", \"David\"],\n",
        " \"Age\": [25, 30, 35, 40],\n",
        " \"City\": [\"New York\", \"San Francisco\", \"Los Angeles\", \"Chicago\"]\n",
        "}\n",
        "df = pd.DataFrame(data)\n",
        "\n",
        "# Renaming the 'Name' column to 'Person_Name'\n",
        "# inplace=True, will save the changes.\n",
        "df.rename(columns={'Name':'Person_Name'}, inplace=True)"
      ],
      "metadata": {
        "id": "uuh63NSlIBh8"
      },
      "execution_count": 1,
      "outputs": []
    },
    {
      "cell_type": "code",
      "source": [
        "#read file\n",
        "\n",
        "df_csv = pd.read_csv('data.csv')\n",
        "\n",
        "df_sheet1 = pd.read_excel('data.xlsx', sheet_name='Sheet1')\n",
        "\n",
        "# Load data from a JSON file\n",
        "df_json = pd.read_json('data.json')"
      ],
      "metadata": {
        "id": "X7nYwJo2IV4S"
      },
      "execution_count": null,
      "outputs": []
    },
    {
      "cell_type": "code",
      "source": [
        "df.City\n",
        "df['City']\n",
        "\n",
        "# By default value counts will not return the count of missing values\n",
        "df['City'].value_counts()\n",
        "\n",
        "# use dropna = False, to also get the counts of missing values along with other\n",
        "df['City'].value_counts(dropna=False)\n",
        "\n",
        "df.Age.mean() # dataframe.column_name.mean()\n",
        "df.Salary.median() # dataframe.column_name.median()\n",
        "df.Gender.mode() # dataframe.column_name.mode()"
      ],
      "metadata": {
        "id": "NjqLCXpkI3lO"
      },
      "execution_count": null,
      "outputs": []
    },
    {
      "cell_type": "code",
      "source": [
        "#use square brackets with the column names as a list.\n",
        "selected_columns = df[['Column1', 'Column2']]\n",
        "\n",
        "#Using .loc[] For Label-Based Selection:\n",
        "#The .loc[] indexer allows you to select rows and columns by label.\n",
        "selected_data = df.loc[3:6, ['Column1', 'Column2']]\n",
        "\n",
        "#Using .iloc[] For Integer-Based Selection:\n",
        "#The .iloc[] indexer lets you select rows and columns by integer location.\n",
        "selected_data = df.iloc[1:4, 0:2]"
      ],
      "metadata": {
        "id": "As1xbEQGJKSu"
      },
      "execution_count": null,
      "outputs": []
    },
    {
      "cell_type": "code",
      "source": [
        "#logical operators (& for AND, | for OR) and use parentheses for clarity\n",
        "boolean_mask = (df['Age'] > 25) & (df['Salary'] > 50000)\n",
        "filtered_data = df[boolean_mask]\n",
        "\n",
        "boolean_mask = (df['Age'] > 60) | (df['Age'] > 18)\n",
        "filtered_data = df[boolean_mask]"
      ],
      "metadata": {
        "id": "5hHa979cJVsm"
      },
      "execution_count": null,
      "outputs": []
    },
    {
      "cell_type": "code",
      "source": [
        "#set_index(): This method allows you to set one or more columns as the DataFrame’s index.\n",
        "df.set_index('ID',inplace=True)\n",
        "\n",
        "#reset_index(): The reset_index() method resets the index to the default integer index\n",
        "#and optionally removes the existing index.\n",
        "df = df.reset_index(drop=True)"
      ],
      "metadata": {
        "id": "D0iLK7TqK2F2"
      },
      "execution_count": null,
      "outputs": []
    },
    {
      "cell_type": "code",
      "source": [
        "# Creates a new column with the name New_Column\n",
        "df['New_Column'] = [1, 2, 3, 4]\n",
        "\n",
        "# Using .drop() to remove columns\n",
        "df.drop(['Column1', 'Column2'], axis=1, inplace=True)"
      ],
      "metadata": {
        "id": "55Iam6b_LdEh"
      },
      "execution_count": null,
      "outputs": []
    }
  ]
}