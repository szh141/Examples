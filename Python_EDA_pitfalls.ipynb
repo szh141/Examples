{
  "nbformat": 4,
  "nbformat_minor": 0,
  "metadata": {
    "colab": {
      "provenance": [],
      "authorship_tag": "ABX9TyO/NSpkkmCgMg5B7PRAS6UZ",
      "include_colab_link": true
    },
    "kernelspec": {
      "name": "python3",
      "display_name": "Python 3"
    },
    "language_info": {
      "name": "python"
    }
  },
  "cells": [
    {
      "cell_type": "markdown",
      "metadata": {
        "id": "view-in-github",
        "colab_type": "text"
      },
      "source": [
        "<a href=\"https://colab.research.google.com/github/szh141/Examples/blob/main/Python_EDA_pitfalls.ipynb\" target=\"_parent\"><img src=\"https://colab.research.google.com/assets/colab-badge.svg\" alt=\"Open In Colab\"/></a>"
      ]
    },
    {
      "cell_type": "markdown",
      "source": [
        "https://python.plainenglish.io/python-eda-pitfalls-and-solutions-with-pandas-and-numpy-b7bdeacf2d5b"
      ],
      "metadata": {
        "id": "ElZkNmmlhZMA"
      }
    },
    {
      "cell_type": "code",
      "execution_count": null,
      "metadata": {
        "id": "AcwFcAQRhWGA"
      },
      "outputs": [],
      "source": [
        "# Check data types\n",
        "print(df.dtypes)\n",
        "\n",
        "# Convert data type of a column\n",
        "df['column_name'] = df['column_name'].astype('int')"
      ]
    },
    {
      "cell_type": "code",
      "source": [
        "# Check for missing values\n",
        "print(df.isnull().sum())\n",
        "\n",
        "# Drop all rows where any column has a NULL value\n",
        "df = df.dropna()\n",
        "\n",
        "# Or you can fill NULL values with a specified value\n",
        "df['column_name'] = df['column_name'].fillna(value)"
      ],
      "metadata": {
        "id": "yo5Ysfh2hecq"
      },
      "execution_count": null,
      "outputs": []
    },
    {
      "cell_type": "markdown",
      "source": [
        "Problems: Assuming that pandas operations like drop(), rename(), etc., modify the DataFrame in place.\n",
        "\n",
        "Solution: Most of the pandas operations return a new DataFrame and do not modify the original one. If we need to modify the original data frame, the inplace = True should be used."
      ],
      "metadata": {
        "id": "muIWVmbYhoJV"
      }
    },
    {
      "cell_type": "code",
      "source": [
        "df.drop('column_name', axis=1, inplace=True)"
      ],
      "metadata": {
        "id": "ORkeuQpOhhpK"
      },
      "execution_count": null,
      "outputs": []
    },
    {
      "cell_type": "markdown",
      "source": [
        "Problems: Misunderstanding the difference between a copy of the DataFrame and a view on the DataFrame. Following operations on a view thinking it’s a copy can lead to unexpected results.\n",
        "\n",
        "Solution: Slice assignments like df_short = df[['column1’, 'column2’]] only provide a view. Any changes to the df_short will be reflected in df. If you want a separate copy, use the copy() function."
      ],
      "metadata": {
        "id": "MIMFySzZhtZm"
      }
    },
    {
      "cell_type": "code",
      "source": [
        "df_short = df[['column1', 'column2']].copy()"
      ],
      "metadata": {
        "id": "OfSeeaKwhszn"
      },
      "execution_count": null,
      "outputs": []
    }
  ]
}