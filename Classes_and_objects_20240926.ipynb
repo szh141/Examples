{
  "nbformat": 4,
  "nbformat_minor": 0,
  "metadata": {
    "colab": {
      "provenance": [],
      "authorship_tag": "ABX9TyMKD1tMNfsWfNSDwnrlKgQg",
      "include_colab_link": true
    },
    "kernelspec": {
      "name": "python3",
      "display_name": "Python 3"
    },
    "language_info": {
      "name": "python"
    }
  },
  "cells": [
    {
      "cell_type": "markdown",
      "metadata": {
        "id": "view-in-github",
        "colab_type": "text"
      },
      "source": [
        "<a href=\"https://colab.research.google.com/github/szh141/Examples/blob/main/Classes_and_objects_20240926.ipynb\" target=\"_parent\"><img src=\"https://colab.research.google.com/assets/colab-badge.svg\" alt=\"Open In Colab\"/></a>"
      ]
    },
    {
      "cell_type": "markdown",
      "source": [
        "https://python.plainenglish.io/python-classes-and-objects-an-essential-introduction-26e14854cc9f"
      ],
      "metadata": {
        "id": "nAIBHEVfM39U"
      }
    },
    {
      "cell_type": "code",
      "execution_count": 2,
      "metadata": {
        "colab": {
          "base_uri": "https://localhost:8080/"
        },
        "id": "kMFr7t1LMzAv",
        "outputId": "508449e8-c022-411d-e466-6e730818dafa"
      },
      "outputs": [
        {
          "output_type": "stream",
          "name": "stdout",
          "text": [
            "<class 'str'>\n",
            "\n",
            "\n",
            "['__add__', '__class__', '__contains__', '__delattr__', '__dir__', '__doc__', '__eq__', '__format__', '__ge__', '__getattribute__', '__getitem__', '__getnewargs__', '__gt__', '__hash__', '__init__', '__init_subclass__', '__iter__', '__le__', '__len__', '__lt__', '__mod__', '__mul__', '__ne__', '__new__', '__reduce__', '__reduce_ex__', '__repr__', '__rmod__', '__rmul__', '__setattr__', '__sizeof__', '__str__', '__subclasshook__', 'capitalize', 'casefold', 'center', 'count', 'encode', 'endswith', 'expandtabs', 'find', 'format', 'format_map', 'index', 'isalnum', 'isalpha', 'isascii', 'isdecimal', 'isdigit', 'isidentifier', 'islower', 'isnumeric', 'isprintable', 'isspace', 'istitle', 'isupper', 'join', 'ljust', 'lower', 'lstrip', 'maketrans', 'partition', 'removeprefix', 'removesuffix', 'replace', 'rfind', 'rindex', 'rjust', 'rpartition', 'rsplit', 'rstrip', 'split', 'splitlines', 'startswith', 'strip', 'swapcase', 'title', 'translate', 'upper', 'zfill']\n"
          ]
        }
      ],
      "source": [
        "s = \"I'm a string\"\n",
        "print(type(s))\n",
        "print('\\n')\n",
        "print(dir(s)) # dir built-in function showing all class attributes and methods"
      ]
    },
    {
      "cell_type": "code",
      "source": [
        "# The __add__ method is used to concatenate strings.\n",
        "# Here it's used to add an exclamation mark to the string s.\n",
        "print(s.__add__(\"!\"))  # Output: I am a string!\n",
        "\n",
        "# The __sizeof__ method returns the size of the object in memory, in bytes.\n",
        "print(s.__sizeof__())  # This output may vary depending on the system.\n",
        "\n",
        "# The startswith method checks if the string starts with the specified substring.\n",
        "print(s.startswith(\"I\"))  # Output: True because s starts with \"I\"."
      ],
      "metadata": {
        "colab": {
          "base_uri": "https://localhost:8080/"
        },
        "id": "LauO7KWjOita",
        "outputId": "e1db2662-eb74-40cf-8cad-53efe67ff4d0"
      },
      "execution_count": 3,
      "outputs": [
        {
          "output_type": "stream",
          "name": "stdout",
          "text": [
            "I'm a string!\n",
            "61\n",
            "True\n"
          ]
        }
      ]
    },
    {
      "cell_type": "markdown",
      "source": [
        "# constructor instead of repetitive codes\n",
        "#   doulbe underscore init 'dunder'"
      ],
      "metadata": {
        "id": "nT6aC-PDP1xk"
      }
    },
    {
      "cell_type": "code",
      "source": [
        "class Actor:\n",
        "    ''' Define the actor class '''\n",
        "    pass\n",
        "\n",
        "john = Actor()\n",
        "john.first_name = \"John\"\n",
        "john.last_name = \"Smith\"\n",
        "print(john.first_name, john.last_name)\n",
        "\n",
        "helen = Actor()\n",
        "helen.first_name = \"Helen\"\n",
        "helen.last_name = \"Mirren\"\n",
        "helen.birthday = \"July 26\"\n",
        "helen.total_films = 80\n",
        "helen.oscar_nominations = 4\n",
        "helen.oscar_wins = 1\n",
        "print(helen.first_name, helen.last_name)"
      ],
      "metadata": {
        "colab": {
          "base_uri": "https://localhost:8080/"
        },
        "id": "obvf7JdGP99C",
        "outputId": "82191a21-49b9-4023-dad3-9cd31dc6c7c4"
      },
      "execution_count": 4,
      "outputs": [
        {
          "output_type": "stream",
          "name": "stdout",
          "text": [
            "John Smith\n",
            "Helen Mirren\n"
          ]
        }
      ]
    },
    {
      "cell_type": "code",
      "source": [
        "class Actor:\n",
        "    \"\"\"Define the actor class\"\"\"\n",
        "    def __init__(self, first_name, last_name, birthday, total_films, oscar_nominations, oscar_wins):\n",
        "        self.first_name = first_name\n",
        "        self.last_name = last_name\n",
        "        self.birthday = birthday\n",
        "        self.total_films = total_films\n",
        "        self.oscar_nominations = oscar_nominations\n",
        "        self.oscar_wins = oscar_wins\n",
        "\n",
        "john = Actor(\"John\", \"Smith\", \"June 20\", 80, 4, 1)\n",
        "tom = Actor(\"Tom\", \"Hanks\", \"July 9\", 76, 5, 2)\n",
        "print(john.first_name, john.last_name)\n",
        "print(tom.first_name, tom.last_name)"
      ],
      "metadata": {
        "colab": {
          "base_uri": "https://localhost:8080/"
        },
        "id": "sLX2qjJaQWw0",
        "outputId": "4bcdb796-6477-40b4-e5d1-5952ffb1a6d8"
      },
      "execution_count": 5,
      "outputs": [
        {
          "output_type": "stream",
          "name": "stdout",
          "text": [
            "John Smith\n",
            "Tom Hanks\n"
          ]
        }
      ]
    }
  ]
}