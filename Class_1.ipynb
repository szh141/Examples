{
  "nbformat": 4,
  "nbformat_minor": 0,
  "metadata": {
    "colab": {
      "provenance": [],
      "authorship_tag": "ABX9TyN76WBVMzOxWT9aVA7LWXRB",
      "include_colab_link": true
    },
    "kernelspec": {
      "name": "python3",
      "display_name": "Python 3"
    },
    "language_info": {
      "name": "python"
    }
  },
  "cells": [
    {
      "cell_type": "markdown",
      "metadata": {
        "id": "view-in-github",
        "colab_type": "text"
      },
      "source": [
        "<a href=\"https://colab.research.google.com/github/szh141/Examples/blob/main/Class_1.ipynb\" target=\"_parent\"><img src=\"https://colab.research.google.com/assets/colab-badge.svg\" alt=\"Open In Colab\"/></a>"
      ]
    },
    {
      "cell_type": "markdown",
      "source": [
        "https://www.geeksforgeeks.org/python-classes-and-objects/"
      ],
      "metadata": {
        "id": "F32wP9KY1lL_"
      }
    },
    {
      "cell_type": "markdown",
      "source": [
        "we are creating a Dog class and we have created two class variables attr1 and attr2. We have created a method named fun() which returns the string “I’m a, {attr1}” and I’m a, {attr2}. We have created an object of the Dog class and we are printing at the attr1 of the object. Finally, we are calling the fun() function."
      ],
      "metadata": {
        "id": "xK5PS9bI1P5w"
      }
    },
    {
      "cell_type": "code",
      "execution_count": 1,
      "metadata": {
        "colab": {
          "base_uri": "https://localhost:8080/"
        },
        "id": "Hx0e25jT0SZ3",
        "outputId": "831dd66d-1bbf-462e-cb15-7346fa5b3616"
      },
      "outputs": [
        {
          "output_type": "stream",
          "name": "stdout",
          "text": [
            "mammal\n",
            "I'm a mammal\n",
            "I'm a dog\n"
          ]
        }
      ],
      "source": [
        "#Instantiate a class\n",
        "\n",
        "class Dog:\n",
        "  # A simple class has two simple attributes\n",
        "  attr1 = \"mammal\"\n",
        "  attr2 = \"dog\"\n",
        "\n",
        "  # A sample method or function\n",
        "  def fun(self):\n",
        "        print(\"I'm a\", self.attr1)\n",
        "        print(\"I'm a\", self.attr2)\n",
        "\n",
        "# Object instantiation\n",
        "Rodger = Dog()\n",
        "\n",
        "# Accessing class attributes\n",
        "# and method through objects\n",
        "print(Rodger.attr1)\n",
        "Rodger.fun()"
      ]
    },
    {
      "cell_type": "markdown",
      "source": [
        "Self Parameter\n",
        "When we call a method of this object as myobject.method(arg1, arg2), this is automatically converted by Python into MyClass.method(myobject, arg1, arg2) – this is all the special self is about."
      ],
      "metadata": {
        "id": "HJA2BKxO5GPB"
      }
    },
    {
      "cell_type": "code",
      "source": [
        "#self can be replaced any word, e.g. someone\n",
        "# __init__() method\n",
        "#The __init__ method is similar to constructors in C++ and Java. Constructors are used to initializing the object’s state.\n",
        "\n",
        "class AMF:\n",
        "    def __init__(someone, name, company):\n",
        "        someone.name = name\n",
        "        someone.company = company\n",
        "\n",
        "    def say_hi(somename):\n",
        "        print(\"Hello my name is \" + somename.name +\n",
        "              \" and I work in \"+somename.company+\".\")\n",
        "\n",
        "\n",
        "obj = AMF(\"CJ\", \"UVA_AMF\")\n",
        "obj.say_hi()"
      ],
      "metadata": {
        "colab": {
          "base_uri": "https://localhost:8080/"
        },
        "id": "Oue5y2wD5saD",
        "outputId": "ce4775b2-a39f-4945-8232-ba39908d6176"
      },
      "execution_count": 4,
      "outputs": [
        {
          "output_type": "stream",
          "name": "stdout",
          "text": [
            "Hello my name is CJ and I work in UVA_AMF.\n"
          ]
        }
      ]
    },
    {
      "cell_type": "markdown",
      "source": [
        "In this example, we are creating an AMF class and we have created the name, and company instance variables in the constructor. We have created a method named say_hi() which returns the string “Hello my name is ” + {name} +” and I work in “+{company}+”.”.We have created a person class object and we passing the name CJ and Company UVA_AMF to the instance variable. Finally, we are calling the say_hi() of the class."
      ],
      "metadata": {
        "id": "1mnPUKMn6MYb"
      }
    },
    {
      "cell_type": "code",
      "source": [
        "#__str__() method\n",
        "#Python has a particular method called __str__(). that is used to define how a class object should be represented as a string.\n",
        "\n",
        "class GFG:\n",
        "    def __init__(self, name, company):\n",
        "        self.name = name\n",
        "        self.company = company\n",
        "\n",
        "    def __str__(self):\n",
        "        return f\"My name is {self.name} and I work in {self.company}.\"\n",
        "\n",
        "\n",
        "my_obj = GFG(\"CJ\", \"AMF\")\n",
        "print(my_obj)"
      ],
      "metadata": {
        "colab": {
          "base_uri": "https://localhost:8080/"
        },
        "id": "sZ0PXs2t7EgT",
        "outputId": "668b1927-4f1a-469e-932e-93c3daee5f77"
      },
      "execution_count": 5,
      "outputs": [
        {
          "output_type": "stream",
          "name": "stdout",
          "text": [
            "My name is CJ and I work in AMF.\n"
          ]
        }
      ]
    },
    {
      "cell_type": "code",
      "source": [
        "\n",
        "# The variables with a value\n",
        "# assigned in the class declaration, are class variables and\n",
        "# variables inside methods and constructors are instance\n",
        "# variables.\n",
        "\n",
        "class Dog:\n",
        "\n",
        "    # Class Variable\n",
        "    animal = 'dog'\n",
        "\n",
        "    # The init method or constructor\n",
        "    def __init__(self, breed, color):\n",
        "\n",
        "        # Instance Variable\n",
        "        self.breed = breed\n",
        "        self.color = color\n",
        "\n",
        "\n",
        "# Objects of Dog class\n",
        "Rodger = Dog(\"Pug\", \"brown\")\n",
        "Buzo = Dog(\"Bulldog\", \"black\")\n",
        "\n",
        "print('Rodger details:')\n",
        "print('Rodger is a', Rodger.animal)\n",
        "print('Breed: ', Rodger.breed)\n",
        "print('Color: ', Rodger.color)\n",
        "\n",
        "print('\\nBuzo details:')\n",
        "print('Buzo is a', Buzo.animal)\n",
        "print('Breed: ', Buzo.breed)\n",
        "print('Color: ', Buzo.color)\n",
        "\n",
        "# Class variables can be accessed using class\n",
        "# name also\n",
        "print(\"\\nAccessing class variable using class name\")\n",
        "print(Dog.animal)"
      ],
      "metadata": {
        "colab": {
          "base_uri": "https://localhost:8080/"
        },
        "id": "V9xF_oL0840t",
        "outputId": "2d097d69-4ea5-4e19-d79e-2eced309c2c2"
      },
      "execution_count": 6,
      "outputs": [
        {
          "output_type": "stream",
          "name": "stdout",
          "text": [
            "Rodger details:\n",
            "Rodger is a dog\n",
            "Breed:  Pug\n",
            "Color:  brown\n",
            "\n",
            "Buzo details:\n",
            "Buzo is a dog\n",
            "Breed:  Bulldog\n",
            "Color:  black\n",
            "\n",
            "Accessing class variable using class name\n",
            "dog\n"
          ]
        }
      ]
    }
  ]
}