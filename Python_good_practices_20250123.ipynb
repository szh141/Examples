{
  "nbformat": 4,
  "nbformat_minor": 0,
  "metadata": {
    "colab": {
      "provenance": [],
      "authorship_tag": "ABX9TyOXHYW1NNQ4vAwWDPye+ROo",
      "include_colab_link": true
    },
    "kernelspec": {
      "name": "python3",
      "display_name": "Python 3"
    },
    "language_info": {
      "name": "python"
    }
  },
  "cells": [
    {
      "cell_type": "markdown",
      "metadata": {
        "id": "view-in-github",
        "colab_type": "text"
      },
      "source": [
        "<a href=\"https://colab.research.google.com/github/szh141/Examples/blob/main/Python_good_practices_20250123.ipynb\" target=\"_parent\"><img src=\"https://colab.research.google.com/assets/colab-badge.svg\" alt=\"Open In Colab\"/></a>"
      ]
    },
    {
      "cell_type": "markdown",
      "source": [
        "https://medium.com/pythoneers/10-python-best-practices-to-enhance-your-data-science-skills-c9cdd5325671\n",
        "\n",
        "same thing as GPU boost performance"
      ],
      "metadata": {
        "id": "mYMuauijnFy1"
      }
    },
    {
      "cell_type": "code",
      "execution_count": 3,
      "metadata": {
        "colab": {
          "base_uri": "https://localhost:8080/"
        },
        "id": "EbRT8of5PyFF",
        "outputId": "84e81bb1-9301-43fc-aa3d-6c7aa2852300"
      },
      "outputs": [
        {
          "output_type": "stream",
          "name": "stdout",
          "text": [
            "[1, 4, 9, 16, 25]\n",
            "[ 1  4  9 16 25]\n"
          ]
        }
      ],
      "source": [
        "#vectorized operation with Numpy and Pandas\n",
        "\n",
        "import numpy as np\n",
        "\n",
        "# Traditional loop\n",
        "data = [1, 2, 3, 4, 5]\n",
        "squared1 = [x**2 for x in data]\n",
        "print(squared1)\n",
        "\n",
        "# Using NumPy vectorization\n",
        "data = np.array([1, 2, 3, 4, 5])\n",
        "squared2 = data**2\n",
        "print(squared2)"
      ]
    },
    {
      "cell_type": "code",
      "source": [
        "np.sum vs np.add\n",
        "np.mean vs np.average\n",
        "np.concatenate vs np.stack\n",
        "np.zeros vs np.zeros_like\n",
        "np.arrange vs np.linspace\n",
        "np.dot vs np.matmul"
      ],
      "metadata": {
        "id": "h2jKNT4M1AM-"
      },
      "execution_count": null,
      "outputs": []
    }
  ]
}