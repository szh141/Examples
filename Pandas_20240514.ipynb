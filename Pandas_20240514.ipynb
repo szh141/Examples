{
  "nbformat": 4,
  "nbformat_minor": 0,
  "metadata": {
    "colab": {
      "provenance": [],
      "authorship_tag": "ABX9TyPKK5lKpZHSd+X8OHcFFSLa",
      "include_colab_link": true
    },
    "kernelspec": {
      "name": "python3",
      "display_name": "Python 3"
    },
    "language_info": {
      "name": "python"
    }
  },
  "cells": [
    {
      "cell_type": "markdown",
      "metadata": {
        "id": "view-in-github",
        "colab_type": "text"
      },
      "source": [
        "<a href=\"https://colab.research.google.com/github/szh141/Examples/blob/main/Pandas_20240514.ipynb\" target=\"_parent\"><img src=\"https://colab.research.google.com/assets/colab-badge.svg\" alt=\"Open In Colab\"/></a>"
      ]
    },
    {
      "cell_type": "markdown",
      "source": [
        "https://python.plainenglish.io/101-advanced-everyday-python-for-data-scientists-669c9b417707"
      ],
      "metadata": {
        "id": "O9LHbhMBavra"
      }
    },
    {
      "cell_type": "code",
      "execution_count": 1,
      "metadata": {
        "colab": {
          "base_uri": "https://localhost:8080/"
        },
        "id": "VDT9Vs-5atXD",
        "outputId": "31f7a4d2-d205-4e15-d2fd-cd8e5d99770e"
      },
      "outputs": [
        {
          "output_type": "stream",
          "name": "stdout",
          "text": [
            "         Value        \n",
            "          mean min max\n",
            "Category              \n",
            "A         20.0  10  30\n",
            "B         35.0  20  50\n",
            "C         40.0  40  40\n"
          ]
        }
      ],
      "source": [
        "# group and aggregate function\n",
        "\n",
        "import pandas as pd\n",
        "df = pd.DataFrame({'Category': ['A', 'B', 'A', 'C', 'B'], 'Value': [10, 20, 30, 40, 50]})\n",
        "grouped_df = df.groupby('Category').agg({'Value': ['mean', 'min', 'max']})\n",
        "print(grouped_df)"
      ]
    },
    {
      "cell_type": "code",
      "source": [
        "#apply function to df\n",
        "\n",
        "import pandas as pd\n",
        "df = pd.DataFrame({'Value': [1, 2, 3, 4, 5]})\n",
        "def square(x):\n",
        " return x ** 2\n",
        "df['Squared'] = df['Value'].apply(square)\n",
        "print(df)"
      ],
      "metadata": {
        "colab": {
          "base_uri": "https://localhost:8080/"
        },
        "id": "BNIPv310bL8R",
        "outputId": "61df5a7e-25b6-4e03-c302-c32888f4577b"
      },
      "execution_count": 2,
      "outputs": [
        {
          "output_type": "stream",
          "name": "stdout",
          "text": [
            "   Value  Squared\n",
            "0      1        1\n",
            "1      2        4\n",
            "2      3        9\n",
            "3      4       16\n",
            "4      5       25\n"
          ]
        }
      ]
    }
  ]
}