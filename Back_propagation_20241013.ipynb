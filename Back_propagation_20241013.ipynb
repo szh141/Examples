{
  "nbformat": 4,
  "nbformat_minor": 0,
  "metadata": {
    "colab": {
      "provenance": [],
      "authorship_tag": "ABX9TyMnd9nXRG3jwKPfD62PGM/G",
      "include_colab_link": true
    },
    "kernelspec": {
      "name": "python3",
      "display_name": "Python 3"
    },
    "language_info": {
      "name": "python"
    }
  },
  "cells": [
    {
      "cell_type": "markdown",
      "metadata": {
        "id": "view-in-github",
        "colab_type": "text"
      },
      "source": [
        "<a href=\"https://colab.research.google.com/github/szh141/Examples/blob/main/Back_propagation_20241013.ipynb\" target=\"_parent\"><img src=\"https://colab.research.google.com/assets/colab-badge.svg\" alt=\"Open In Colab\"/></a>"
      ]
    },
    {
      "cell_type": "markdown",
      "source": [
        "https://bayramblog.medium.com/backpropagation-the-heart-of-deep-learning-f2e1493882c9"
      ],
      "metadata": {
        "id": "n4td6pgP9TWq"
      }
    },
    {
      "cell_type": "code",
      "execution_count": 6,
      "metadata": {
        "colab": {
          "base_uri": "https://localhost:8080/"
        },
        "id": "mxlBGcEt81T5",
        "outputId": "966cb61c-8ea9-4176-d651-79f9c677debf"
      },
      "outputs": [
        {
          "output_type": "stream",
          "name": "stdout",
          "text": [
            "Epoch 0, Loss: 0.27947346199705303\n",
            "Epoch 1000, Loss: 0.25000000652399107\n",
            "Epoch 2000, Loss: 0.2500000000000233\n",
            "Epoch 3000, Loss: 0.25\n",
            "Epoch 4000, Loss: 0.25\n",
            "Epoch 5000, Loss: 0.25\n",
            "Epoch 6000, Loss: 0.25\n",
            "Epoch 7000, Loss: 0.25\n",
            "Epoch 8000, Loss: 0.25\n",
            "Epoch 9000, Loss: 0.25\n",
            "Final weights: [[-3.32926760e-16]\n",
            " [ 1.64125217e-16]]\n"
          ]
        }
      ],
      "source": [
        "import numpy as np\n",
        "\n",
        "# Activation function: Sigmoid\n",
        "def sigmoid(x):\n",
        "    return 1 / (1 + np.exp(-x))\n",
        "\n",
        "# Derivative of sigmoid\n",
        "def sigmoid_derivative(x):\n",
        "    return x * (1 - x)\n",
        "\n",
        "# Loss function: Mean Squared Error\n",
        "def mean_squared_error(y_true, y_pred):\n",
        "    return np.mean((y_true - y_pred) ** 2)\n",
        "\n",
        "# Feedforward function\n",
        "def feedforward(inputs, weights):\n",
        "    return sigmoid(np.dot(inputs, weights))\n",
        "\n",
        "# BackPropagation function\n",
        "def backpropagation(inputs, weights, y_true, learning_rate):\n",
        "    # Feedforward pass\n",
        "    predictions = feedforward(inputs, weights)\n",
        "    # Compute the loss\n",
        "    loss = mean_squared_error(y_true, predictions)\n",
        "    # Compute the error\n",
        "    error = y_true - predictions\n",
        "    # Compute the gradient\n",
        "    gradient = error * sigmoid_derivative(predictions)\n",
        "    # Update weights\n",
        "    weights += learning_rate * np.dot(inputs.T, gradient)\n",
        "    return weights, loss\n",
        "\n",
        "# Example usage\n",
        "np.random.seed(42)\n",
        "inputs = np.array([[0, 0], [0, 1], [1, 0], [1, 1]])\n",
        "y_true = np.array([[0], [1], [1], [0]])\n",
        "weights = np.random.rand(2, 1)\n",
        "learning_rate = 0.1\n",
        "epochs = 10000\n",
        "\n",
        "for epoch in range(epochs):\n",
        "    weights, loss = backpropagation(inputs, weights, y_true, learning_rate)\n",
        "    if epoch % 1000 == 0:\n",
        "        print(f'Epoch {epoch}, Loss: {loss}')\n",
        "\n",
        "print(\"Final weights:\", weights)"
      ]
    }
  ]
}