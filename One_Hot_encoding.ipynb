{
  "nbformat": 4,
  "nbformat_minor": 0,
  "metadata": {
    "colab": {
      "provenance": [],
      "gpuType": "T4",
      "authorship_tag": "ABX9TyO1NMPplhPa7zYpz6sVA2SP",
      "include_colab_link": true
    },
    "kernelspec": {
      "name": "python3",
      "display_name": "Python 3"
    },
    "language_info": {
      "name": "python"
    },
    "accelerator": "GPU"
  },
  "cells": [
    {
      "cell_type": "markdown",
      "metadata": {
        "id": "view-in-github",
        "colab_type": "text"
      },
      "source": [
        "<a href=\"https://colab.research.google.com/github/szh141/Examples/blob/main/One_Hot_encoding.ipynb\" target=\"_parent\"><img src=\"https://colab.research.google.com/assets/colab-badge.svg\" alt=\"Open In Colab\"/></a>"
      ]
    },
    {
      "cell_type": "code",
      "execution_count": 4,
      "metadata": {
        "colab": {
          "base_uri": "https://localhost:8080/",
          "height": 537
        },
        "id": "ibA6_iBV6ooz",
        "outputId": "cbddf527-f169-47c6-82f6-9c1e500e09aa"
      },
      "outputs": [
        {
          "output_type": "stream",
          "name": "stdout",
          "text": [
            "(60000, 28, 28)\n",
            "(60000,)\n",
            "(10000, 28, 28)\n",
            "(10000,)\n"
          ]
        },
        {
          "output_type": "display_data",
          "data": {
            "text/plain": [
              "<Figure size 640x480 with 1 Axes>"
            ],
            "image/png": "[encoded data removed]"
          },
          "metadata": {}
        },
        {
          "output_type": "stream",
          "name": "stdout",
          "text": [
            "2\n",
            "()\n"
          ]
        }
      ],
      "source": [
        "from matplotlib import pyplot as plt\n",
        "from tensorflow.keras.datasets import mnist\n",
        "(X_train, y_train), (X_test, y_test) = mnist.load_data()\n",
        "\n",
        "print(X_train.shape)\n",
        "print(y_train.shape)\n",
        "print(X_test.shape)\n",
        "print(y_test.shape)\n",
        "\n",
        "index = 187\n",
        "\n",
        "plt.imshow(X_train[index])\n",
        "plt.show()\n",
        "\n",
        "print(y_train[index])\n",
        "print(y_train[index].shape)"
      ]
    },
    {
      "cell_type": "markdown",
      "source": [
        "We can see that the actual y value for index 128 is 1 — meaning that it represents the number 1. The shape is () and hence we are really talking about a scalar value.\n",
        "\n",
        "If we wanted to create a Neural Network, the best choice for this dataset would be to apply sparce categorical crossentropy loss— for the simple reason that we don’t have to apply one-hot encoding if we use that loss function.\n",
        "\n",
        "Because we do want to illustrate how one-hot encoding works with TensorFlow and Keras, we use categorical crossentropy loss instead, so we must apply one-hot encoding to the samples.\n",
        "\n"
      ],
      "metadata": {
        "id": "13EZubNP7fEl"
      }
    },
    {
      "cell_type": "markdown",
      "source": [
        "Applying One-Hot Encoding to the samples\n",
        "\n",
        "If we need to convert our dataset into categorical format (and hence one-hot encoded format), we can do so using Scikit-learn’s OneHotEncodermodule. However, TensorFlow also offers its own implementation: tensorflow.keras.utils.to_categorical. It's a utility function which allows us to convert integer targets into categorical and hence one-hot encoded ones."
      ],
      "metadata": {
        "id": "icWf-s8n9yiD"
      }
    },
    {
      "cell_type": "code",
      "source": [
        "from tensorflow.keras.utils import to_categorical\n",
        "\n",
        "y_train = to_categorical(y_train)\n",
        "y_test = to_categorical(y_test)\n",
        "\n",
        "print(y_train[index])\n",
        "print(y_train[index].shape)"
      ],
      "metadata": {
        "colab": {
          "base_uri": "https://localhost:8080/"
        },
        "id": "iwLvra_s94f_",
        "outputId": "d89c5f85-6f63-4e92-8d26-8ce7766bff51"
      },
      "execution_count": 5,
      "outputs": [
        {
          "output_type": "stream",
          "name": "stdout",
          "text": [
            "[0. 0. 1. 0. 0. 0. 0. 0. 0. 0.]\n",
            "(10,)\n"
          ]
        }
      ]
    },
    {
      "cell_type": "markdown",
      "source": [
        "We can clearly see that our target vector has ten values (by means of the (10,) shape), one for each individual digit. The third is one while the others are zero, indicating that we are talking about the number 2, but then in one-hot encoded format. Exactly the same as our original integer value!"
      ],
      "metadata": {
        "id": "hX6TkHQB-rI6"
      }
    },
    {
      "cell_type": "code",
      "source": [
        "# Imports\n",
        "from tensorflow.keras.datasets import mnist\n",
        "from tensorflow.keras.utils import to_categorical\n",
        "\n",
        "# Load dataset\n",
        "(X_train, y_train), (X_test, y_test) = mnist.load_data()\n",
        "\n",
        "# Convert targets into one-hot encoded format\n",
        "y_train = to_categorical(y_train)\n",
        "y_test = to_categorical(y_test)"
      ],
      "metadata": {
        "colab": {
          "base_uri": "https://localhost:8080/"
        },
        "id": "WEaNW4yE-xDJ",
        "outputId": "84fed8d5-21ad-4a1b-9de6-b189931e528d"
      },
      "execution_count": 1,
      "outputs": [
        {
          "output_type": "stream",
          "name": "stdout",
          "text": [
            "Downloading data from https://storage.googleapis.com/tensorflow/tf-keras-datasets/mnist.npz\n",
            "11490434/11490434 [==============================] - 0s 0us/step\n"
          ]
        }
      ]
    },
    {
      "cell_type": "markdown",
      "source": [
        "change runtime to T4"
      ],
      "metadata": {
        "id": "uqD_b-nh_jyi"
      }
    },
    {
      "cell_type": "code",
      "source": [
        "# Imports\n",
        "from tensorflow.keras.datasets import mnist\n",
        "from tensorflow.keras.utils import to_categorical, normalize\n",
        "from tensorflow.keras.models import Sequential\n",
        "from tensorflow.keras.layers import Dense, Flatten, Conv2D\n",
        "from tensorflow.keras.losses import categorical_crossentropy\n",
        "from tensorflow.keras.optimizers import Adam\n",
        "import numpy as np\n",
        "\n",
        "# Load dataset\n",
        "(X_train, y_train), (X_test, y_test) = mnist.load_data()\n",
        "\n",
        "# Configuration options\n",
        "no_classes = len(np.unique(y_train))\n",
        "img_width, img_height = 28, 28\n",
        "validation_split = 0.20\n",
        "no_epochs = 25\n",
        "verbosity = 1\n",
        "batch_size = 250\n",
        "\n",
        "# Reshape data\n",
        "X_train = X_train.reshape(X_train.shape[0], img_width, img_height, 1)\n",
        "X_test =  X_test.reshape(X_test.shape[0], img_width, img_height, 1)\n",
        "input_shape = (img_width, img_height, 1)\n",
        "\n",
        "# Convert targets into one-hot encoded format\n",
        "y_train = to_categorical(y_train)\n",
        "y_test = to_categorical(y_test)\n",
        "\n",
        "# Normalize the data\n",
        "X_train = normalize(X_train)\n",
        "X_test = normalize(X_test)\n",
        "\n",
        "# Create the model\n",
        "model = Sequential()\n",
        "model.add(Conv2D(32, kernel_size=(3, 3), activation='relu', input_shape=input_shape))\n",
        "model.add(Conv2D(64, kernel_size=(3, 3), activation='relu'))\n",
        "model.add(Flatten())\n",
        "model.add(Dense(256, activation='relu'))\n",
        "model.add(Dense(no_classes, activation='softmax'))\n",
        "\n",
        "# Compile the model\n",
        "model.compile(loss=categorical_crossentropy,\n",
        "              optimizer=Adam(),\n",
        "              metrics=['accuracy'])\n",
        "\n",
        "# Fit data to model\n",
        "model.fit(X_train, y_train,\n",
        "          batch_size=batch_size,\n",
        "          epochs=no_epochs,\n",
        "          verbose=verbosity,\n",
        "          validation_split=validation_split)"
      ],
      "metadata": {
        "colab": {
          "base_uri": "https://localhost:8080/"
        },
        "id": "KmDqL93Y_KOn",
        "outputId": "976e8e0a-e45c-4902-8729-4ab150811283"
      },
      "execution_count": 2,
      "outputs": [
        {
          "output_type": "stream",
          "name": "stdout",
          "text": [
            "Epoch 1/25\n",
            "192/192 [==============================] - 7s 17ms/step - loss: 0.2098 - accuracy: 0.9343 - val_loss: 0.0754 - val_accuracy: 0.9774\n",
            "Epoch 2/25\n",
            "192/192 [==============================] - 3s 16ms/step - loss: 0.0549 - accuracy: 0.9827 - val_loss: 0.0698 - val_accuracy: 0.9789\n",
            "Epoch 3/25\n",
            "192/192 [==============================] - 3s 15ms/step - loss: 0.0308 - accuracy: 0.9904 - val_loss: 0.0674 - val_accuracy: 0.9809\n",
            "Epoch 4/25\n",
            "192/192 [==============================] - 4s 19ms/step - loss: 0.0169 - accuracy: 0.9944 - val_loss: 0.0646 - val_accuracy: 0.9814\n",
            "Epoch 5/25\n",
            "192/192 [==============================] - 3s 17ms/step - loss: 0.0096 - accuracy: 0.9972 - val_loss: 0.0771 - val_accuracy: 0.9817\n",
            "Epoch 6/25\n",
            "192/192 [==============================] - 4s 21ms/step - loss: 0.0068 - accuracy: 0.9978 - val_loss: 0.0779 - val_accuracy: 0.9815\n",
            "Epoch 7/25\n",
            "192/192 [==============================] - 3s 15ms/step - loss: 0.0056 - accuracy: 0.9984 - val_loss: 0.0760 - val_accuracy: 0.9804\n",
            "Epoch 8/25\n",
            "192/192 [==============================] - 3s 16ms/step - loss: 0.0027 - accuracy: 0.9993 - val_loss: 0.0836 - val_accuracy: 0.9833\n",
            "Epoch 9/25\n",
            "192/192 [==============================] - 3s 15ms/step - loss: 0.0026 - accuracy: 0.9992 - val_loss: 0.1064 - val_accuracy: 0.9802\n",
            "Epoch 10/25\n",
            "192/192 [==============================] - 3s 16ms/step - loss: 0.0082 - accuracy: 0.9971 - val_loss: 0.0820 - val_accuracy: 0.9825\n",
            "Epoch 11/25\n",
            "192/192 [==============================] - 3s 15ms/step - loss: 0.0036 - accuracy: 0.9987 - val_loss: 0.0898 - val_accuracy: 0.9835\n",
            "Epoch 12/25\n",
            "192/192 [==============================] - 3s 17ms/step - loss: 0.0033 - accuracy: 0.9990 - val_loss: 0.0913 - val_accuracy: 0.9831\n",
            "Epoch 13/25\n",
            "192/192 [==============================] - 3s 16ms/step - loss: 0.0028 - accuracy: 0.9990 - val_loss: 0.0870 - val_accuracy: 0.9842\n",
            "Epoch 14/25\n",
            "192/192 [==============================] - 3s 16ms/step - loss: 0.0010 - accuracy: 0.9997 - val_loss: 0.0960 - val_accuracy: 0.9836\n",
            "Epoch 15/25\n",
            "192/192 [==============================] - 3s 16ms/step - loss: 0.0043 - accuracy: 0.9985 - val_loss: 0.0892 - val_accuracy: 0.9829\n",
            "Epoch 16/25\n",
            "192/192 [==============================] - 3s 17ms/step - loss: 0.0022 - accuracy: 0.9995 - val_loss: 0.0892 - val_accuracy: 0.9843\n",
            "Epoch 17/25\n",
            "192/192 [==============================] - 3s 16ms/step - loss: 0.0031 - accuracy: 0.9990 - val_loss: 0.0955 - val_accuracy: 0.9821\n",
            "Epoch 18/25\n",
            "192/192 [==============================] - 3s 16ms/step - loss: 0.0030 - accuracy: 0.9989 - val_loss: 0.1054 - val_accuracy: 0.9802\n",
            "Epoch 19/25\n",
            "192/192 [==============================] - 3s 16ms/step - loss: 0.0046 - accuracy: 0.9985 - val_loss: 0.0866 - val_accuracy: 0.9827\n",
            "Epoch 20/25\n",
            "192/192 [==============================] - 3s 16ms/step - loss: 0.0034 - accuracy: 0.9989 - val_loss: 0.0977 - val_accuracy: 0.9812\n",
            "Epoch 21/25\n",
            "192/192 [==============================] - 3s 18ms/step - loss: 0.0015 - accuracy: 0.9996 - val_loss: 0.0966 - val_accuracy: 0.9822\n",
            "Epoch 22/25\n",
            "192/192 [==============================] - 3s 16ms/step - loss: 3.2706e-04 - accuracy: 0.9999 - val_loss: 0.0928 - val_accuracy: 0.9852\n",
            "Epoch 23/25\n",
            "192/192 [==============================] - 3s 16ms/step - loss: 1.9772e-05 - accuracy: 1.0000 - val_loss: 0.0949 - val_accuracy: 0.9854\n",
            "Epoch 24/25\n",
            "192/192 [==============================] - 3s 16ms/step - loss: 1.1688e-05 - accuracy: 1.0000 - val_loss: 0.0963 - val_accuracy: 0.9853\n",
            "Epoch 25/25\n",
            "192/192 [==============================] - 3s 17ms/step - loss: 8.8747e-06 - accuracy: 1.0000 - val_loss: 0.0976 - val_accuracy: 0.9853\n"
          ]
        },
        {
          "output_type": "execute_result",
          "data": {
            "text/plain": [
              "<keras.src.callbacks.History at 0x7d8e9b09cb80>"
            ]
          },
          "metadata": {},
          "execution_count": 2
        }
      ]
    }
  ]
}