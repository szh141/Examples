{
  "nbformat": 4,
  "nbformat_minor": 0,
  "metadata": {
    "colab": {
      "provenance": [],
      "authorship_tag": "ABX9TyPHFLZR3izFbLV50700D/r7",
      "include_colab_link": true
    },
    "kernelspec": {
      "name": "python3",
      "display_name": "Python 3"
    },
    "language_info": {
      "name": "python"
    }
  },
  "cells": [
    {
      "cell_type": "markdown",
      "metadata": {
        "id": "view-in-github",
        "colab_type": "text"
      },
      "source": [
        "<a href=\"https://colab.research.google.com/github/szh141/Examples/blob/main/split_PDF.ipynb\" target=\"_parent\"><img src=\"https://colab.research.google.com/assets/colab-badge.svg\" alt=\"Open In Colab\"/></a>"
      ]
    },
    {
      "cell_type": "markdown",
      "source": [
        "https://medium.com/@alice.yang_10652/split-pdf-files-or-pages-with-python-7721b656d987"
      ],
      "metadata": {
        "id": "gY5Cc3t_MbQ8"
      }
    },
    {
      "cell_type": "code",
      "execution_count": 1,
      "metadata": {
        "colab": {
          "base_uri": "https://localhost:8080/"
        },
        "id": "A7Y-WiPOLue9",
        "outputId": "cdde843c-317b-45c0-fa39-16e65868f7b2"
      },
      "outputs": [
        {
          "output_type": "stream",
          "name": "stdout",
          "text": [
            "Collecting Spire.Pdf\n",
            "  Downloading Spire.Pdf-10.2.0-py3-none-manylinux1_x86_64.whl (41.5 MB)\n",
            "\u001b[2K     \u001b[90m━━━━━━━━━━━━━━━━━━━━━━━━━━━━━━━━━━━━━━━━\u001b[0m \u001b[32m41.5/41.5 MB\u001b[0m \u001b[31m19.4 MB/s\u001b[0m eta \u001b[36m0:00:00\u001b[0m\n",
            "\u001b[?25hCollecting plum-dispatch==1.7.4 (from Spire.Pdf)\n",
            "  Downloading plum_dispatch-1.7.4-py3-none-any.whl (24 kB)\n",
            "Installing collected packages: plum-dispatch, Spire.Pdf\n",
            "Successfully installed Spire.Pdf-10.2.0 plum-dispatch-1.7.4\n"
          ]
        }
      ],
      "source": [
        "pip install Spire.Pdf"
      ]
    },
    {
      "cell_type": "code",
      "source": [
        "from spire.pdf.common import *\n",
        "from spire.pdf import *\n",
        "\n",
        "# Create a PdfDocument object\n",
        "pdf = PdfDocument()\n",
        "# Load a PDF file\n",
        "pdf.LoadFromFile(\"/content/The_benefits_of_NDD_in_multi-photon_microscopy.pdf\")\n",
        "\n",
        "# Create two new PdfDocument objects\n",
        "newPdf_1 = PdfDocument()\n",
        "newPdf_2 = PdfDocument()\n",
        "\n",
        "# Insert pages 1-3 of the source file into the first PDF file\n",
        "newPdf_1.InsertPageRange(pdf, 0, 2)\n",
        "# Insert the rest pages of the source file into the second PDF file\n",
        "newPdf_2.InsertPageRange(pdf, 3, pdf.Pages.Count - 1)\n",
        "\n",
        "# Save the resulting files\n",
        "newPdf_1.SaveToFile(\"SplitByPageRange-1.pdf\")\n",
        "newPdf_2.SaveToFile(\"SplitByPageRange-2.pdf\")\n",
        "\n",
        "# Close the PdfDocument objects\n",
        "pdf.Close()\n",
        "newPdf_1.Close()\n",
        "newPdf_2.Close()"
      ],
      "metadata": {
        "id": "dR3mrF--MT6t"
      },
      "execution_count": 2,
      "outputs": []
    }
  ]
}