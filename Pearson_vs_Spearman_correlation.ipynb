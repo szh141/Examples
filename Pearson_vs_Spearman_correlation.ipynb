{
  "nbformat": 4,
  "nbformat_minor": 0,
  "metadata": {
    "colab": {
      "provenance": [],
      "authorship_tag": "ABX9TyPmZ8BR6NBgFoOUoufRvCxV",
      "include_colab_link": true
    },
    "kernelspec": {
      "name": "python3",
      "display_name": "Python 3"
    },
    "language_info": {
      "name": "python"
    }
  },
  "cells": [
    {
      "cell_type": "markdown",
      "metadata": {
        "id": "view-in-github",
        "colab_type": "text"
      },
      "source": [
        "<a href=\"https://colab.research.google.com/github/szh141/Examples/blob/main/Pearson_vs_Spearman_correlation.ipynb\" target=\"_parent\"><img src=\"https://colab.research.google.com/assets/colab-badge.svg\" alt=\"Open In Colab\"/></a>"
      ]
    },
    {
      "cell_type": "markdown",
      "source": [
        "https://medium.com/@HeCanThink/correlations-a-comprehensive-guide-to-different-measures-of-correlation-f7ce62a86bde\n",
        "\n",
        "linear vs non-linear"
      ],
      "metadata": {
        "id": "ntz-uIvunOCT"
      }
    },
    {
      "cell_type": "code",
      "source": [
        "import numpy as np\n",
        "from scipy.stats import pearsonr, spearmanr\n",
        "from matplotlib import pyplot as plt\n",
        "\n",
        "# Generate some sample data\n",
        "np.random.seed(42)\n",
        "x = np.random.rand(100)  # Sample data for variable X\n",
        "y1 = 2 * x + 1 + 0.1 * np.random.randn(100)  # Linear relationship with some noise for variable Y\n",
        "y2 = 10*x**4 + 0.1 * np.random.randn(100)\n",
        "plt.scatter(x,y1)\n",
        "plt.scatter(x,y2)\n",
        "\n",
        "# Calculate the Pearson correlation coefficient\n",
        "pearson_corr1, p_value1 = pearsonr(x, y1)\n",
        "pearson_corr2, p_value3 = pearsonr(x, y2)\n",
        "\n",
        "spearman_corr, p_value2 = spearmanr(x, y2)\n",
        "\n",
        "# Display the result\n",
        "print(f\"Pearson Correlation Coefficient: {pearson_corr1:.4f}\")\n",
        "print(f\"P-value: {p_value1:.4f}\")\n",
        "print(f\"Pearson Correlation Coefficient2: {pearson_corr2:.4f}\")\n",
        "print(f\"P-value: {p_value3:.4f}\")\n",
        "print(f\"Spearman Rank Correlation Coefficient: {spearman_corr:.4f}\")\n",
        "print(f\"P-value: {p_value2:.4f}\")"
      ],
      "metadata": {
        "colab": {
          "base_uri": "https://localhost:8080/",
          "height": 537
        },
        "id": "H-gY38DHmDJK",
        "outputId": "53403482-7070-441a-f79b-85794a17eab1"
      },
      "execution_count": null,
      "outputs": [
        {
          "output_type": "stream",
          "name": "stdout",
          "text": [
            "Pearson Correlation Coefficient: 0.9882\n",
            "P-value: 0.0000\n",
            "Pearson Correlation Coefficient2: 0.8597\n",
            "P-value: 0.0000\n",
            "Spearman Rank Correlation Coefficient: 0.9360\n",
            "P-value: 0.0000\n"
          ]
        },
        {
          "output_type": "display_data",
          "data": {
            "text/plain": [
              "<Figure size 640x480 with 1 Axes>"
            ],
            "image/png": "[encoded data removed]"
          },
          "metadata": {}
        }
      ]
    },
    {
      "cell_type": "code",
      "execution_count": null,
      "metadata": {
        "colab": {
          "base_uri": "https://localhost:8080/"
        },
        "id": "Cid-5EMilOvv",
        "outputId": "c2b8fda2-8c95-4c4e-e31b-bca82516eb81"
      },
      "outputs": [
        {
          "output_type": "stream",
          "name": "stdout",
          "text": [
            "Spearman Rank Correlation Coefficient: 1.0000\n",
            "P-value: 0.0000\n"
          ]
        }
      ],
      "source": [
        "import numpy as np\n",
        "from scipy.stats import spearmanr\n",
        "\n",
        "# Generate sample data\n",
        "np.random.seed(42)\n",
        "x = np.array([10, 20, 30, 40, 50])\n",
        "y = np.array([5, 15, 25, 35, 45])\n",
        "\n",
        "# Calculate Spearman rank correlation coefficient\n",
        "spearman_corr, p_value = spearmanr(x, y)\n",
        "\n",
        "# Display the result\n",
        "print(f\"Spearman Rank Correlation Coefficient: {spearman_corr:.4f}\")\n",
        "print(f\"P-value: {p_value:.4f}\")"
      ]
    }
  ]
}