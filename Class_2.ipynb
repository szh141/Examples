{
  "nbformat": 4,
  "nbformat_minor": 0,
  "metadata": {
    "colab": {
      "provenance": [],
      "authorship_tag": "ABX9TyOjO9cgvms4t1qy0wLI3bF9",
      "include_colab_link": true
    },
    "kernelspec": {
      "name": "python3",
      "display_name": "Python 3"
    },
    "language_info": {
      "name": "python"
    }
  },
  "cells": [
    {
      "cell_type": "markdown",
      "metadata": {
        "id": "view-in-github",
        "colab_type": "text"
      },
      "source": [
        "<a href=\"https://colab.research.google.com/github/szh141/Examples/blob/main/Class_2.ipynb\" target=\"_parent\"><img src=\"https://colab.research.google.com/assets/colab-badge.svg\" alt=\"Open In Colab\"/></a>"
      ]
    },
    {
      "cell_type": "markdown",
      "source": [
        "https://www.dataquest.io/blog/using-classes-in-python/"
      ],
      "metadata": {
        "id": "_eKcx5ufZqSW"
      }
    },
    {
      "cell_type": "code",
      "execution_count": 1,
      "metadata": {
        "colab": {
          "base_uri": "https://localhost:8080/"
        },
        "id": "SIFv8Kq_XdfK",
        "outputId": "e003c40c-0675-4b43-b550-58626a545c7d"
      },
      "outputs": [
        {
          "output_type": "stream",
          "name": "stdout",
          "text": [
            "This is a traffic light class\n",
            "<class '__main__.TrafficLight'>\n",
            "green\n",
            "<bound method TrafficLight.action of <__main__.TrafficLight object at 0x7b25f60424d0>>\n",
            "Go\n",
            "None\n"
          ]
        }
      ],
      "source": [
        "class TrafficLight:\n",
        "    '''This is a traffic light class'''\n",
        "    color = 'green'\n",
        "\n",
        "    def action(self):\n",
        "        print('Go')\n",
        "\n",
        "traffic = TrafficLight()\n",
        "\n",
        "print(traffic.__doc__)\n",
        "print(traffic.__class__)\n",
        "print(traffic.color)\n",
        "print(traffic.action)\n",
        "print(traffic.action())"
      ]
    },
    {
      "cell_type": "markdown",
      "source": [
        " In general, when defining a new class, we also create a new class object that contains all the attributes (variables and methods) related to that class.\n",
        "\n",
        " There are also some attributes with special meaning, those that start and end with double underscore and are related to all the classes. For example, the doc__ attribute returns the docstring of that class, or None, if no docstring was added.\n",
        "\n",
        "To access a class attribute, use the dot (.) operator:\n",
        "\n",
        "The function action() defined inside the TrafficLight class above is an example of a class method, while the variable color is a class variable.\n"
      ],
      "metadata": {
        "id": "sbe7Zh1BYRhP"
      }
    },
    {
      "cell_type": "code",
      "source": [
        "\"\"\"\n",
        "We use the init() method (aka class constructor)\n",
        "to initialize the object's state (i.e., to assign\n",
        "all the class variables at the moment of object instantiation).\n",
        "\"\"\"\n",
        "\n",
        "class TrafficLight:\n",
        "    '''This is an updated traffic light class'''\n",
        "    def __init__(self, color):\n",
        "        self.color = color\n",
        "\n",
        "    def action(self):\n",
        "        if self.color=='red':\n",
        "            print('Stop & wait')\n",
        "        elif self.color=='yellow':\n",
        "            print('Prepare to stop')\n",
        "        elif self.color=='green':\n",
        "            print('Go')\n",
        "        else:\n",
        "            print('Stop drinking 😉')\n",
        "\n",
        "yellow = TrafficLight('yellow')\n",
        "yellow.action()"
      ],
      "metadata": {
        "colab": {
          "base_uri": "https://localhost:8080/"
        },
        "id": "3kNzFqsOaNcJ",
        "outputId": "bbb009d9-f3c9-4186-d206-a4e1b12f79e0"
      },
      "execution_count": 2,
      "outputs": [
        {
          "output_type": "stream",
          "name": "stdout",
          "text": [
            "Prepare to stop\n"
          ]
        }
      ]
    },
    {
      "cell_type": "code",
      "source": [
        "green = TrafficLight('green')\n",
        "yellow = TrafficLight('yellow')\n",
        "\n",
        "green.next_color = 'red'\n",
        "#create object attr with '.' operator\n",
        "#it's object attr not class attr\n",
        "#so yello doesn't have .next_color\n",
        "\n",
        "print(green.next_color)\n",
        "print(yellow.next_color)"
      ],
      "metadata": {
        "colab": {
          "base_uri": "https://localhost:8080/",
          "height": 198
        },
        "id": "a93l-D7Lbw0A",
        "outputId": "def58603-36e1-40e0-e424-7640678685fe"
      },
      "execution_count": 3,
      "outputs": [
        {
          "output_type": "stream",
          "name": "stdout",
          "text": [
            "red\n"
          ]
        },
        {
          "output_type": "error",
          "ename": "AttributeError",
          "evalue": "'TrafficLight' object has no attribute 'next_color'",
          "traceback": [
            "\u001b[0;31m---------------------------------------------------------------------------\u001b[0m",
            "\u001b[0;31mAttributeError\u001b[0m                            Traceback (most recent call last)",
            "\u001b[0;32m<ipython-input-3-cf02bd814c94>\u001b[0m in \u001b[0;36m<cell line: 7>\u001b[0;34m()\u001b[0m\n\u001b[1;32m      5\u001b[0m \u001b[0;34m\u001b[0m\u001b[0m\n\u001b[1;32m      6\u001b[0m \u001b[0mprint\u001b[0m\u001b[0;34m(\u001b[0m\u001b[0mgreen\u001b[0m\u001b[0;34m.\u001b[0m\u001b[0mnext_color\u001b[0m\u001b[0;34m)\u001b[0m\u001b[0;34m\u001b[0m\u001b[0;34m\u001b[0m\u001b[0m\n\u001b[0;32m----> 7\u001b[0;31m \u001b[0mprint\u001b[0m\u001b[0;34m(\u001b[0m\u001b[0myellow\u001b[0m\u001b[0;34m.\u001b[0m\u001b[0mnext_color\u001b[0m\u001b[0;34m)\u001b[0m\u001b[0;34m\u001b[0m\u001b[0;34m\u001b[0m\u001b[0m\n\u001b[0m",
            "\u001b[0;31mAttributeError\u001b[0m: 'TrafficLight' object has no attribute 'next_color'"
          ]
        }
      ]
    },
    {
      "cell_type": "markdown",
      "source": [
        "In the code above, we created a new attribute next_color for the green object and assigned it to \"red.\" Since this attribute isn't in the TrafficLightclass definition, when we try to check it for another object (yellow), we get an AttributeError.\n",
        "\n",
        "We can delete any attribute of a class object using the del statement:"
      ],
      "metadata": {
        "id": "xc1NDHxhb1eO"
      }
    },
    {
      "cell_type": "code",
      "source": [
        "print(yellow.color)\n",
        "del yellow.color\n",
        "print(yellow.color)"
      ],
      "metadata": {
        "colab": {
          "base_uri": "https://localhost:8080/",
          "height": 198
        },
        "id": "BjdlyW4wb0ya",
        "outputId": "9ae6e869-0e31-4a90-cb37-f731637cd7fc"
      },
      "execution_count": 4,
      "outputs": [
        {
          "output_type": "stream",
          "name": "stdout",
          "text": [
            "yellow\n"
          ]
        },
        {
          "output_type": "error",
          "ename": "AttributeError",
          "evalue": "'TrafficLight' object has no attribute 'color'",
          "traceback": [
            "\u001b[0;31m---------------------------------------------------------------------------\u001b[0m",
            "\u001b[0;31mAttributeError\u001b[0m                            Traceback (most recent call last)",
            "\u001b[0;32m<ipython-input-4-16a8ec89e23e>\u001b[0m in \u001b[0;36m<cell line: 3>\u001b[0;34m()\u001b[0m\n\u001b[1;32m      1\u001b[0m \u001b[0mprint\u001b[0m\u001b[0;34m(\u001b[0m\u001b[0myellow\u001b[0m\u001b[0;34m.\u001b[0m\u001b[0mcolor\u001b[0m\u001b[0;34m)\u001b[0m\u001b[0;34m\u001b[0m\u001b[0;34m\u001b[0m\u001b[0m\n\u001b[1;32m      2\u001b[0m \u001b[0;32mdel\u001b[0m \u001b[0myellow\u001b[0m\u001b[0;34m.\u001b[0m\u001b[0mcolor\u001b[0m\u001b[0;34m\u001b[0m\u001b[0;34m\u001b[0m\u001b[0m\n\u001b[0;32m----> 3\u001b[0;31m \u001b[0mprint\u001b[0m\u001b[0;34m(\u001b[0m\u001b[0myellow\u001b[0m\u001b[0;34m.\u001b[0m\u001b[0mcolor\u001b[0m\u001b[0;34m)\u001b[0m\u001b[0;34m\u001b[0m\u001b[0;34m\u001b[0m\u001b[0m\n\u001b[0m",
            "\u001b[0;31mAttributeError\u001b[0m: 'TrafficLight' object has no attribute 'color'"
          ]
        }
      ]
    }
  ]
}