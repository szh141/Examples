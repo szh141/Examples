{
  "nbformat": 4,
  "nbformat_minor": 0,
  "metadata": {
    "colab": {
      "provenance": [],
      "authorship_tag": "ABX9TyMvhsH+wyKWoI/Jl94t+Z9R",
      "include_colab_link": true
    },
    "kernelspec": {
      "name": "python3",
      "display_name": "Python 3"
    },
    "language_info": {
      "name": "python"
    }
  },
  "cells": [
    {
      "cell_type": "markdown",
      "metadata": {
        "id": "view-in-github",
        "colab_type": "text"
      },
      "source": [
        "<a href=\"https://colab.research.google.com/github/szh141/Examples/blob/main/fibonacci_generator_20240610.ipynb\" target=\"_parent\"><img src=\"https://colab.research.google.com/assets/colab-badge.svg\" alt=\"Open In Colab\"/></a>"
      ]
    },
    {
      "cell_type": "markdown",
      "source": [
        "https://medium.com/@edwinvarghese4442/top-25-python-interview-questions-2024-india-9e8c8c695c71"
      ],
      "metadata": {
        "id": "IGncO00mCaa9"
      }
    },
    {
      "cell_type": "code",
      "execution_count": 3,
      "metadata": {
        "colab": {
          "base_uri": "https://localhost:8080/"
        },
        "id": "BnBx7hiDAeaj",
        "outputId": "c3186623-26f4-4506-9398-1d708f1e9d41"
      },
      "outputs": [
        {
          "output_type": "stream",
          "name": "stdout",
          "text": [
            "0\n",
            "1\n",
            "1\n",
            "2\n",
            "3\n",
            "5\n",
            "8\n",
            "13\n",
            "21\n",
            "34\n"
          ]
        }
      ],
      "source": [
        "def fibonacci_generator():\n",
        "  a,b=0,1\n",
        "  while True:\n",
        "    yield a\n",
        "    a,b=b,a+b\n",
        "\n",
        "test = fibonacci_generator()\n",
        "\n",
        "for i in range(10):\n",
        "  print(next(test))"
      ]
    },
    {
      "cell_type": "markdown",
      "source": [
        "In this example:\n",
        "\n",
        "We define a generator function fibonacci_generator() that generates Fibonacci numbers indefinitely.\n",
        "\n",
        "Inside the function, we initialize variables a and b to represent the current and next Fibonacci numbers, respectively.\n",
        "\n",
        "We enter an infinite loop where we yield the current Fibonacci number a in each iteration.\n",
        "\n",
        "After yielding the value, we update a and b to calculate the next Fibonacci number.\n",
        "\n",
        "We create a generator object fibonacci by calling the fibonacci_generator() function.\n",
        "\n",
        "We use a for loop to iterate 10 times and print the next 10 Fibonacci numbers by calling next(fibonacci). Since the generator function is infinite, it will continue generating Fibonacci numbers as needed without storing them all in memory."
      ],
      "metadata": {
        "id": "bFkr0adkBa4e"
      }
    },
    {
      "cell_type": "code",
      "source": [
        "# class and inheritance\n",
        "\n",
        "class Math:\n",
        "    def __init__(self, x, y):\n",
        "        self.x=x\n",
        "        self.y=y\n",
        "\n",
        "    def add(self):\n",
        "        return self.x+self.y\n",
        "    def mult(self):\n",
        "        return self.x*self.y\n",
        "    def divide(self):\n",
        "        return self.x/self.y\n",
        "\n",
        "obj = Math(3,7)\n",
        "print(obj.add()) # 10\n",
        "print(obj.mult()) # 21\n",
        "print(obj.divide()) # .428"
      ],
      "metadata": {
        "colab": {
          "base_uri": "https://localhost:8080/"
        },
        "id": "FM9wjmcXCpzi",
        "outputId": "5bc30ab1-7718-4223-cfdd-575f4ce3ed58"
      },
      "execution_count": 4,
      "outputs": [
        {
          "output_type": "stream",
          "name": "stdout",
          "text": [
            "10\n",
            "21\n",
            "0.42857142857142855\n"
          ]
        }
      ]
    },
    {
      "cell_type": "code",
      "source": [
        "class Animal:\n",
        "    def __init__(self, name):\n",
        "        self.name = name\n",
        "\n",
        "    def speak(self):\n",
        "        pass\n",
        "\n",
        "class Dog(Animal):\n",
        "    def speak(self):\n",
        "        return \"Woof!\"\n",
        "\n",
        "class Cat(Animal):\n",
        "    def speak(self):\n",
        "        return \"Meow!\"\n",
        "\n",
        "# Create instances of the Dog and Cat classes\n",
        "dog = Dog(\"Buddy\")\n",
        "cat = Cat(\"Whiskers\")\n",
        "\n",
        "# Call the speak method of each instance\n",
        "print(dog.speak())  # Output: Woof!\n",
        "print(cat.speak())  # Output: Meow!"
      ],
      "metadata": {
        "colab": {
          "base_uri": "https://localhost:8080/"
        },
        "id": "egP1W8AMCwY6",
        "outputId": "1d63c335-a82e-42bc-db3b-95d69be51d18"
      },
      "execution_count": 5,
      "outputs": [
        {
          "output_type": "stream",
          "name": "stdout",
          "text": [
            "Woof!\n",
            "Meow!\n"
          ]
        }
      ]
    },
    {
      "cell_type": "code",
      "source": [
        "# decorator\n",
        "\n",
        "import time\n",
        "\n",
        "def timeit(func):\n",
        "    def wrapper(*args, **kwargs):\n",
        "        start_time = time.time()\n",
        "        result = func(*args, **kwargs)\n",
        "        end_time = time.time()\n",
        "        print(f\"Time taken by {func.__name__}: {end_time - start_time:.6f} seconds\")\n",
        "        return result\n",
        "    return wrapper\n",
        "\n",
        "# Define a function to be decorated\n",
        "@timeit\n",
        "def my_function(n):\n",
        "    # Simulate some computation\n",
        "    time.sleep(n)\n",
        "    return n\n",
        "\n",
        "# Call the decorated function\n",
        "result = my_function(2)\n",
        "print(\"Result:\", result)"
      ],
      "metadata": {
        "colab": {
          "base_uri": "https://localhost:8080/"
        },
        "id": "41uV49VlD2Cc",
        "outputId": "0b1fa8cf-fc31-4279-d393-1bf5499dd329"
      },
      "execution_count": 6,
      "outputs": [
        {
          "output_type": "stream",
          "name": "stdout",
          "text": [
            "Time taken by my_function: 2.002147 seconds\n",
            "Result: 2\n"
          ]
        }
      ]
    }
  ]
}