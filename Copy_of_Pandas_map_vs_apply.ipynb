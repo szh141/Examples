{
  "nbformat": 4,
  "nbformat_minor": 0,
  "metadata": {
    "colab": {
      "provenance": [],
      "authorship_tag": "ABX9TyMavSMbr2Fj0Q4k89Ufr7tZ",
      "include_colab_link": true
    },
    "kernelspec": {
      "name": "python3",
      "display_name": "Python 3"
    },
    "language_info": {
      "name": "python"
    }
  },
  "cells": [
    {
      "cell_type": "markdown",
      "metadata": {
        "id": "view-in-github",
        "colab_type": "text"
      },
      "source": [
        "<a href=\"https://colab.research.google.com/github/szh141/Examples/blob/main/Copy_of_Pandas_map_vs_apply.ipynb\" target=\"_parent\"><img src=\"https://colab.research.google.com/assets/colab-badge.svg\" alt=\"Open In Colab\"/></a>"
      ]
    },
    {
      "cell_type": "code",
      "execution_count": null,
      "metadata": {
        "id": "jG6_pVEs9xOF"
      },
      "outputs": [],
      "source": [
        "import pandas as pd\n",
        "\n",
        "# Sample DataFrame\n",
        "data = {'Numbers': [1, 2, 3, 4, 5]}\n",
        "df = pd.DataFrame(data)\n",
        "\n"
      ]
    },
    {
      "cell_type": "code",
      "source": [
        "# Using map() to square each number\n",
        "df['Squared'] = df['Numbers'].map(lambda x: x**2)\n",
        "\n",
        "print(df)"
      ],
      "metadata": {
        "colab": {
          "base_uri": "https://localhost:8080/"
        },
        "id": "5dWXu78O97GI",
        "outputId": "4745b70d-91e1-45dd-beab-81ff22cd4e8d"
      },
      "execution_count": null,
      "outputs": [
        {
          "output_type": "stream",
          "name": "stdout",
          "text": [
            "   Numbers  Squared\n",
            "0        1        1\n",
            "1        2        4\n",
            "2        3        9\n",
            "3        4       16\n",
            "4        5       25\n"
          ]
        }
      ]
    },
    {
      "cell_type": "code",
      "source": [
        "# Using apply() on a Series\n",
        "df['Cubed'] = df['Numbers'].apply(lambda x: x**3)\n",
        "\n",
        "print(df)"
      ],
      "metadata": {
        "colab": {
          "base_uri": "https://localhost:8080/"
        },
        "id": "xe6cgjdB95GQ",
        "outputId": "648a0c8c-cc29-4a3a-d0ea-39cc69cd3bce"
      },
      "execution_count": null,
      "outputs": [
        {
          "output_type": "stream",
          "name": "stdout",
          "text": [
            "   Numbers  Squared  Cubed\n",
            "0        1        1      1\n",
            "1        2        4      8\n",
            "2        3        9     27\n",
            "3        4       16     64\n",
            "4        5       25    125\n"
          ]
        }
      ]
    },
    {
      "cell_type": "markdown",
      "source": [
        "apply() works just like map() on a Series.\n",
        "\n",
        "Where apply() shines—Handling multiple columns\n",
        "\n",
        "Let’s say you want to create a new column that adds Squared + Cubed for each row. Here’s how apply() makes it effortless:"
      ],
      "metadata": {
        "id": "u8GcuVFi-Cxp"
      }
    },
    {
      "cell_type": "code",
      "source": [
        "df['Sum_Cube_Square'] =  df['Squared'] + df['Cubed']\n",
        "df"
      ],
      "metadata": {
        "id": "SxDdKZDh-cNt"
      },
      "execution_count": null,
      "outputs": []
    },
    {
      "cell_type": "code",
      "source": [
        "# Using apply() on DataFrame to calculate sum of Squared and Cubed\n",
        "df['Sum_Cube_Square'] = df.apply(lambda row: row['Squared'] + row['Cubed'], axis=1)\n",
        "\n",
        "print(df)\n",
        "\n",
        "# why I cannot df['Sum_Cube_Square'] =  df['Squared'] + df['Cubed']"
      ],
      "metadata": {
        "colab": {
          "base_uri": "https://localhost:8080/"
        },
        "id": "AxzR7l6K-Jqw",
        "outputId": "d5c50329-1b91-40ba-c41c-22df48adde85"
      },
      "execution_count": null,
      "outputs": [
        {
          "output_type": "stream",
          "name": "stdout",
          "text": [
            "   Numbers  Squared  Cubed  Sum_Cube_Square\n",
            "0        1        1      1                2\n",
            "1        2        4      8               12\n",
            "2        3        9     27               36\n",
            "3        4       16     64               80\n",
            "4        5       25    125              150\n"
          ]
        }
      ]
    },
    {
      "cell_type": "markdown",
      "source": [],
      "metadata": {
        "id": "v0Vj1Bmv-SGT"
      }
    }
  ]
}