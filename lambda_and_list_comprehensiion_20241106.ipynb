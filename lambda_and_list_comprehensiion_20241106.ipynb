{
  "nbformat": 4,
  "nbformat_minor": 0,
  "metadata": {
    "colab": {
      "provenance": [],
      "authorship_tag": "ABX9TyPUIf15Gh9rhCKD7sZXGSXs",
      "include_colab_link": true
    },
    "kernelspec": {
      "name": "python3",
      "display_name": "Python 3"
    },
    "language_info": {
      "name": "python"
    }
  },
  "cells": [
    {
      "cell_type": "markdown",
      "metadata": {
        "id": "view-in-github",
        "colab_type": "text"
      },
      "source": [
        "<a href=\"https://colab.research.google.com/github/szh141/Examples/blob/main/lambda_and_list_comprehensiion_20241106.ipynb\" target=\"_parent\"><img src=\"https://colab.research.google.com/assets/colab-badge.svg\" alt=\"Open In Colab\"/></a>"
      ]
    },
    {
      "cell_type": "markdown",
      "source": [
        "https://cycoderx.medium.com/the-magic-of-lambda-%CE%BB-functions-b81aab917597"
      ],
      "metadata": {
        "id": "KXoieRnMU5cb"
      }
    },
    {
      "cell_type": "code",
      "execution_count": 2,
      "metadata": {
        "colab": {
          "base_uri": "https://localhost:8080/"
        },
        "id": "HalDHkmjUwOd",
        "outputId": "5a6ba044-8821-43ba-d8ce-196a21f955ad"
      },
      "outputs": [
        {
          "output_type": "stream",
          "name": "stdout",
          "text": [
            "[2, 6, 10]\n"
          ]
        }
      ],
      "source": [
        "# transforming data\n",
        "\n",
        "numbers = [1, 2, 3, 4, 5, 6]\n",
        "filtered_and_doubled = list(map(lambda x: x * 2, filter(lambda x: x % 2 != 0, numbers)))\n",
        "print(filtered_and_doubled)"
      ]
    },
    {
      "cell_type": "code",
      "source": [
        "# sorting\n",
        "\n",
        "employees = [\n",
        "    {\"name\": \"Alice\", \"age\": 30},\n",
        "    {\"name\": \"Bob\", \"age\": 25},\n",
        "    {\"name\": \"Charlie\", \"age\": 35}\n",
        "]\n",
        "sorted_employees = sorted(employees, key=lambda x: x['age'])\n",
        "print(sorted_employees)"
      ],
      "metadata": {
        "colab": {
          "base_uri": "https://localhost:8080/"
        },
        "id": "1NuAizY67a8P",
        "outputId": "c9ae204d-359c-418e-9ad1-b80cf53c2d96"
      },
      "execution_count": 3,
      "outputs": [
        {
          "output_type": "stream",
          "name": "stdout",
          "text": [
            "[{'name': 'Bob', 'age': 25}, {'name': 'Alice', 'age': 30}, {'name': 'Charlie', 'age': 35}]\n"
          ]
        }
      ]
    },
    {
      "cell_type": "code",
      "source": [
        "# Pandas df.apply()\n",
        "\n",
        "import pandas as pd\n",
        "\n",
        "data = {'Name': ['Alice', 'Bob', 'Charlie'], 'Age': [25, 30, 35]}\n",
        "df = pd.DataFrame(data)\n",
        "df['Age in 5 Years'] = df['Age'].apply(lambda x: x + 5)\n",
        "print(df)"
      ],
      "metadata": {
        "colab": {
          "base_uri": "https://localhost:8080/"
        },
        "id": "m3Qtx5mV7kmO",
        "outputId": "85bcadf2-500c-4376-8516-26ff5d520086"
      },
      "execution_count": 4,
      "outputs": [
        {
          "output_type": "stream",
          "name": "stdout",
          "text": [
            "      Name  Age  Age in 5 Years\n",
            "0    Alice   25              30\n",
            "1      Bob   30              35\n",
            "2  Charlie   35              40\n"
          ]
        }
      ]
    },
    {
      "cell_type": "code",
      "source": [
        "# Inline Functions in List Comprehensions\n",
        "\n",
        "squares = [(lambda x: x**2)(x) for x in range(10)]\n",
        "print(squares)  # Output: [0, 1, 4, 9, 16, 25, 36, 49, 64, 81]\n"
      ],
      "metadata": {
        "colab": {
          "base_uri": "https://localhost:8080/"
        },
        "id": "wq6PYnJ47uvm",
        "outputId": "6458bd84-4b99-4a26-c8e0-19a87fd44ee2"
      },
      "execution_count": 5,
      "outputs": [
        {
          "output_type": "stream",
          "name": "stdout",
          "text": [
            "[0, 1, 4, 9, 16, 25, 36, 49, 64, 81]\n"
          ]
        }
      ]
    },
    {
      "cell_type": "markdown",
      "source": [
        "list comprehension cheat sheet\n",
        "https://pythonflood.com/python-list-comprehension-create-dynamic-lists-with-ease-e83f4c9f1209"
      ],
      "metadata": {
        "id": "P1Wmh3lh7915"
      }
    }
  ]
}